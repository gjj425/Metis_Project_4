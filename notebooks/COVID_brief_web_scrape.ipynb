{
 "cells": [
  {
   "cell_type": "code",
   "execution_count": 2,
   "metadata": {},
   "outputs": [],
   "source": [
    "import pandas as pd\n",
    "import numpy as np\n",
    "from bs4 import BeautifulSoup\n",
    "import requests\n",
    "import re"
   ]
  },
  {
   "cell_type": "code",
   "execution_count": 4,
   "metadata": {},
   "outputs": [],
   "source": [
    "urls = ['https://www.rev.com/blog/transcript-tag/andrew-cuomo-transcripts']\n",
    "for page in range(2, 13):\n",
    "    url = f'https://www.rev.com/blog/transcript-tag/andrew-cuomo-transcripts/page/{page}'\n",
    "    urls.append(url)"
   ]
  },
  {
   "cell_type": "code",
   "execution_count": 5,
   "metadata": {},
   "outputs": [
    {
     "data": {
      "text/plain": [
       "'https://www.rev.com/blog/transcript-tag/andrew-cuomo-transcripts/page/12'"
      ]
     },
     "execution_count": 5,
     "metadata": {},
     "output_type": "execute_result"
    }
   ],
   "source": [
    "url"
   ]
  },
  {
   "cell_type": "code",
   "execution_count": 6,
   "metadata": {},
   "outputs": [],
   "source": [
    "response = requests.get(url)\n",
    "page = response.text"
   ]
  },
  {
   "cell_type": "code",
   "execution_count": 7,
   "metadata": {},
   "outputs": [],
   "source": [
    "soup = BeautifulSoup(page, 'html5lib')"
   ]
  },
  {
   "cell_type": "code",
   "execution_count": 19,
   "metadata": {},
   "outputs": [],
   "source": [
    "link_list = []\n",
    "for url in urls: \n",
    "    response = requests.get(url)\n",
    "    page = response.text\n",
    "    soup = BeautifulSoup(page, 'html5lib')\n",
    "    head = soup.find('div', class_=\"fl-post-column\")\n",
    "    link = head.find('a')['href']\n",
    "    link_list.append(link)\n",
    "    while head.findNext('div', class_='fl-post-column') != None:\n",
    "        head = head.findNext('div', class_='fl-post-column')\n",
    "        link = head.find('a')['href']\n",
    "        link_list.append(link)\n",
    "        "
   ]
  },
  {
   "cell_type": "code",
   "execution_count": 56,
   "metadata": {},
   "outputs": [
    {
     "data": {
      "text/plain": [
       "[(0,\n",
       "  'https://www.rev.com/blog/transcripts/new-york-gov-andrew-cuomo-press-conference-transcript-october-26'),\n",
       " (1,\n",
       "  'https://www.rev.com/blog/transcripts/new-york-gov-andrew-cuomo-press-conference-transcript-october-21'),\n",
       " (2,\n",
       "  'https://www.rev.com/blog/transcripts/ny-gov-andrew-cuomo-teleconference-briefing-transcript-october-20'),\n",
       " (3,\n",
       "  'https://www.rev.com/blog/transcripts/new-york-gov-andrew-cuomo-press-conference-transcript-october-18'),\n",
       " (4,\n",
       "  'https://www.rev.com/blog/transcripts/ny-gov-andrew-cuomo-conference-call-transcript-october-14'),\n",
       " (5,\n",
       "  'https://www.rev.com/blog/transcripts/ny-gov-andrew-cuomo-conference-call-transcript-october-9'),\n",
       " (6,\n",
       "  'https://www.rev.com/blog/transcripts/new-york-gov-andrew-cuomo-press-conference-transcript-october-6'),\n",
       " (7,\n",
       "  'https://www.rev.com/blog/transcripts/new-york-gov-andrew-cuomo-press-conference-transcript-october-5'),\n",
       " (8,\n",
       "  'https://www.rev.com/blog/transcripts/ny-gov-andrew-cuomo-conference-call-transcript-october-1'),\n",
       " (9,\n",
       "  'https://www.rev.com/blog/transcripts/new-york-gov-andrew-cuomo-press-conference-transcript-september-29'),\n",
       " (10,\n",
       "  'https://www.rev.com/blog/transcripts/new-york-gov-andrew-cuomo-press-conference-transcript-september-24'),\n",
       " (11,\n",
       "  'https://www.rev.com/blog/transcripts/ny-gov-andrew-cuomo-conference-call-transcript-september-21'),\n",
       " (12,\n",
       "  'https://www.rev.com/blog/transcripts/andrew-cuomo-covid-19-announcement-transcript-september-16'),\n",
       " (13,\n",
       "  'https://www.rev.com/blog/transcripts/new-york-gov-andrew-cuomo-press-conference-transcript-september-9'),\n",
       " (14,\n",
       "  'https://www.rev.com/blog/transcripts/new-york-gov-andrew-cuomo-press-conference-transcript-september-8'),\n",
       " (15,\n",
       "  'https://www.rev.com/blog/transcripts/ny-gov-andrew-cuomo-conference-call-transcript-september-3'),\n",
       " (16,\n",
       "  'https://www.rev.com/blog/transcripts/ny-gov-andrew-cuomo-conference-call-transcript-august-31'),\n",
       " (17,\n",
       "  'https://www.rev.com/blog/transcripts/ny-gov-andrew-cuomo-conference-call-transcript-august-27'),\n",
       " (18,\n",
       "  'https://www.rev.com/blog/transcripts/ny-gov-andrew-cuomo-conference-call-transcript-august-26'),\n",
       " (19,\n",
       "  'https://www.rev.com/blog/transcripts/ny-governor-cuomo-covid-19-press-conference-transcript-august-24'),\n",
       " (20,\n",
       "  'https://www.rev.com/blog/transcripts/ny-gov-andrew-cuomo-conference-call-transcript-august-19'),\n",
       " (21,\n",
       "  'https://www.rev.com/blog/transcripts/ny-gov-andrew-cuomo-dnc-speech-transcript'),\n",
       " (22,\n",
       "  'https://www.rev.com/blog/transcripts/ny-governor-cuomo-covid-19-press-conference-transcript-august-17'),\n",
       " (23,\n",
       "  'https://www.rev.com/blog/transcripts/ny-gov-andrew-cuomo-conference-call-transcript-august-14'),\n",
       " (24,\n",
       "  'https://www.rev.com/blog/transcripts/ny-gov-andrew-cuomo-conference-call-transcript-august-7-opening-schools'),\n",
       " (25,\n",
       "  'https://www.rev.com/blog/transcripts/andrew-cuomo-remarks-national-governors-association-transcript-august-5'),\n",
       " (26,\n",
       "  'https://www.rev.com/blog/transcripts/ny-governor-cuomo-covid-19-press-conference-transcript-august-3'),\n",
       " (27,\n",
       "  'https://www.rev.com/blog/transcripts/ny-governor-cuomo-covid-19-press-conference-transcript-july-24'),\n",
       " (28,\n",
       "  'https://www.rev.com/blog/transcripts/ny-governor-cuomo-covid-19-press-conference-transcript-july-23'),\n",
       " (29,\n",
       "  'https://www.rev.com/blog/transcripts/ny-governor-cuomo-covid-19-press-conference-transcript-july-20'),\n",
       " (30,\n",
       "  'https://www.rev.com/blog/transcripts/ny-governor-andrew-cuomo-july-8-press-conference-transcript'),\n",
       " (31,\n",
       "  'https://www.rev.com/blog/transcripts/ny-governor-andrew-cuomo-july-6-press-conference-transcript'),\n",
       " (32,\n",
       "  'https://www.rev.com/blog/transcripts/ny-governor-andrew-cuomo-july-1-press-conference-transcript'),\n",
       " (33,\n",
       "  'https://www.rev.com/blog/transcripts/ny-governor-andrew-cuomo-june-29-press-conference-transcript'),\n",
       " (34,\n",
       "  'https://www.rev.com/blog/transcripts/governors-cuomo-lamont-and-murphy-of-ny-ct-nj-covid-19-quarantine-plan-press-conference'),\n",
       " (35,\n",
       "  'https://www.rev.com/blog/transcripts/ny-governor-andrew-cuomo-june-19-press-conference-transcript'),\n",
       " (36,\n",
       "  'https://www.rev.com/blog/transcripts/ny-governor-andrew-cuomo-june-18-press-conference-transcript'),\n",
       " (37,\n",
       "  'https://www.rev.com/blog/transcripts/ny-governor-andrew-cuomo-june-17-press-conference-transcript'),\n",
       " (38,\n",
       "  'https://www.rev.com/blog/transcripts/ny-governor-andrew-cuomo-june-16-press-conference-transcript'),\n",
       " (39,\n",
       "  'https://www.rev.com/blog/transcripts/ny-governor-andrew-cuomo-june-15-press-conference-transcript'),\n",
       " (40,\n",
       "  'https://www.rev.com/blog/transcripts/ny-governor-andrew-cuomo-june-14-press-conference-transcript'),\n",
       " (41,\n",
       "  'https://www.rev.com/blog/transcripts/ny-governor-andrew-cuomo-june-12-press-conference-transcript'),\n",
       " (42,\n",
       "  'https://www.rev.com/blog/transcripts/ny-governor-andrew-cuomo-june-11-press-conference-transcript'),\n",
       " (43,\n",
       "  'https://www.rev.com/blog/transcripts/ny-governor-andrew-cuomo-june-10-press-conference-transcript'),\n",
       " (44,\n",
       "  'https://www.rev.com/blog/transcripts/ny-governor-andrew-cuomo-june-9-press-conference-transcript'),\n",
       " (45,\n",
       "  'https://www.rev.com/blog/transcripts/ny-governor-andrew-cuomo-june-8-press-conference-transcript'),\n",
       " (46,\n",
       "  'https://www.rev.com/blog/transcripts/ny-governor-andrew-cuomo-june-7-press-conference-transcript'),\n",
       " (47,\n",
       "  'https://www.rev.com/blog/transcripts/ny-governor-andrew-cuomo-june-4-press-conference-transcript'),\n",
       " (48,\n",
       "  'https://www.rev.com/blog/transcripts/ny-governor-andrew-cuomo-june-3-press-conference-transcript'),\n",
       " (49,\n",
       "  'https://www.rev.com/blog/transcripts/ny-governor-andrew-cuomo-june-2-press-conference-transcript'),\n",
       " (50,\n",
       "  'https://www.rev.com/blog/transcripts/ny-governor-andrew-cuomo-june-1-press-conference-transcript'),\n",
       " (51,\n",
       "  'https://www.rev.com/blog/transcripts/ny-governor-andrew-cuomo-may-31-press-conference-transcript'),\n",
       " (52,\n",
       "  'https://www.rev.com/blog/transcripts/ny-governor-andrew-cuomo-may-29-press-conference-transcript'),\n",
       " (53,\n",
       "  'https://www.rev.com/blog/transcripts/ny-governor-andrew-cuomo-may-28-press-conference-transcript-chris-rock-rosie-perez'),\n",
       " (54,\n",
       "  'https://www.rev.com/blog/transcripts/ny-governor-andrew-cuomo-may-27-press-conference-transcript'),\n",
       " (55,\n",
       "  'https://www.rev.com/blog/transcripts/ny-governor-andrew-cuomo-may-26-press-conference-transcript'),\n",
       " (56,\n",
       "  'https://www.rev.com/blog/transcripts/ny-governor-andrew-cuomo-memorial-day-press-conference-transcript'),\n",
       " (57,\n",
       "  'https://www.rev.com/blog/transcripts/andrew-cuomo-new-york-may-24-covid-19-press-conference-transcript'),\n",
       " (58,\n",
       "  'https://www.rev.com/blog/transcripts/andrew-cuomo-new-york-may-22-covid-19-press-conference-transcript'),\n",
       " (59,\n",
       "  'https://www.rev.com/blog/transcripts/andrew-cuomo-new-york-may-21-covid-19-press-conference-transcript'),\n",
       " (60,\n",
       "  'https://www.rev.com/blog/transcripts/andrew-cuomo-new-york-may-20-covid-19-press-conference-transcript'),\n",
       " (61,\n",
       "  'https://www.rev.com/blog/transcripts/andrew-cuomo-new-york-may-19-covid-19-press-conference-transcript-2'),\n",
       " (62,\n",
       "  'https://www.rev.com/blog/transcripts/andrew-cuomo-new-york-may-18-covid-19-press-conference-transcript'),\n",
       " (63,\n",
       "  'https://www.rev.com/blog/transcripts/andrew-cuomo-new-york-may-17-covid-19-press-conference-transcript'),\n",
       " (64,\n",
       "  'https://www.rev.com/blog/transcripts/andrew-cuomo-new-york-may-16-covid-19-press-conference-transcript'),\n",
       " (65,\n",
       "  'https://www.rev.com/blog/transcripts/andrew-cuomo-new-york-may-15-covid-19-press-conference-transcript'),\n",
       " (66,\n",
       "  'https://www.rev.com/blog/transcripts/andrew-cuomo-new-york-covid-19-press-conference-transcript-may-14'),\n",
       " (67,\n",
       "  'https://www.rev.com/blog/transcripts/andrew-cuomo-new-york-covid-19-press-conference-transcript-may-13'),\n",
       " (68,\n",
       "  'https://www.rev.com/blog/transcripts/andrew-cuomo-new-york-covid-19-press-conference-transcript-may-12'),\n",
       " (69,\n",
       "  'https://www.rev.com/blog/transcripts/andrew-cuomo-new-york-covid-19-press-conference-transcript-may-11'),\n",
       " (70,\n",
       "  'https://www.rev.com/blog/transcripts/andrew-cuomo-new-york-covid-19-press-conference-transcript-may-8'),\n",
       " (71,\n",
       "  'https://www.rev.com/blog/transcripts/andrew-cuomo-new-york-coronavirus-briefing-transcript-may-7'),\n",
       " (72,\n",
       "  'https://www.rev.com/blog/transcripts/andrew-cuomo-new-york-covid-19-briefing-transcript-may-6'),\n",
       " (73,\n",
       "  'https://www.rev.com/blog/transcripts/andrew-cuomo-new-york-covid-19-briefing-transcript-may-5'),\n",
       " (74,\n",
       "  'https://www.rev.com/blog/transcripts/andrew-cuomo-new-york-covid-19-briefing-transcript-may-4'),\n",
       " (75,\n",
       "  'https://www.rev.com/blog/transcripts/andrew-cuomo-new-york-covid-19-briefing-transcript-may-3'),\n",
       " (76,\n",
       "  'https://www.rev.com/blog/transcripts/andrew-cuomo-new-york-covid-19-briefing-transcript-may-2'),\n",
       " (77,\n",
       "  'https://www.rev.com/blog/transcripts/andrew-cuomo-new-york-covid-19-briefing-transcript-may-1'),\n",
       " (78,\n",
       "  'https://www.rev.com/blog/transcripts/andrew-cuomo-new-york-covid-19-briefing-transcript-april-30'),\n",
       " (79,\n",
       "  'https://www.rev.com/blog/transcripts/andrew-cuomo-new-york-covid-19-briefing-transcript-april-29'),\n",
       " (80,\n",
       "  'https://www.rev.com/blog/transcripts/andrew-cuomo-new-york-covid-19-briefing-transcript-april-28'),\n",
       " (81,\n",
       "  'https://www.rev.com/blog/transcripts/andrew-cuomo-new-york-covid-19-briefing-transcript-april-27'),\n",
       " (82,\n",
       "  'https://www.rev.com/blog/transcripts/andrew-cuomo-new-york-covid-19-briefing-transcript-april-26'),\n",
       " (83,\n",
       "  'https://www.rev.com/blog/transcripts/andrew-cuomo-new-york-covid-19-briefing-transcript-april-25'),\n",
       " (84,\n",
       "  'https://www.rev.com/blog/transcripts/andrew-cuomo-new-york-covid-19-briefing-transcript-april-24'),\n",
       " (85,\n",
       "  'https://www.rev.com/blog/transcripts/andrew-cuomo-new-york-covid-19-briefing-transcript-april-23'),\n",
       " (86,\n",
       "  'https://www.rev.com/blog/transcripts/andrew-cuomo-new-york-covid-19-briefing-transcript-april-22'),\n",
       " (87,\n",
       "  'https://www.rev.com/blog/transcripts/andrew-cuomo-new-york-covid-19-briefing-transcript-april-21'),\n",
       " (88,\n",
       "  'https://www.rev.com/blog/transcripts/andrew-cuomo-new-york-covid-19-briefing-transcript-april-20'),\n",
       " (89,\n",
       "  'https://www.rev.com/blog/transcripts/andrew-cuomo-new-york-covid-19-briefing-transcript-april-19'),\n",
       " (90,\n",
       "  'https://www.rev.com/blog/transcripts/andrew-cuomo-new-york-covid-19-briefing-transcript-april-18'),\n",
       " (91,\n",
       "  'https://www.rev.com/blog/transcripts/andrew-cuomo-new-york-covid-19-briefing-transcript-april-17'),\n",
       " (92,\n",
       "  'https://www.rev.com/blog/transcripts/andrew-cuomo-new-york-covid-19-briefing-transcript-april-16'),\n",
       " (93,\n",
       "  'https://www.rev.com/blog/transcripts/andrew-cuomo-new-york-covid-19-briefing-transcript-april-15'),\n",
       " (94,\n",
       "  'https://www.rev.com/blog/transcripts/andrew-cuomo-new-york-covid-19-press-conference-april-14'),\n",
       " (95,\n",
       "  'https://www.rev.com/blog/transcripts/transcript-governors-of-ny-nj-ct-ri-pa-and-de-joint-conference-on-re-opening-plan'),\n",
       " (96,\n",
       "  'https://www.rev.com/blog/transcripts/governor-andrew-cuomo-new-york-coronavirus-briefing-transcript-april-13'),\n",
       " (97,\n",
       "  'https://www.rev.com/blog/transcripts/andrew-cuomo-new-york-covid-19-briefing-april-12'),\n",
       " (98,\n",
       "  'https://www.rev.com/blog/transcripts/andrew-cuomo-new-york-covid-19-briefing-transcript-april-10'),\n",
       " (99,\n",
       "  'https://www.rev.com/blog/transcripts/gov-andrew-cuomo-ny-covid-19-press-conference-april-9'),\n",
       " (100,\n",
       "  'https://www.rev.com/blog/transcripts/governor-andrew-cuomo-ny-covid-19-briefing-transcript-april-8'),\n",
       " (101,\n",
       "  'https://www.rev.com/blog/transcripts/gov-andrew-cuomo-new-york-covid-19-briefing-april-7'),\n",
       " (102,\n",
       "  'https://www.rev.com/blog/transcripts/gov-andrew-cuomo-new-york-covid-19-briefing-transcript-april-6'),\n",
       " (103,\n",
       "  'https://www.rev.com/blog/transcripts/governor-andrew-cuomo-covid-19-briefing-april-5-hospitalizations-dropping-in-ny'),\n",
       " (104,\n",
       "  'https://www.rev.com/blog/transcripts/andrew-cuomo-covid-19-briefing-transcript-april-4-china-donating-1000-ventilators-to-ny'),\n",
       " (105,\n",
       "  'https://www.rev.com/blog/transcripts/gov-andrew-cuomo-new-york-covid-19-briefing-april-3-ny-passes-100000-cases'),\n",
       " (106,\n",
       "  'https://www.rev.com/blog/transcripts/governor-andrew-cuomo-new-york-update-briefing-transcript-april-2-talks-to-brother-chris-cuomo'),\n",
       " (107,\n",
       "  'https://www.rev.com/blog/transcripts/andrew-cuomo-new-york-coronavirus-briefing-transcript-april-1'),\n",
       " (108,\n",
       "  'https://www.rev.com/blog/transcripts/governor-andrew-cuomo-ny-covid-19-briefing-transcript-march-31-discusses-his-brother-chris-cuomos-coronavirus-diagnosis'),\n",
       " (109,\n",
       "  'https://www.rev.com/blog/transcripts/governor-andrew-cuomo-new-york-covid-19-press-conference-transcript-march-30'),\n",
       " (110,\n",
       "  'https://www.rev.com/blog/transcripts/ny-governor-andrew-cuomo-press-conference-transcript-march-29'),\n",
       " (111,\n",
       "  'https://www.rev.com/blog/transcripts/governor-andrew-cuomo-new-york-coronavirus-briefing-transcript-march-28-pushes-back-ny-primary'),\n",
       " (112,\n",
       "  'https://www.rev.com/blog/transcripts/andrew-cuomo-new-york-coronavirus-briefing-march-27-says-trump-is-grossly-misinformed-on-ventilators'),\n",
       " (113,\n",
       "  'https://www.rev.com/blog/transcripts/governor-andrew-cuomo-new-york-coronavirus-press-conference-transcript'),\n",
       " (114,\n",
       "  'https://www.rev.com/blog/transcripts/governor-andrew-cuomo-coronavirus-briefing-march-25-calls-senate-bill-drop-in-the-bucket'),\n",
       " (115,\n",
       "  'https://www.rev.com/blog/transcripts/andrew-cuomo-coronavirus-briefing-march-24-governor-criticizes-fema-says-curve-isnt-flattening-in-fiery-conference'),\n",
       " (116,\n",
       "  'https://www.rev.com/blog/transcripts/governor-andrew-cuomo-coronavirus-briefing-transcript-march-23'),\n",
       " (117,\n",
       "  'https://www.rev.com/blog/transcripts/andrew-cuomo-orders-new-york-on-pause-transcript-of-march-20-briefing'),\n",
       " (118,\n",
       "  'https://www.rev.com/blog/transcripts/andrew-cuomo-march-19-coronavirus-briefing-orders-75-of-new-yorkers-to-stay-home-from-work'),\n",
       " (119,\n",
       "  'https://www.rev.com/blog/transcripts/andrew-cuomo-new-york-coronavirus-news-briefing-march-18'),\n",
       " (120,\n",
       "  'https://www.rev.com/blog/transcripts/andrew-cuomo-new-york-coronavirus-briefing-transcript-march-17'),\n",
       " (121,\n",
       "  'https://www.rev.com/blog/transcripts/andrew-cuomo-new-york-coronavirus-press-conference-transcript-march-16'),\n",
       " (122,\n",
       "  'https://www.rev.com/blog/transcripts/new-york-governor-andrew-cuomo-coronavirus-update-transcript-march-10')]"
      ]
     },
     "execution_count": 56,
     "metadata": {},
     "output_type": "execute_result"
    }
   ],
   "source": [
    "list(enumerate(link_list))"
   ]
  },
  {
   "cell_type": "code",
   "execution_count": 77,
   "metadata": {},
   "outputs": [
    {
     "name": "stdout",
     "output_type": "stream",
     "text": [
      "1\n",
      "2\n",
      "3\n",
      "4\n",
      "5\n",
      "6\n",
      "7\n",
      "8\n",
      "9\n",
      "10\n",
      "11\n",
      "12\n",
      "13\n",
      "14\n",
      "15\n",
      "16\n",
      "17\n",
      "18\n",
      "19\n",
      "20\n",
      "21\n",
      "22\n",
      "23\n",
      "24\n",
      "25\n",
      "26\n",
      "27\n",
      "28\n",
      "29\n",
      "30\n",
      "31\n",
      "32\n",
      "33\n",
      "34\n",
      "35\n",
      "36\n",
      "37\n",
      "38\n",
      "39\n",
      "40\n",
      "41\n",
      "42\n",
      "43\n",
      "44\n",
      "45\n",
      "46\n",
      "47\n",
      "48\n",
      "49\n",
      "50\n",
      "51\n",
      "52\n",
      "53\n",
      "54\n",
      "55\n",
      "56\n",
      "57\n",
      "58\n",
      "59\n",
      "60\n",
      "61\n",
      "62\n",
      "63\n",
      "64\n",
      "65\n",
      "66\n",
      "67\n",
      "68\n",
      "69\n",
      "70\n",
      "71\n",
      "72\n",
      "73\n",
      "74\n",
      "75\n",
      "76\n",
      "77\n",
      "78\n",
      "79\n",
      "80\n",
      "81\n",
      "82\n",
      "83\n",
      "84\n",
      "85\n",
      "86\n",
      "87\n",
      "88\n",
      "89\n",
      "90\n",
      "91\n",
      "92\n",
      "93\n",
      "94\n",
      "95\n",
      "96\n",
      "97\n",
      "98\n",
      "99\n",
      "100\n",
      "101\n",
      "102\n",
      "103\n",
      "104\n",
      "105\n",
      "106\n",
      "107\n",
      "108\n",
      "109\n",
      "110\n",
      "111\n",
      "112\n",
      "113\n",
      "114\n",
      "115\n",
      "116\n",
      "117\n",
      "118\n",
      "119\n",
      "120\n",
      "121\n",
      "122\n",
      "123\n"
     ]
    }
   ],
   "source": [
    "text_df = []\n",
    "count=0\n",
    "for link in link_list:\n",
    "    response = requests.get(link)\n",
    "    page = response.text\n",
    "    soup = BeautifulSoup(page, 'html5lib')\n",
    "    date = soup.find('div', class_='fl-rich-text').find('p').text\n",
    "    head = soup.find('div', class_ = 'fl-callout-text') \n",
    "    paragraph = head.find('p')\n",
    "    vid_link = paragraph.find('a')['href']\n",
    "    paragraph_text = paragraph.text\n",
    "    par_split = paragraph_text.split(\": (\")\n",
    "    par_split_again = par_split[1].split(')\\n')\n",
    "    item = [link, vid_link, date, par_split[0], par_split_again[0], par_split_again[1]]\n",
    "    text_df.append(item)\n",
    "    count+=1\n",
    "    print(count)\n",
    "    try:\n",
    "        while (paragraph.findNext('p')!=None) & (paragraph.findNext('p').find('a')['href']!=None):\n",
    "            paragraph = paragraph.findNext('p')\n",
    "            vid_link = paragraph.find('a')['href']\n",
    "            paragraph_text = paragraph.text\n",
    "            par_split = paragraph_text.split(\": (\")\n",
    "            par_split_again = par_split[1].split(')\\n')\n",
    "            try:\n",
    "                item = [link, vid_link, date, par_split[0], par_split_again[0], par_split_again[1]]\n",
    "            except IndexError:\n",
    "                item = [link, vid_link, date, par_split[0], par_split_again[0], \"\"]\n",
    "            text_df.append(item)\n",
    "    except TypeError:\n",
    "        None"
   ]
  },
  {
   "cell_type": "code",
   "execution_count": 139,
   "metadata": {},
   "outputs": [],
   "source": [
    "df = pd.DataFrame(text_df, columns = ['url', 'url_time', 'date', 'speaker', 'time', 'text']).copy()"
   ]
  },
  {
   "cell_type": "code",
   "execution_count": 140,
   "metadata": {},
   "outputs": [],
   "source": [
    "df['datetime']=pd.to_datetime(df['date'])"
   ]
  },
  {
   "cell_type": "code",
   "execution_count": 141,
   "metadata": {},
   "outputs": [],
   "source": [
    "df_per_comment = df.copy()"
   ]
  },
  {
   "cell_type": "code",
   "execution_count": 142,
   "metadata": {},
   "outputs": [],
   "source": [
    "df_per_day = df[['url', 'date', 'datetime', 'text', 'speaker']].copy()"
   ]
  },
  {
   "cell_type": "code",
   "execution_count": 143,
   "metadata": {},
   "outputs": [],
   "source": [
    "df_per_day['speaker_text'] = df_per_day['speaker'].values+' '+df_per_day['text'].values"
   ]
  },
  {
   "cell_type": "code",
   "execution_count": 144,
   "metadata": {},
   "outputs": [],
   "source": [
    "df_per_day.drop(['text', 'speaker', 'date'], axis=1, inplace=True)"
   ]
  },
  {
   "cell_type": "code",
   "execution_count": 145,
   "metadata": {},
   "outputs": [],
   "source": [
    "df_day_ag = df_per_day.groupby(['url', 'datetime']).sum()"
   ]
  },
  {
   "cell_type": "code",
   "execution_count": 125,
   "metadata": {},
   "outputs": [],
   "source": [
    "df_day_ag.to_csv('/Users/gavin/Documents/Metis/coursework/project_4/dataframes/daily_agg.csv')"
   ]
  },
  {
   "cell_type": "code",
   "execution_count": 126,
   "metadata": {},
   "outputs": [],
   "source": [
    "df_per_comment.to_csv('/Users/gavin/documents/metis/coursework/project_4/dataframes/per_comment.csv')"
   ]
  },
  {
   "cell_type": "code",
   "execution_count": 146,
   "metadata": {},
   "outputs": [],
   "source": [
    "df_per_month = df.copy()"
   ]
  },
  {
   "cell_type": "code",
   "execution_count": 147,
   "metadata": {},
   "outputs": [],
   "source": [
    "df_per_month.drop(['url','url_time', 'date', 'speaker', 'time'], axis = 1, inplace = True)"
   ]
  },
  {
   "cell_type": "code",
   "execution_count": 148,
   "metadata": {},
   "outputs": [],
   "source": [
    "df_per_month['month'] = df_per_month.datetime.dt.month"
   ]
  },
  {
   "cell_type": "code",
   "execution_count": 149,
   "metadata": {},
   "outputs": [],
   "source": [
    "df_per_month.drop('datetime', axis=1, inplace = True)"
   ]
  },
  {
   "cell_type": "code",
   "execution_count": 172,
   "metadata": {},
   "outputs": [],
   "source": [
    "df_per_month['text_fix']=df_per_month['text']+' '"
   ]
  },
  {
   "cell_type": "code",
   "execution_count": 173,
   "metadata": {},
   "outputs": [],
   "source": [
    "df_per_month['text'] = df_per_month['text_fix']\n",
    "df_per_month.drop('text_fix', axis=1, inplace=True)"
   ]
  },
  {
   "cell_type": "code",
   "execution_count": 174,
   "metadata": {},
   "outputs": [],
   "source": [
    "df_per_month = df_per_month.groupby('month').sum()"
   ]
  },
  {
   "cell_type": "code",
   "execution_count": 182,
   "metadata": {},
   "outputs": [],
   "source": [
    "df_per_month.to_csv('/Users/gavin/documents/metis/coursework/project_4/dataframes/text_by_month.csv')"
   ]
  },
  {
   "cell_type": "code",
   "execution_count": 152,
   "metadata": {},
   "outputs": [],
   "source": [
    "df_per_week = df.copy()"
   ]
  },
  {
   "cell_type": "code",
   "execution_count": 154,
   "metadata": {},
   "outputs": [],
   "source": [
    "df_per_week.drop(['url', 'url_time', 'date', 'speaker', 'time'], axis=1, inplace = True)"
   ]
  },
  {
   "cell_type": "code",
   "execution_count": 170,
   "metadata": {},
   "outputs": [],
   "source": [
    "df_per_week['week']=df_per_week.datetime.dt.strftime(\"%V\")"
   ]
  },
  {
   "cell_type": "code",
   "execution_count": 177,
   "metadata": {},
   "outputs": [],
   "source": [
    "df_per_week['text'] = df_per_week['text']+' '"
   ]
  },
  {
   "cell_type": "code",
   "execution_count": 178,
   "metadata": {},
   "outputs": [],
   "source": [
    "df_per_week = df_per_week.groupby('week').sum()"
   ]
  },
  {
   "cell_type": "code",
   "execution_count": 179,
   "metadata": {},
   "outputs": [
    {
     "data": {
      "text/html": [
       "<div>\n",
       "<style scoped>\n",
       "    .dataframe tbody tr th:only-of-type {\n",
       "        vertical-align: middle;\n",
       "    }\n",
       "\n",
       "    .dataframe tbody tr th {\n",
       "        vertical-align: top;\n",
       "    }\n",
       "\n",
       "    .dataframe thead th {\n",
       "        text-align: right;\n",
       "    }\n",
       "</style>\n",
       "<table border=\"1\" class=\"dataframe\">\n",
       "  <thead>\n",
       "    <tr style=\"text-align: right;\">\n",
       "      <th></th>\n",
       "      <th>text</th>\n",
       "    </tr>\n",
       "    <tr>\n",
       "      <th>week</th>\n",
       "      <th></th>\n",
       "    </tr>\n",
       "  </thead>\n",
       "  <tbody>\n",
       "    <tr>\n",
       "      <th>11</th>\n",
       "      <td>Good afternoon. It’s the little things, like m...</td>\n",
       "    </tr>\n",
       "    <tr>\n",
       "      <th>12</th>\n",
       "      <td>Happy Friday. Almost time for the weekend. Que...</td>\n",
       "    </tr>\n",
       "    <tr>\n",
       "      <th>13</th>\n",
       "      <td>Happy Sunday. It’s good see all your smiling f...</td>\n",
       "    </tr>\n",
       "    <tr>\n",
       "      <th>14</th>\n",
       "      <td>Good morning, happy Sunday. For those of you w...</td>\n",
       "    </tr>\n",
       "    <tr>\n",
       "      <th>15</th>\n",
       "      <td>In this beautiful day, let’s start with the go...</td>\n",
       "    </tr>\n",
       "  </tbody>\n",
       "</table>\n",
       "</div>"
      ],
      "text/plain": [
       "                                                   text\n",
       "week                                                   \n",
       "11    Good afternoon. It’s the little things, like m...\n",
       "12    Happy Friday. Almost time for the weekend. Que...\n",
       "13    Happy Sunday. It’s good see all your smiling f...\n",
       "14    Good morning, happy Sunday. For those of you w...\n",
       "15    In this beautiful day, let’s start with the go..."
      ]
     },
     "execution_count": 179,
     "metadata": {},
     "output_type": "execute_result"
    }
   ],
   "source": [
    "df_per_week.head()"
   ]
  },
  {
   "cell_type": "code",
   "execution_count": 181,
   "metadata": {},
   "outputs": [],
   "source": [
    "df_per_week.to_csv('/Users/gavin/documents/metis/coursework/project_4/dataframes/text_by_week.csv')"
   ]
  },
  {
   "cell_type": "code",
   "execution_count": null,
   "metadata": {},
   "outputs": [],
   "source": []
  }
 ],
 "metadata": {
  "kernelspec": {
   "display_name": "Python 3",
   "language": "python",
   "name": "python3"
  },
  "language_info": {
   "codemirror_mode": {
    "name": "ipython",
    "version": 3
   },
   "file_extension": ".py",
   "mimetype": "text/x-python",
   "name": "python",
   "nbconvert_exporter": "python",
   "pygments_lexer": "ipython3",
   "version": "3.8.3"
  }
 },
 "nbformat": 4,
 "nbformat_minor": 4
}
