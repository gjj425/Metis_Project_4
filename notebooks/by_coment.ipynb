{
 "cells": [
  {
   "cell_type": "code",
   "execution_count": 1,
   "metadata": {},
   "outputs": [],
   "source": [
    "import pandas as pd\n",
    "import nltk"
   ]
  },
  {
   "cell_type": "code",
   "execution_count": 2,
   "metadata": {},
   "outputs": [],
   "source": [
    "data = pd.read_csv('/Users/gavin/documents/metis/coursework/project_4/dataframes/per_comment.csv').drop('Unnamed: 0', axis=1)"
   ]
  },
  {
   "cell_type": "code",
   "execution_count": 3,
   "metadata": {},
   "outputs": [
    {
     "data": {
      "text/html": [
       "<div>\n",
       "<style scoped>\n",
       "    .dataframe tbody tr th:only-of-type {\n",
       "        vertical-align: middle;\n",
       "    }\n",
       "\n",
       "    .dataframe tbody tr th {\n",
       "        vertical-align: top;\n",
       "    }\n",
       "\n",
       "    .dataframe thead th {\n",
       "        text-align: right;\n",
       "    }\n",
       "</style>\n",
       "<table border=\"1\" class=\"dataframe\">\n",
       "  <thead>\n",
       "    <tr style=\"text-align: right;\">\n",
       "      <th></th>\n",
       "      <th>url</th>\n",
       "      <th>url_time</th>\n",
       "      <th>date</th>\n",
       "      <th>speaker</th>\n",
       "      <th>time</th>\n",
       "      <th>text</th>\n",
       "      <th>datetime</th>\n",
       "      <th>week</th>\n",
       "    </tr>\n",
       "  </thead>\n",
       "  <tbody>\n",
       "    <tr>\n",
       "      <th>0</th>\n",
       "      <td>https://www.rev.com/blog/transcripts/new-york-...</td>\n",
       "      <td>https://www.rev.com/transcript-editor/shared/0...</td>\n",
       "      <td>Oct 26, 2020</td>\n",
       "      <td>Andrew Cuomo</td>\n",
       "      <td>00:02</td>\n",
       "      <td>people who are with me on the dais  my far lef...</td>\n",
       "      <td>2020-10-26</td>\n",
       "      <td>44</td>\n",
       "    </tr>\n",
       "    <tr>\n",
       "      <th>1</th>\n",
       "      <td>https://www.rev.com/blog/transcripts/new-york-...</td>\n",
       "      <td>https://www.rev.com/transcript-editor/shared/0...</td>\n",
       "      <td>Oct 26, 2020</td>\n",
       "      <td>Andrew Cuomo</td>\n",
       "      <td>01:03</td>\n",
       "      <td>okay  today is day    but i had a revelation o...</td>\n",
       "      <td>2020-10-26</td>\n",
       "      <td>44</td>\n",
       "    </tr>\n",
       "    <tr>\n",
       "      <th>2</th>\n",
       "      <td>https://www.rev.com/blog/transcripts/new-york-...</td>\n",
       "      <td>https://www.rev.com/transcript-editor/shared/0...</td>\n",
       "      <td>Oct 26, 2020</td>\n",
       "      <td>Andrew Cuomo</td>\n",
       "      <td>02:31</td>\n",
       "      <td>we’re not going to control the pandemic  all w...</td>\n",
       "      <td>2020-10-26</td>\n",
       "      <td>44</td>\n",
       "    </tr>\n",
       "    <tr>\n",
       "      <th>3</th>\n",
       "      <td>https://www.rev.com/blog/transcripts/new-york-...</td>\n",
       "      <td>https://www.rev.com/transcript-editor/shared/0...</td>\n",
       "      <td>Oct 26, 2020</td>\n",
       "      <td>Andrew Cuomo</td>\n",
       "      <td>03:53</td>\n",
       "      <td>they’re watching what happened in china and it...</td>\n",
       "      <td>2020-10-26</td>\n",
       "      <td>44</td>\n",
       "    </tr>\n",
       "    <tr>\n",
       "      <th>4</th>\n",
       "      <td>https://www.rev.com/blog/transcripts/new-york-...</td>\n",
       "      <td>https://www.rev.com/transcript-editor/shared/0...</td>\n",
       "      <td>Oct 26, 2020</td>\n",
       "      <td>Andrew Cuomo</td>\n",
       "      <td>05:07</td>\n",
       "      <td>it was never  let’s keep the economy open vers...</td>\n",
       "      <td>2020-10-26</td>\n",
       "      <td>44</td>\n",
       "    </tr>\n",
       "  </tbody>\n",
       "</table>\n",
       "</div>"
      ],
      "text/plain": [
       "                                                 url  \\\n",
       "0  https://www.rev.com/blog/transcripts/new-york-...   \n",
       "1  https://www.rev.com/blog/transcripts/new-york-...   \n",
       "2  https://www.rev.com/blog/transcripts/new-york-...   \n",
       "3  https://www.rev.com/blog/transcripts/new-york-...   \n",
       "4  https://www.rev.com/blog/transcripts/new-york-...   \n",
       "\n",
       "                                            url_time          date  \\\n",
       "0  https://www.rev.com/transcript-editor/shared/0...  Oct 26, 2020   \n",
       "1  https://www.rev.com/transcript-editor/shared/0...  Oct 26, 2020   \n",
       "2  https://www.rev.com/transcript-editor/shared/0...  Oct 26, 2020   \n",
       "3  https://www.rev.com/transcript-editor/shared/0...  Oct 26, 2020   \n",
       "4  https://www.rev.com/transcript-editor/shared/0...  Oct 26, 2020   \n",
       "\n",
       "        speaker   time                                               text  \\\n",
       "0  Andrew Cuomo  00:02  people who are with me on the dais  my far lef...   \n",
       "1  Andrew Cuomo  01:03  okay  today is day    but i had a revelation o...   \n",
       "2  Andrew Cuomo  02:31  we’re not going to control the pandemic  all w...   \n",
       "3  Andrew Cuomo  03:53  they’re watching what happened in china and it...   \n",
       "4  Andrew Cuomo  05:07  it was never  let’s keep the economy open vers...   \n",
       "\n",
       "     datetime  week  \n",
       "0  2020-10-26    44  \n",
       "1  2020-10-26    44  \n",
       "2  2020-10-26    44  \n",
       "3  2020-10-26    44  \n",
       "4  2020-10-26    44  "
      ]
     },
     "execution_count": 3,
     "metadata": {},
     "output_type": "execute_result"
    }
   ],
   "source": [
    "# Text preprocessing steps - remove numbers, captial letters and punctuation\n",
    "import re\n",
    "import string\n",
    "\n",
    "alphanumeric = lambda x: re.sub('\\w*\\d\\w*', ' ', x)\n",
    "punc_lower = lambda x: re.sub('[%s]' % re.escape(string.punctuation), ' ', x.lower())\n",
    "to_string = lambda x: f'{x}'\n",
    "\n",
    "data['text'] = data.text.map(to_string).map(alphanumeric).map(punc_lower)\n",
    "data.head()"
   ]
  },
  {
   "cell_type": "code",
   "execution_count": 4,
   "metadata": {},
   "outputs": [],
   "source": [
    "from sklearn.feature_extraction import text\n",
    "from sklearn.feature_extraction.text import CountVectorizer, TfidfVectorizer\n",
    "import numpy as np"
   ]
  },
  {
   "cell_type": "code",
   "execution_count": 5,
   "metadata": {},
   "outputs": [],
   "source": [
    "my_stop_words = text.ENGLISH_STOP_WORDS.union(['hasn', 'covid','inaudible', 'way', 'different','today', 'mr', 'person', 'help', 'virus', 'going', 'like', 'people', 'said', 'know', 'doing', 'say','good', 'day', 'think', 'did', 'look', 'let', 'right', 've', 'i', 'll', 'new', 'city', 'york', 'state', 'm', 'don', 'come', 'time' 'inaudible','didn','yes','yeah','thing','sir','guys','crosstalk','hey' 'doesn','t','got','okay','hello', 'great', 'says', 'just', 'want','somebody', 'does','thank',  'week', 'make'])"
   ]
  },
  {
   "cell_type": "code",
   "execution_count": 6,
   "metadata": {},
   "outputs": [],
   "source": [
    "def doc_matrix(text_list, vectorizer):\n",
    "    vectorizer = vectorizer(stop_words=my_stop_words)\n",
    "    vectors = vectorizer.fit_transform(text_list)\n",
    "    return pd.DataFrame(vectors.toarray(), columns = vectorizer.get_feature_names())"
   ]
  },
  {
   "cell_type": "code",
   "execution_count": 7,
   "metadata": {},
   "outputs": [],
   "source": [
    "corpus = [comment for comment in data['text']]"
   ]
  },
  {
   "cell_type": "code",
   "execution_count": 8,
   "metadata": {},
   "outputs": [
    {
     "data": {
      "text/html": [
       "<div>\n",
       "<style scoped>\n",
       "    .dataframe tbody tr th:only-of-type {\n",
       "        vertical-align: middle;\n",
       "    }\n",
       "\n",
       "    .dataframe tbody tr th {\n",
       "        vertical-align: top;\n",
       "    }\n",
       "\n",
       "    .dataframe thead th {\n",
       "        text-align: right;\n",
       "    }\n",
       "</style>\n",
       "<table border=\"1\" class=\"dataframe\">\n",
       "  <thead>\n",
       "    <tr style=\"text-align: right;\">\n",
       "      <th></th>\n",
       "      <th>abandoned</th>\n",
       "      <th>abandonment</th>\n",
       "      <th>abate</th>\n",
       "      <th>abated</th>\n",
       "      <th>abatements</th>\n",
       "      <th>abating</th>\n",
       "      <th>abbott</th>\n",
       "      <th>abbreviated</th>\n",
       "      <th>abdicate</th>\n",
       "      <th>abdominal</th>\n",
       "      <th>...</th>\n",
       "      <th>zip</th>\n",
       "      <th>zippo</th>\n",
       "      <th>zithromax</th>\n",
       "      <th>zithromycin</th>\n",
       "      <th>zone</th>\n",
       "      <th>zones</th>\n",
       "      <th>zoom</th>\n",
       "      <th>zoomed</th>\n",
       "      <th>zucker</th>\n",
       "      <th>zuker</th>\n",
       "    </tr>\n",
       "  </thead>\n",
       "  <tbody>\n",
       "    <tr>\n",
       "      <th>0</th>\n",
       "      <td>0.0</td>\n",
       "      <td>0.0</td>\n",
       "      <td>0.0</td>\n",
       "      <td>0.0</td>\n",
       "      <td>0.0</td>\n",
       "      <td>0.0</td>\n",
       "      <td>0.0</td>\n",
       "      <td>0.0</td>\n",
       "      <td>0.000000</td>\n",
       "      <td>0.0</td>\n",
       "      <td>...</td>\n",
       "      <td>0.0</td>\n",
       "      <td>0.0</td>\n",
       "      <td>0.0</td>\n",
       "      <td>0.0</td>\n",
       "      <td>0.0</td>\n",
       "      <td>0.0</td>\n",
       "      <td>0.0</td>\n",
       "      <td>0.0</td>\n",
       "      <td>0.0</td>\n",
       "      <td>0.0</td>\n",
       "    </tr>\n",
       "    <tr>\n",
       "      <th>1</th>\n",
       "      <td>0.0</td>\n",
       "      <td>0.0</td>\n",
       "      <td>0.0</td>\n",
       "      <td>0.0</td>\n",
       "      <td>0.0</td>\n",
       "      <td>0.0</td>\n",
       "      <td>0.0</td>\n",
       "      <td>0.0</td>\n",
       "      <td>0.176231</td>\n",
       "      <td>0.0</td>\n",
       "      <td>...</td>\n",
       "      <td>0.0</td>\n",
       "      <td>0.0</td>\n",
       "      <td>0.0</td>\n",
       "      <td>0.0</td>\n",
       "      <td>0.0</td>\n",
       "      <td>0.0</td>\n",
       "      <td>0.0</td>\n",
       "      <td>0.0</td>\n",
       "      <td>0.0</td>\n",
       "      <td>0.0</td>\n",
       "    </tr>\n",
       "    <tr>\n",
       "      <th>2</th>\n",
       "      <td>0.0</td>\n",
       "      <td>0.0</td>\n",
       "      <td>0.0</td>\n",
       "      <td>0.0</td>\n",
       "      <td>0.0</td>\n",
       "      <td>0.0</td>\n",
       "      <td>0.0</td>\n",
       "      <td>0.0</td>\n",
       "      <td>0.000000</td>\n",
       "      <td>0.0</td>\n",
       "      <td>...</td>\n",
       "      <td>0.0</td>\n",
       "      <td>0.0</td>\n",
       "      <td>0.0</td>\n",
       "      <td>0.0</td>\n",
       "      <td>0.0</td>\n",
       "      <td>0.0</td>\n",
       "      <td>0.0</td>\n",
       "      <td>0.0</td>\n",
       "      <td>0.0</td>\n",
       "      <td>0.0</td>\n",
       "    </tr>\n",
       "    <tr>\n",
       "      <th>3</th>\n",
       "      <td>0.0</td>\n",
       "      <td>0.0</td>\n",
       "      <td>0.0</td>\n",
       "      <td>0.0</td>\n",
       "      <td>0.0</td>\n",
       "      <td>0.0</td>\n",
       "      <td>0.0</td>\n",
       "      <td>0.0</td>\n",
       "      <td>0.000000</td>\n",
       "      <td>0.0</td>\n",
       "      <td>...</td>\n",
       "      <td>0.0</td>\n",
       "      <td>0.0</td>\n",
       "      <td>0.0</td>\n",
       "      <td>0.0</td>\n",
       "      <td>0.0</td>\n",
       "      <td>0.0</td>\n",
       "      <td>0.0</td>\n",
       "      <td>0.0</td>\n",
       "      <td>0.0</td>\n",
       "      <td>0.0</td>\n",
       "    </tr>\n",
       "    <tr>\n",
       "      <th>4</th>\n",
       "      <td>0.0</td>\n",
       "      <td>0.0</td>\n",
       "      <td>0.0</td>\n",
       "      <td>0.0</td>\n",
       "      <td>0.0</td>\n",
       "      <td>0.0</td>\n",
       "      <td>0.0</td>\n",
       "      <td>0.0</td>\n",
       "      <td>0.000000</td>\n",
       "      <td>0.0</td>\n",
       "      <td>...</td>\n",
       "      <td>0.0</td>\n",
       "      <td>0.0</td>\n",
       "      <td>0.0</td>\n",
       "      <td>0.0</td>\n",
       "      <td>0.0</td>\n",
       "      <td>0.0</td>\n",
       "      <td>0.0</td>\n",
       "      <td>0.0</td>\n",
       "      <td>0.0</td>\n",
       "      <td>0.0</td>\n",
       "    </tr>\n",
       "  </tbody>\n",
       "</table>\n",
       "<p>5 rows × 12068 columns</p>\n",
       "</div>"
      ],
      "text/plain": [
       "   abandoned  abandonment  abate  abated  abatements  abating  abbott  \\\n",
       "0        0.0          0.0    0.0     0.0         0.0      0.0     0.0   \n",
       "1        0.0          0.0    0.0     0.0         0.0      0.0     0.0   \n",
       "2        0.0          0.0    0.0     0.0         0.0      0.0     0.0   \n",
       "3        0.0          0.0    0.0     0.0         0.0      0.0     0.0   \n",
       "4        0.0          0.0    0.0     0.0         0.0      0.0     0.0   \n",
       "\n",
       "   abbreviated  abdicate  abdominal  ...  zip  zippo  zithromax  zithromycin  \\\n",
       "0          0.0  0.000000        0.0  ...  0.0    0.0        0.0          0.0   \n",
       "1          0.0  0.176231        0.0  ...  0.0    0.0        0.0          0.0   \n",
       "2          0.0  0.000000        0.0  ...  0.0    0.0        0.0          0.0   \n",
       "3          0.0  0.000000        0.0  ...  0.0    0.0        0.0          0.0   \n",
       "4          0.0  0.000000        0.0  ...  0.0    0.0        0.0          0.0   \n",
       "\n",
       "   zone  zones  zoom  zoomed  zucker  zuker  \n",
       "0   0.0    0.0   0.0     0.0     0.0    0.0  \n",
       "1   0.0    0.0   0.0     0.0     0.0    0.0  \n",
       "2   0.0    0.0   0.0     0.0     0.0    0.0  \n",
       "3   0.0    0.0   0.0     0.0     0.0    0.0  \n",
       "4   0.0    0.0   0.0     0.0     0.0    0.0  \n",
       "\n",
       "[5 rows x 12068 columns]"
      ]
     },
     "execution_count": 8,
     "metadata": {},
     "output_type": "execute_result"
    }
   ],
   "source": [
    "matrix = doc_matrix(corpus, TfidfVectorizer)\n",
    "matrix.head()"
   ]
  },
  {
   "cell_type": "code",
   "execution_count": 9,
   "metadata": {},
   "outputs": [
    {
     "ename": "KeyError",
     "evalue": "2000",
     "output_type": "error",
     "traceback": [
      "\u001b[0;31m---------------------------------------------------------------------------\u001b[0m",
      "\u001b[0;31mKeyError\u001b[0m                                  Traceback (most recent call last)",
      "\u001b[0;32m/opt/anaconda3/lib/python3.8/site-packages/pandas/core/indexes/base.py\u001b[0m in \u001b[0;36mget_loc\u001b[0;34m(self, key, method, tolerance)\u001b[0m\n\u001b[1;32m   2645\u001b[0m             \u001b[0;32mtry\u001b[0m\u001b[0;34m:\u001b[0m\u001b[0;34m\u001b[0m\u001b[0;34m\u001b[0m\u001b[0m\n\u001b[0;32m-> 2646\u001b[0;31m                 \u001b[0;32mreturn\u001b[0m \u001b[0mself\u001b[0m\u001b[0;34m.\u001b[0m\u001b[0m_engine\u001b[0m\u001b[0;34m.\u001b[0m\u001b[0mget_loc\u001b[0m\u001b[0;34m(\u001b[0m\u001b[0mkey\u001b[0m\u001b[0;34m)\u001b[0m\u001b[0;34m\u001b[0m\u001b[0;34m\u001b[0m\u001b[0m\n\u001b[0m\u001b[1;32m   2647\u001b[0m             \u001b[0;32mexcept\u001b[0m \u001b[0mKeyError\u001b[0m\u001b[0;34m:\u001b[0m\u001b[0;34m\u001b[0m\u001b[0;34m\u001b[0m\u001b[0m\n",
      "\u001b[0;32mpandas/_libs/index.pyx\u001b[0m in \u001b[0;36mpandas._libs.index.IndexEngine.get_loc\u001b[0;34m()\u001b[0m\n",
      "\u001b[0;32mpandas/_libs/index.pyx\u001b[0m in \u001b[0;36mpandas._libs.index.IndexEngine.get_loc\u001b[0;34m()\u001b[0m\n",
      "\u001b[0;32mpandas/_libs/hashtable_class_helper.pxi\u001b[0m in \u001b[0;36mpandas._libs.hashtable.PyObjectHashTable.get_item\u001b[0;34m()\u001b[0m\n",
      "\u001b[0;32mpandas/_libs/hashtable_class_helper.pxi\u001b[0m in \u001b[0;36mpandas._libs.hashtable.PyObjectHashTable.get_item\u001b[0;34m()\u001b[0m\n",
      "\u001b[0;31mKeyError\u001b[0m: 2000",
      "\nDuring handling of the above exception, another exception occurred:\n",
      "\u001b[0;31mKeyError\u001b[0m                                  Traceback (most recent call last)",
      "\u001b[0;32m<ipython-input-9-e4e80bdd958d>\u001b[0m in \u001b[0;36m<module>\u001b[0;34m\u001b[0m\n\u001b[0;32m----> 1\u001b[0;31m \u001b[0mtuple\u001b[0m\u001b[0;34m(\u001b[0m\u001b[0mmatrix\u001b[0m\u001b[0;34m[\u001b[0m\u001b[0;36m2000\u001b[0m\u001b[0;34m]\u001b[0m\u001b[0;34m.\u001b[0m\u001b[0mnlargest\u001b[0m\u001b[0;34m(\u001b[0m\u001b[0;36m15\u001b[0m\u001b[0;34m)\u001b[0m\u001b[0;34m.\u001b[0m\u001b[0mindex\u001b[0m\u001b[0;34m)\u001b[0m\u001b[0;34m\u001b[0m\u001b[0;34m\u001b[0m\u001b[0m\n\u001b[0m",
      "\u001b[0;32m/opt/anaconda3/lib/python3.8/site-packages/pandas/core/frame.py\u001b[0m in \u001b[0;36m__getitem__\u001b[0;34m(self, key)\u001b[0m\n\u001b[1;32m   2798\u001b[0m             \u001b[0;32mif\u001b[0m \u001b[0mself\u001b[0m\u001b[0;34m.\u001b[0m\u001b[0mcolumns\u001b[0m\u001b[0;34m.\u001b[0m\u001b[0mnlevels\u001b[0m \u001b[0;34m>\u001b[0m \u001b[0;36m1\u001b[0m\u001b[0;34m:\u001b[0m\u001b[0;34m\u001b[0m\u001b[0;34m\u001b[0m\u001b[0m\n\u001b[1;32m   2799\u001b[0m                 \u001b[0;32mreturn\u001b[0m \u001b[0mself\u001b[0m\u001b[0;34m.\u001b[0m\u001b[0m_getitem_multilevel\u001b[0m\u001b[0;34m(\u001b[0m\u001b[0mkey\u001b[0m\u001b[0;34m)\u001b[0m\u001b[0;34m\u001b[0m\u001b[0;34m\u001b[0m\u001b[0m\n\u001b[0;32m-> 2800\u001b[0;31m             \u001b[0mindexer\u001b[0m \u001b[0;34m=\u001b[0m \u001b[0mself\u001b[0m\u001b[0;34m.\u001b[0m\u001b[0mcolumns\u001b[0m\u001b[0;34m.\u001b[0m\u001b[0mget_loc\u001b[0m\u001b[0;34m(\u001b[0m\u001b[0mkey\u001b[0m\u001b[0;34m)\u001b[0m\u001b[0;34m\u001b[0m\u001b[0;34m\u001b[0m\u001b[0m\n\u001b[0m\u001b[1;32m   2801\u001b[0m             \u001b[0;32mif\u001b[0m \u001b[0mis_integer\u001b[0m\u001b[0;34m(\u001b[0m\u001b[0mindexer\u001b[0m\u001b[0;34m)\u001b[0m\u001b[0;34m:\u001b[0m\u001b[0;34m\u001b[0m\u001b[0;34m\u001b[0m\u001b[0m\n\u001b[1;32m   2802\u001b[0m                 \u001b[0mindexer\u001b[0m \u001b[0;34m=\u001b[0m \u001b[0;34m[\u001b[0m\u001b[0mindexer\u001b[0m\u001b[0;34m]\u001b[0m\u001b[0;34m\u001b[0m\u001b[0;34m\u001b[0m\u001b[0m\n",
      "\u001b[0;32m/opt/anaconda3/lib/python3.8/site-packages/pandas/core/indexes/base.py\u001b[0m in \u001b[0;36mget_loc\u001b[0;34m(self, key, method, tolerance)\u001b[0m\n\u001b[1;32m   2646\u001b[0m                 \u001b[0;32mreturn\u001b[0m \u001b[0mself\u001b[0m\u001b[0;34m.\u001b[0m\u001b[0m_engine\u001b[0m\u001b[0;34m.\u001b[0m\u001b[0mget_loc\u001b[0m\u001b[0;34m(\u001b[0m\u001b[0mkey\u001b[0m\u001b[0;34m)\u001b[0m\u001b[0;34m\u001b[0m\u001b[0;34m\u001b[0m\u001b[0m\n\u001b[1;32m   2647\u001b[0m             \u001b[0;32mexcept\u001b[0m \u001b[0mKeyError\u001b[0m\u001b[0;34m:\u001b[0m\u001b[0;34m\u001b[0m\u001b[0;34m\u001b[0m\u001b[0m\n\u001b[0;32m-> 2648\u001b[0;31m                 \u001b[0;32mreturn\u001b[0m \u001b[0mself\u001b[0m\u001b[0;34m.\u001b[0m\u001b[0m_engine\u001b[0m\u001b[0;34m.\u001b[0m\u001b[0mget_loc\u001b[0m\u001b[0;34m(\u001b[0m\u001b[0mself\u001b[0m\u001b[0;34m.\u001b[0m\u001b[0m_maybe_cast_indexer\u001b[0m\u001b[0;34m(\u001b[0m\u001b[0mkey\u001b[0m\u001b[0;34m)\u001b[0m\u001b[0;34m)\u001b[0m\u001b[0;34m\u001b[0m\u001b[0;34m\u001b[0m\u001b[0m\n\u001b[0m\u001b[1;32m   2649\u001b[0m         \u001b[0mindexer\u001b[0m \u001b[0;34m=\u001b[0m \u001b[0mself\u001b[0m\u001b[0;34m.\u001b[0m\u001b[0mget_indexer\u001b[0m\u001b[0;34m(\u001b[0m\u001b[0;34m[\u001b[0m\u001b[0mkey\u001b[0m\u001b[0;34m]\u001b[0m\u001b[0;34m,\u001b[0m \u001b[0mmethod\u001b[0m\u001b[0;34m=\u001b[0m\u001b[0mmethod\u001b[0m\u001b[0;34m,\u001b[0m \u001b[0mtolerance\u001b[0m\u001b[0;34m=\u001b[0m\u001b[0mtolerance\u001b[0m\u001b[0;34m)\u001b[0m\u001b[0;34m\u001b[0m\u001b[0;34m\u001b[0m\u001b[0m\n\u001b[1;32m   2650\u001b[0m         \u001b[0;32mif\u001b[0m \u001b[0mindexer\u001b[0m\u001b[0;34m.\u001b[0m\u001b[0mndim\u001b[0m \u001b[0;34m>\u001b[0m \u001b[0;36m1\u001b[0m \u001b[0;32mor\u001b[0m \u001b[0mindexer\u001b[0m\u001b[0;34m.\u001b[0m\u001b[0msize\u001b[0m \u001b[0;34m>\u001b[0m \u001b[0;36m1\u001b[0m\u001b[0;34m:\u001b[0m\u001b[0;34m\u001b[0m\u001b[0;34m\u001b[0m\u001b[0m\n",
      "\u001b[0;32mpandas/_libs/index.pyx\u001b[0m in \u001b[0;36mpandas._libs.index.IndexEngine.get_loc\u001b[0;34m()\u001b[0m\n",
      "\u001b[0;32mpandas/_libs/index.pyx\u001b[0m in \u001b[0;36mpandas._libs.index.IndexEngine.get_loc\u001b[0;34m()\u001b[0m\n",
      "\u001b[0;32mpandas/_libs/hashtable_class_helper.pxi\u001b[0m in \u001b[0;36mpandas._libs.hashtable.PyObjectHashTable.get_item\u001b[0;34m()\u001b[0m\n",
      "\u001b[0;32mpandas/_libs/hashtable_class_helper.pxi\u001b[0m in \u001b[0;36mpandas._libs.hashtable.PyObjectHashTable.get_item\u001b[0;34m()\u001b[0m\n",
      "\u001b[0;31mKeyError\u001b[0m: 2000"
     ]
    }
   ],
   "source": [
    "tuple(matrix[2000].nlargest(15).index)"
   ]
  },
  {
   "cell_type": "code",
   "execution_count": 10,
   "metadata": {},
   "outputs": [
    {
     "data": {
      "text/plain": [
       "10474"
      ]
     },
     "execution_count": 10,
     "metadata": {},
     "output_type": "execute_result"
    }
   ],
   "source": [
    "len(matrix)"
   ]
  },
  {
   "cell_type": "code",
   "execution_count": 11,
   "metadata": {},
   "outputs": [
    {
     "data": {
      "text/plain": [
       "LatentDirichletAllocation(random_state=0)"
      ]
     },
     "execution_count": 11,
     "metadata": {},
     "output_type": "execute_result"
    }
   ],
   "source": [
    "# sklearn\n",
    "from sklearn import datasets\n",
    "from sklearn.datasets import fetch_20newsgroups\n",
    "from sklearn.feature_extraction.text import CountVectorizer, TfidfVectorizer\n",
    "from sklearn.decomposition import LatentDirichletAllocation\n",
    "\n",
    "# logging (set to INFO)\n",
    "import logging\n",
    "logging.basicConfig(format='%(asctime)s : %(levelname)s : %(message)s', level=logging.INFO)\n",
    "\n",
    "lda_tfidf = LatentDirichletAllocation(n_components=10, random_state=0)\n",
    "lda_tfidf.fit(matrix)"
   ]
  },
  {
   "cell_type": "code",
   "execution_count": 12,
   "metadata": {},
   "outputs": [
    {
     "name": "stdout",
     "output_type": "stream",
     "text": [
      "(10474, 3955)\n"
     ]
    }
   ],
   "source": [
    "tf_vectorizer = CountVectorizer(strip_accents = 'unicode',\n",
    "                                stop_words = my_stop_words,\n",
    "                                lowercase = True,\n",
    "                                token_pattern = r'\\b[a-zA-Z]{3,}\\b',\n",
    "                                ngram_range=(1,2),\n",
    "                                max_df = 0.5, \n",
    "                                min_df = 10)\n",
    "dtm_tf = tf_vectorizer.fit_transform(corpus)\n",
    "print(dtm_tf.shape)"
   ]
  },
  {
   "cell_type": "code",
   "execution_count": 13,
   "metadata": {},
   "outputs": [
    {
     "name": "stderr",
     "output_type": "stream",
     "text": [
      "/opt/anaconda3/lib/python3.8/site-packages/sklearn/feature_extraction/text.py:1795: UserWarning: Only (<class 'numpy.float64'>, <class 'numpy.float32'>, <class 'numpy.float16'>) 'dtype' should be used. <class 'numpy.int64'> 'dtype' will be converted to np.float64.\n",
      "  warnings.warn(\"Only {} 'dtype' should be used. {} 'dtype' will \"\n"
     ]
    },
    {
     "name": "stdout",
     "output_type": "stream",
     "text": [
      "(10474, 3955)\n"
     ]
    }
   ],
   "source": [
    "tfidf_vectorizer = TfidfVectorizer(**tf_vectorizer.get_params())\n",
    "dtm_tfidf = tfidf_vectorizer.fit_transform(corpus)\n",
    "print(dtm_tfidf.shape)"
   ]
  },
  {
   "cell_type": "code",
   "execution_count": 14,
   "metadata": {},
   "outputs": [
    {
     "data": {
      "text/plain": [
       "LatentDirichletAllocation(n_components=9, random_state=0)"
      ]
     },
     "execution_count": 14,
     "metadata": {},
     "output_type": "execute_result"
    }
   ],
   "source": [
    "# for TFIDF DTM\n",
    "lda_tfidf = LatentDirichletAllocation(n_components=9, random_state=0)\n",
    "lda_tfidf.fit(dtm_tfidf)"
   ]
  },
  {
   "cell_type": "code",
   "execution_count": 15,
   "metadata": {},
   "outputs": [
    {
     "name": "stderr",
     "output_type": "stream",
     "text": [
      "2020-11-09 20:29:08,223 : INFO : NumExpr defaulting to 8 threads.\n"
     ]
    },
    {
     "data": {
      "text/html": [
       "\n",
       "<link rel=\"stylesheet\" type=\"text/css\" href=\"https://cdn.rawgit.com/bmabey/pyLDAvis/files/ldavis.v1.0.0.css\">\n",
       "\n",
       "\n",
       "<div id=\"ldavis_el471481405274356779842718809433\"></div>\n",
       "<script type=\"text/javascript\">\n",
       "\n",
       "var ldavis_el471481405274356779842718809433_data = {\"mdsDat\": {\"x\": [0.033675794380015424, 0.08997282543334001, 0.09708784400600823, 0.0727897114413422, 0.004177287154490151, 0.07398935872144914, -0.2112687018338694, -0.05164425121915435, -0.10877986808362171], \"y\": [0.016548578047534308, -0.09642799913975028, 0.022170769439918993, 0.09715057705469524, -0.2042262298976016, 0.0897386303359499, 0.00944586228863123, 0.03919621963340667, 0.026403592237215574], \"topics\": [1, 2, 3, 4, 5, 6, 7, 8, 9], \"cluster\": [1, 1, 1, 1, 1, 1, 1, 1, 1], \"Freq\": [23.57406839934566, 22.329607662900475, 13.77972280184983, 9.869769339178424, 7.45942970445549, 6.858432668433434, 6.294401303612022, 5.526343211857896, 4.308224908366775]}, \"tinfo\": {\"Term\": [\"question\", \"governor\", \"nursing\", \"questions\", \"nursing homes\", \"federal\", \"homes\", \"ventilators\", \"number\", \"law\", \"enforcement\", \"sorry\", \"workers\", \"open\", \"local\", \"budget\", \"line\", \"nursing home\", \"police\", \"testing\", \"hospital\", \"home\", \"rate\", \"federal government\", \"hospitals\", \"ask\", \"news\", \"mask\", \"compliance\", \"second\", \"wear mask\", \"mask\", \"wearing mask\", \"derosa\", \"melissa derosa\", \"wear\", \"rent\", \"public safety\", \"secretary governor\", \"leader\", \"save lives\", \"penalty\", \"elected\", \"murder\", \"pleasure\", \"distance\", \"mujica\", \"derosa secretary\", \"elected officials\", \"wearing\", \"streets\", \"save\", \"secretary\", \"republicans\", \"howard\", \"robert mujica\", \"hyper\", \"health commissioner\", \"gun\", \"mariah\", \"socially distance\", \"stand\", \"homeless\", \"floyd\", \"socially\", \"moment\", \"politics\", \"robert\", \"blue\", \"political\", \"ahead\", \"officials\", \"beautiful\", \"social\", \"life\", \"time\", \"public health\", \"years\", \"facts\", \"zucker\", \"public\", \"best\", \"family\", \"health\", \"police\", \"government\", \"situation\", \"understand\", \"community\", \"yorkers\", \"tell\", \"work\", \"really\", \"smart\", \"talk\", \"economy\", \"believe\", \"need\", \"better\", \"country\", \"governor\", \"change\", \"president\", \"europe\", \"antibody\", \"antibody testing\", \"dashboard\", \"ban\", \"february\", \"trace\", \"diagnostic\", \"plateau\", \"flatten\", \"testing testing\", \"micro\", \"capita\", \"antibody test\", \"infection rates\", \"european\", \"testing tracing\", \"zip codes\", \"came europe\", \"models\", \"travel ban\", \"sales\", \"flatten curve\", \"infection rate\", \"korea\", \"infection\", \"antibody tests\", \"south korea\", \"rate transmission\", \"antibodies\", \"rate\", \"contact tracing\", \"tracing\", \"outbreak\", \"codes\", \"testing\", \"tests\", \"hospitalization\", \"mountain\", \"hospitalization rate\", \"january\", \"china\", \"cluster\", \"curve\", \"rochelle\", \"spread\", \"cases\", \"test\", \"regions\", \"numbers\", \"model\", \"data\", \"reopening\", \"positive\", \"school\", \"increase\", \"watch\", \"states\", \"region\", \"march\", \"number\", \"reopen\", \"days\", \"tested\", \"coming\", \"happen\", \"start\", \"schools\", \"plan\", \"long\", \"country\", \"javits\", \"frontline\", \"icu beds\", \"essential workers\", \"nurses\", \"beds\", \"healthcare workers\", \"frontline workers\", \"nurses doctors\", \"operator\", \"responders\", \"disinfect\", \"worker\", \"haven heard\", \"transit workers\", \"ship\", \"hospital beds\", \"benefits\", \"engineers\", \"public transit\", \"question operator\", \"trains\", \"transit\", \"unemployment benefits\", \"essential worker\", \"army corps\", \"corps engineers\", \"javits center\", \"delivery\", \"corps\", \"workers\", \"temporary\", \"underlying\", \"subways\", \"subway\", \"bed\", \"healthcare\", \"hospital\", \"essential\", \"doctors\", \"comfort\", \"clean\", \"capacity\", \"hospitals\", \"heard\", \"train\", \"stay home\", \"home\", \"work\", \"sick\", \"need\", \"children\", \"working\", \"stay\", \"night\", \"public\", \"getting\", \"lot\", \"haven\", \"sure\", \"health\", \"revenue\", \"fund\", \"deficit\", \"remote learning\", \"revenues\", \"stockpile\", \"nursing homes\", \"submit\", \"ventilators ventilators\", \"error\", \"nursing\", \"deaths nursing\", \"aid\", \"hoping\", \"consortium\", \"ventilators\", \"fiscal\", \"provide funding\", \"rob\", \"federal funding\", \"billion deficit\", \"sorry\", \"budget budget\", \"nursing home\", \"budgets\", \"fund local\", \"margin error\", \"cash\", \"remote\", \"stockpiles\", \"budget\", \"homes\", \"billion\", \"funding\", \"cut\", \"cuts\", \"falls\", \"visitors\", \"federal\", \"federal government\", \"patients\", \"money\", \"facility\", \"ppe\", \"department health\", \"government\", \"home\", \"release\", \"washington\", \"hospitals\", \"governments\", \"department\", \"need\", \"provide\", \"local\", \"point\", \"health\", \"sure\", \"intubations\", \"rolling average\", \"prayers\", \"thoughts prayers\", \"number lives\", \"connecticut jersey\", \"mass gatherings\", \"intubated\", \"orthodox\", \"rhode\", \"rhode island\", \"elective\", \"jersey connecticut\", \"pennsylvania\", \"surgery\", \"nassau suffolk\", \"net change\", \"lives lost\", \"total hospitalizations\", \"county executives\", \"jewish\", \"admissions\", \"elective surgery\", \"disciplinary records\", \"orthodox community\", \"icu admissions\", \"herd immunity\", \"jersey\", \"icu patients\", \"discharged\", \"suffolk\", \"connecticut\", \"passed away\", \"lamont\", \"bernadette\", \"nassau\", \"average\", \"religious\", \"news\", \"ventilator\", \"thoughts\", \"mass\", \"lost\", \"rolling\", \"number\", \"number deaths\", \"hospitalizations\", \"answer\", \"county\", \"regional\", \"rockland\", \"total\", \"deaths\", \"icu\", \"yesterday\", \"numbers\", \"governor\", \"businesses\", \"community\", \"westchester\", \"smart united\", \"united disciplined\", \"probable\", \"private sector\", \"disciplined loving\", \"camps\", \"kits\", \"app\", \"tough smart\", \"unemployment insurance\", \"national guard\", \"sector\", \"loving\", \"laguardia\", \"backlog\", \"disconnect\", \"processed\", \"test kits\", \"camp\", \"summer camps\", \"asked question\", \"guard\", \"shortage\", \"governor cuomo\", \"donald trump\", \"loving questions\", \"blasio\", \"confirmed\", \"home residents\", \"clarify\", \"cuomo\", \"mayor blasio\", \"labs\", \"unemployment\", \"governor\", \"mayor\", \"conference\", \"disciplined\", \"tough\", \"manufacturers\", \"check\", \"hear\", \"national\", \"asked\", \"private\", \"nursing\", \"website\", \"test\", \"president\", \"deaths\", \"smart\", \"questions\", \"looking\", \"tests\", \"talking\", \"homes\", \"home\", \"line open\", \"question comes\", \"bars\", \"comes line\", \"bars restaurants\", \"elections\", \"absentee\", \"task force\", \"audience\", \"enforce law\", \"board elections\", \"voting\", \"enforcement\", \"law enforcement\", \"ballots\", \"liquor\", \"ballot\", \"vote\", \"followup\", \"liquor authority\", \"executive orders\", \"compliance enforcement\", \"meat\", \"health departments\", \"homeland security\", \"homeland\", \"attractive nuisance\", \"nuisance\", \"enforce\", \"court\", \"compliance\", \"executive order\", \"executive\", \"restaurant\", \"sla\", \"restaurants\", \"line\", \"task\", \"law\", \"bar\", \"beaches\", \"order\", \"open\", \"rules\", \"local\", \"local governments\", \"force\", \"melissa\", \"governments\", \"question\", \"county\", \"saying\", \"weeks\", \"comes\", \"facilities\", \"board\", \"dining\", \"indoor\", \"excuse second\", \"indoor dining\", \"outdoor\", \"police departments\", \"shelter place\", \"question ahead\", \"morning governor\", \"random\", \"excuse\", \"marriage\", \"outdoor dining\", \"answered\", \"essential service\", \"abuse\", \"timeline\", \"substance abuse\", \"joke\", \"bankruptcy\", \"advisory\", \"production\", \"travel advisory\", \"production act\", \"defense production\", \"declare bankruptcy\", \"georgia\", \"local police\", \"feet apart\", \"stay feet\", \"absolutely\", \"questions\", \"jim\", \"apart\", \"shelter\", \"jesse\", \"speak\", \"quarantine\", \"correct\", \"doctor\", \"second\", \"phase\", \"dan\", \"police\", \"cdc\", \"use\", \"guidelines\", \"love\", \"exactly\", \"change\", \"question\", \"pass\", \"answer\", \"soon\", \"governor\", \"ahead\", \"sign\", \"nick\", \"gym\", \"trusted\", \"traveler\", \"trusted traveler\", \"traveler program\", \"raise taxes\", \"wanted ask\", \"national governors\", \"governors association\", \"chairman\", \"lockdown\", \"silence\", \"silver\", \"religious gatherings\", \"lining\", \"silver lining\", \"adequate care\", \"care patient\", \"vice chairman\", \"pilot\", \"grocery stores\", \"nga\", \"cold\", \"legal authority\", \"reporter\", \"governor hogan\", \"mile\", \"ordered\", \"vaccines\", \"second wave\", \"wave\", \"eyes\", \"penalties\", \"question\", \"adequate\", \"ask\", \"wait\", \"grocery\", \"ask question\", \"authority\", \"stores\", \"raise\", \"options\", \"program\", \"legal\", \"schools\", \"governors\", \"murphy\", \"taxes\", \"wanted\", \"governor\", \"second\", \"pay\", \"outside\", \"care\", \"open\", \"closed\", \"mta\"], \"Freq\": [143.0, 191.0, 86.0, 66.0, 53.0, 93.0, 61.0, 59.0, 125.0, 58.0, 34.0, 56.0, 63.0, 78.0, 66.0, 49.0, 43.0, 42.0, 72.0, 109.0, 74.0, 80.0, 82.0, 62.0, 77.0, 50.0, 49.0, 67.0, 30.0, 51.0, 27.68747420532357, 62.498026473336246, 9.522974936086472, 8.53889140129383, 8.502680843177187, 32.4768909343966, 10.910576247649756, 7.16338149848844, 7.055168196302872, 8.81295525056332, 7.466628788992585, 7.45906625099146, 8.637765337221127, 7.378419229367228, 9.571391185513372, 14.381752318224134, 5.966916179570691, 5.852879053790176, 5.885342592117566, 17.064775890761826, 5.6452435718574705, 10.71621592488102, 10.822154616488907, 7.071137889894331, 6.393125278322224, 5.247754201638443, 5.170200072412884, 5.028142771651256, 4.896052773853688, 4.798917089774503, 7.207324901903939, 12.98184981858781, 16.26492788156231, 11.097291170227289, 11.138525301778367, 25.916907057301188, 20.5111721831032, 9.247712897860279, 10.891399752671196, 27.553871750231217, 34.80721665734314, 19.56280725200099, 13.07051772303736, 25.36314955590775, 24.458965292712392, 52.27511776302652, 18.722315325836835, 20.7936012958379, 35.97992442018107, 19.296386614366035, 33.37457719571301, 21.413864768725464, 17.777940762547665, 35.16301056937463, 31.118466467678246, 38.6717074097037, 28.681475839593592, 25.936764154509415, 23.272668552989828, 24.890163409890842, 26.1016330718308, 32.894041666610114, 27.586740030059275, 23.385994805063607, 24.21057256251571, 21.827956285824005, 23.962555812559135, 28.759267802205805, 23.032040818206607, 23.236404283619226, 28.91779483479815, 22.325274486544046, 22.523944519378762, 22.96055692561013, 22.699533747501384, 10.975296805685566, 8.969549914653156, 8.750183818062483, 10.100577953906784, 9.432604621566336, 8.112148628579886, 9.53773776822944, 7.937269624183041, 8.97295890662725, 7.445306752783977, 7.374996912903103, 7.3094119560665645, 8.292998808426445, 6.9207294525837835, 6.914401719219983, 8.985378945356999, 6.5275715210550995, 12.088992374738423, 6.447452912845886, 6.311281639004304, 6.35282488628157, 38.99090594132093, 6.217519495144401, 52.83388301747263, 5.80006996203498, 5.732654087060093, 7.644959032488602, 14.594918582113152, 71.80159524171172, 11.189204099363588, 23.685620825269247, 11.07068773982973, 8.899070945433799, 86.5921007494182, 54.90846698536868, 20.402964342701576, 14.575525903772304, 12.76683406182116, 11.16069034074442, 32.15252015765172, 16.672539140392992, 26.349497086049386, 14.938147472800196, 32.89156788548832, 44.39038178208262, 45.424698722190115, 19.26062663811752, 57.37330562281376, 14.330756897691124, 36.15078523888802, 37.149861378137444, 34.35451052516731, 37.38173936414368, 26.44313068511796, 18.93126982500355, 49.26758409739143, 24.813775298113498, 16.28989416614014, 54.12544008491907, 27.24107365471147, 34.87148995536711, 22.11533763121075, 28.37481909079433, 25.253319998049538, 25.994449300361566, 28.176641383268194, 25.953478991485078, 23.332206607345192, 23.08312853807003, 13.103340654896261, 10.217376799429292, 8.828391804564678, 17.545561260653926, 14.414181683413565, 37.91733792846613, 13.808366379993023, 7.825788928156395, 7.698422224529174, 19.37584119404981, 6.785152903077756, 6.6511063164125215, 9.632327400123705, 6.511041814658248, 6.3469465009747585, 7.7652600657859026, 10.28004979324334, 8.047635775994818, 5.3707264661576755, 5.311013475518063, 5.306008760534363, 13.87437034435624, 14.27681692506139, 4.965699045757398, 5.304105008521037, 4.806028205602083, 4.737633148816463, 4.72172101754117, 4.720730416635464, 5.386560337676858, 53.2289545922308, 6.878022735175829, 6.944953949444896, 9.056997547063238, 14.110516541354869, 12.45102800694064, 27.39595104909124, 51.201506414772126, 28.04697619785595, 12.103663479953612, 10.871483869839334, 10.19679947076153, 34.342016922705994, 40.879688453592394, 21.35963335209823, 13.563536164506658, 11.273486214708816, 28.747490955743395, 30.959676118521674, 12.529233395111046, 30.28053346024547, 12.689684284592227, 19.15103280058491, 16.12753429157826, 13.994776161248867, 17.28851408658398, 15.04882861034716, 15.396960694672366, 13.284978592153731, 13.782425540214822, 13.331919985882017, 12.363189508654646, 17.68185905741758, 6.163085609824855, 5.826710276673476, 6.614392148999696, 17.203509109479665, 45.540456193395165, 5.133145991484757, 4.449393964939724, 3.8343108690116554, 71.01043503131429, 3.6809775110845533, 6.5853416120787776, 3.623977971451128, 4.846111804211583, 47.68548274344821, 3.2269752318797598, 3.1853653339052754, 11.468828178878658, 3.8392671827208433, 3.069780939609107, 44.5227312965312, 3.0736348267925826, 33.64962498510731, 2.981284593510366, 2.9749296341333564, 2.957369188398652, 2.9126034341859874, 7.701033439729111, 3.9605313918518705, 38.28083246093816, 47.12807973840858, 23.04822123259327, 22.730959356521932, 13.823871639154229, 7.968865053943033, 5.181400929517697, 6.514870218130527, 53.378315224305666, 35.89818103479144, 22.553684628351455, 22.963196407207906, 15.148861883729824, 15.483009373569475, 12.966927856192125, 38.106594207173416, 29.233389035699858, 9.933121027506465, 12.270010093874367, 23.095717175062028, 15.558295512216489, 17.15710470870586, 27.539124100378785, 12.019494649938117, 17.8721782202361, 19.919819291433235, 15.565819216151558, 13.189193904237666, 9.1531032821133, 7.48787046724826, 6.91388272367797, 6.768658987905479, 6.2950367179019615, 5.7798659505488565, 5.745852198923234, 5.297176404814241, 7.000052541404125, 4.931837913109413, 4.931837913109413, 7.380332875472097, 8.993063331855573, 10.06554744562033, 4.686494211184407, 5.491778917947272, 4.6026143151881636, 9.04682614790041, 4.292783004360826, 4.199562503416846, 4.161603706561286, 4.155868193295804, 4.14167340248294, 3.9825741982917995, 3.905124582902494, 3.7609633910411664, 3.7547152465492037, 25.28138984958101, 3.5294475816450226, 5.061599169514719, 10.414489423555048, 20.437571624635606, 6.885339487709796, 6.754099475238932, 11.757089691545191, 10.607091217313169, 11.381101632688107, 9.687744895761584, 26.122885503345888, 15.863556959371287, 8.921785135117489, 8.440836017368989, 12.888892183508021, 8.492039158065504, 37.68594551520074, 8.665007590535343, 13.152207656075303, 17.36157316989975, 15.987309217101885, 11.22063396954037, 9.144823452843363, 11.78040179754126, 14.511065816852113, 10.06435306913358, 12.17182896707059, 14.418935694848162, 14.354050955103324, 9.810245040992166, 9.198860626214591, 8.695043780402926, 8.358497179893606, 8.216208540924029, 7.517011246120103, 7.275695058387503, 6.950222359935269, 6.686428701853901, 6.539023809991989, 5.895443185279449, 9.173438936835717, 4.918480428880871, 11.785237275740105, 7.6234114343347255, 12.124798339232491, 7.284771098015789, 3.875184482678785, 3.8377276432696084, 3.833108523019118, 3.806916759425641, 3.796970049091922, 3.7617466056961972, 7.304907519682903, 11.796092875113171, 4.685919224134154, 9.951208299553432, 3.379205575546582, 3.3192478808392702, 12.575448217435019, 8.239642863837725, 3.9364919707048927, 4.347290545040978, 16.84551164356442, 9.702792814360064, 13.498498733580755, 16.202111635729835, 82.58457547616081, 22.808077892700087, 6.940014220131673, 9.417504183378474, 15.567145163515448, 5.948389971342138, 12.09192674678163, 14.415658066692217, 14.852869853074903, 13.209402212083015, 9.622345853387463, 13.688487357718449, 8.159797383677056, 10.895540028531421, 10.709278397163581, 9.744633497798224, 9.906938396816056, 10.174757037342905, 9.551950236200062, 9.26588173976047, 8.968400165866772, 8.936899976477696, 8.433660760473266, 17.165228972372372, 13.649718569797095, 17.581399295180344, 9.862489520340723, 9.712625772742088, 12.74949358698166, 8.960673589966094, 12.828406376066367, 8.020875600060474, 7.8029654688601475, 7.200181948037068, 7.111107742813418, 30.881522529266356, 6.964126296419062, 5.561432570467507, 5.037172412126388, 4.83005630471596, 10.852331497278485, 5.691352701314599, 3.9599389288760762, 3.70555971829252, 3.6398657292962766, 3.6073387754507564, 3.578050757324386, 3.4765024037343606, 3.4765024037343606, 3.4515955354541745, 3.4515955354541745, 20.57117212091018, 7.798718041749835, 23.007050925157767, 15.838518580951657, 21.596802147376884, 8.845487646426111, 6.0966238514773305, 16.05315982686198, 27.72674745424415, 12.131719913574402, 34.76895822664029, 9.847292352744574, 9.233671661267742, 18.03164377881293, 27.744071979652148, 15.334280430007729, 23.638902657676578, 14.42383267782563, 11.44769613427962, 13.147634448299517, 14.323534897545796, 22.929130984198416, 13.058158737299852, 15.01930254016476, 12.41442275602847, 11.475332445022245, 10.196091874683951, 10.033321378606988, 14.49573016917848, 14.30208248511267, 13.442996219834985, 9.807439292920458, 9.093540540716807, 5.919164643206726, 5.892099351176325, 5.874517128771349, 5.214057631846662, 6.639667818744535, 18.680674433740247, 6.549302766776148, 4.31326148232689, 4.1877159871650305, 3.9508134801297285, 5.494408670643446, 9.47259083272114, 3.3143230985712147, 3.325003921577733, 3.0763855391793062, 3.791039620851737, 4.923489117541854, 2.83427949391664, 2.785364469072973, 2.785364469072973, 2.744734480022302, 3.3735624799327177, 4.213523986554047, 4.359599533195294, 2.4267824547018404, 6.3831768861357245, 33.30370721650299, 11.655780967037455, 5.475482026726519, 6.4637541950047295, 11.265539943842786, 11.876652836187281, 16.64758052433881, 9.121750831450795, 11.445594461665305, 16.88646016465148, 13.095398787125824, 5.4206500472761, 16.74545509462952, 9.880570237030579, 10.859643931881381, 8.834547733284365, 8.315580432386055, 8.324504567668873, 9.847290409149739, 11.741845845216103, 7.359183307192172, 8.385374742647146, 7.100734488459242, 8.70495419358001, 7.383304161172339, 6.766442011286226, 17.607929822690704, 12.57961576916722, 6.170164921648041, 5.701094708912413, 5.385290707788815, 5.385290707788815, 4.884118585777316, 5.166852344568518, 3.87845867719728, 3.87845867719728, 6.15681694078855, 5.018486636286404, 5.49205572078393, 3.1897831287979543, 3.6187896931166876, 2.9219747730148553, 2.9219747730148553, 3.1108614191589465, 2.6465071475729838, 2.6037134467258944, 4.328248300948266, 4.584675989312843, 2.463464627555219, 4.015305314195032, 4.405702752029654, 4.068186366543501, 2.9457723727650427, 6.326930492355254, 3.869738068855207, 3.7184310967059298, 10.5702061820063, 12.823409831519145, 6.188368648624267, 5.321107817288305, 52.636859665211794, 4.39806065467071, 16.670245220946367, 6.4882694903286, 5.620878641810013, 6.870715803877998, 8.38874421037892, 5.55492642465421, 5.754682862283632, 5.173043400614343, 7.713108466942611, 7.0413940089422145, 11.398628171624694, 7.9043542825387165, 5.885665620601358, 5.805059931198875, 7.041551346722593, 11.965208457545938, 7.7902129817878905, 6.937376461105895, 6.204336273715584, 6.910930940739311, 7.140825677094686, 6.340244034368447, 5.646362568229776], \"Total\": [143.0, 191.0, 86.0, 66.0, 53.0, 93.0, 61.0, 59.0, 125.0, 58.0, 34.0, 56.0, 63.0, 78.0, 66.0, 49.0, 43.0, 42.0, 72.0, 109.0, 74.0, 80.0, 82.0, 62.0, 77.0, 50.0, 49.0, 67.0, 30.0, 51.0, 29.24221548051977, 67.35314792172923, 10.349922036991064, 9.36448815387157, 9.328272717076501, 35.85631777842386, 12.0983194816337, 7.990047855113489, 7.880750642368157, 9.890696080490953, 8.385419646757207, 8.44105509106109, 9.77574713766461, 8.355075919472032, 10.853902670111617, 16.360205248599616, 6.792592376610893, 6.678457255577013, 6.7411131327049665, 19.550217143479696, 6.470931814272062, 12.297424179015838, 12.421121592501846, 8.134795309239447, 7.390015734225628, 6.073456842044404, 5.996007964646393, 5.855052696124105, 5.728125195637252, 5.624499322289074, 8.473889217034174, 15.444737648427015, 19.583187150695817, 13.258011535484655, 13.314095096411597, 32.33810417608232, 25.716575510352435, 10.993073448232392, 13.182307509014967, 37.18948367632785, 48.3179005783668, 25.431475961138784, 16.616731384065673, 37.216224327116905, 36.84864668736753, 102.73852765641765, 27.47028799654386, 31.756394389912973, 65.51239834859021, 28.84332161961878, 64.61547087975208, 36.664583874030356, 28.422793492623896, 82.60745632697885, 72.16934442628651, 106.32518285040383, 65.65832245433373, 55.599790999520756, 46.84633703479361, 52.70898754271777, 59.825278307446304, 97.00522268465312, 69.38885537320823, 49.81234423915217, 55.92100982022213, 43.0871231126031, 59.937702978988106, 121.60545578570097, 54.90291511720435, 57.30838796260409, 191.83570244703876, 52.843286520779735, 62.481500941367194, 23.788219604354982, 23.788366913655672, 11.981285943669342, 9.79725212707025, 9.580310373095912, 11.071147252953297, 10.374842188762425, 8.939855300329953, 10.546796563994024, 8.786408663921296, 9.945765299175878, 8.273004880266926, 8.202719155871423, 8.13710219720192, 9.275400834728428, 7.7484419459352285, 7.74240360409425, 10.101423719796903, 7.355223863733244, 13.637563097495205, 7.275120752936441, 7.1391016046542966, 7.196272510067072, 44.17958263863457, 7.045301128456772, 60.10893505912051, 6.627811591929198, 6.560437479998584, 8.749081271480796, 16.726897019379575, 82.52467122616405, 12.83255089128982, 27.431862868938016, 12.738705929453744, 10.211979271655824, 109.94881128138367, 69.81373310140557, 24.563953454208207, 17.292463377094197, 15.039380024013573, 13.015507036771043, 41.27446964346736, 20.151475380573057, 33.41579298750514, 17.950951317964925, 44.74759975550576, 63.94279857527654, 65.75935101674855, 24.846494878020422, 94.07559120748219, 17.748547725544817, 57.12576045915302, 60.05540509207274, 55.25877300633753, 61.67677003343532, 40.29055859394294, 25.89949591274314, 100.30088572647861, 39.03175539780869, 21.354424500773007, 125.34628389141565, 48.00539544967227, 72.64425830987699, 36.73706165578665, 58.56456653223078, 48.61787294073163, 55.579435365202094, 70.31819026812218, 71.34763953657992, 56.299657347461, 57.30838796260409, 13.93266236620326, 11.046647419153702, 9.657696086961499, 19.289037354409462, 15.884273491388678, 41.81471146915629, 15.246563354549819, 8.655048519822596, 8.528149734758458, 21.656107957914777, 7.614543705099547, 7.4803639059687415, 10.853857605402577, 7.340368581526294, 7.176215264869718, 8.785295841710091, 11.655134654750658, 9.237366164600576, 6.200050948083528, 6.140626686908819, 6.1353356001353125, 16.115502322118157, 16.655956026804873, 5.794991396691078, 6.1940710716278655, 5.6352909545075285, 5.566896428190975, 5.55112336200798, 5.550404889140802, 6.350558388371803, 63.10028929713457, 8.115168131044936, 8.235146426355836, 10.86444906442335, 17.302804424770077, 15.367174635939852, 36.62138522950352, 74.97372854079818, 40.19911433042462, 15.632594215242898, 13.84519367400589, 13.104903133346063, 59.27637927786181, 77.00639567412195, 34.59048370175032, 19.042579712433575, 15.883576884401533, 80.66607671120255, 97.00522268465312, 20.21890652151288, 121.60545578570097, 23.527575789226223, 66.74954749279604, 43.58619985782741, 31.508286985986697, 64.61547087975208, 50.77161083616296, 63.70221101339541, 34.66506187109286, 62.90800247742437, 82.60745632697885, 13.62285021722883, 19.743482589360095, 6.9891088803763335, 6.653808177363199, 7.604667773291264, 19.973808125478456, 53.606720191316235, 6.065930711687088, 5.275377260465493, 4.660519836091756, 86.39993471887668, 4.506949363834827, 8.128422668794972, 4.487274642637962, 6.0550265387983755, 59.713527159335, 4.053428975780641, 4.011338554213179, 14.55164699307003, 4.872081676440447, 3.8957568046862168, 56.63544866830828, 3.914240097432108, 42.9128789317179, 3.807361999026483, 3.8008666706617116, 3.783631111532586, 3.7386976148269273, 9.887989796776411, 5.1167859114709735, 49.86241484024751, 61.88636297625471, 30.41358332883064, 30.053782427889903, 18.485975338764742, 10.77187649866012, 6.828044402032966, 8.816851902730189, 93.44097256029904, 62.06011239503329, 39.217861008472944, 40.765673622783034, 26.03241628158024, 29.274764874435256, 23.255447409063237, 106.32518285040383, 80.66607671120255, 16.760685189540744, 23.661083036473457, 77.00639567412195, 38.10989780126343, 47.57500209691412, 121.60545578570097, 25.016998551688243, 66.9558470612212, 86.80074807432813, 82.60745632697885, 62.90800247742437, 10.017810617180764, 8.308634610966493, 7.734611323246338, 7.589387714506034, 7.116001958384349, 6.600814752607461, 6.56698872693702, 6.117885583614085, 8.125379959028656, 5.752593223005399, 5.752593223005399, 8.615060615622854, 10.497662904171426, 11.813578896076214, 5.507302872880586, 6.465731945899572, 5.423317147366578, 10.703823536065642, 5.1137367245173, 5.020562999991788, 4.9824009052310645, 4.9765865182788, 4.962411401317114, 4.803528024862342, 4.7258830258918305, 4.5816786415601465, 4.575493612286351, 30.837333758272678, 4.3502164151722145, 6.244096683419354, 13.189180466451807, 26.722993397395317, 8.720423296399419, 8.68484612567989, 16.46487238389967, 15.316004939511881, 16.72536482132858, 13.891553736676155, 49.13983374969838, 26.490865524036813, 13.06404872935174, 12.737061518912906, 23.13269889328635, 13.007964331206319, 125.34628389141565, 13.921886195342829, 28.78259739558998, 48.66942837510159, 44.03364401499366, 23.100692723071344, 15.896883885490977, 27.30477184624372, 43.94046213573752, 23.39350209666756, 51.78098747235147, 94.07559120748219, 191.83570244703876, 46.59272559047172, 46.84633703479361, 23.63268123406967, 9.181814593198137, 9.039338701994032, 8.3401919265327, 8.098930098639316, 7.773441807152616, 7.509769748732621, 7.362375964465968, 6.71866365229225, 10.594195981573927, 5.742304180225837, 13.783622838968963, 8.964699797241684, 14.397497140785335, 8.827223082327487, 4.698315098305779, 4.660895005312603, 4.6563107996050785, 4.630040374874596, 4.62051991012173, 4.58492297891929, 8.95859536813789, 14.482476064017904, 5.795044537569626, 12.37404437755036, 4.21040407344432, 4.142347120665291, 15.729180928283542, 10.31878360653264, 4.930830855245693, 5.4556526700078285, 22.033008891116353, 12.828942301272827, 18.427480343063568, 26.142536739382603, 191.83570244703876, 41.366422111358595, 9.726809013334519, 14.658100157301938, 28.435176410905783, 8.217450113889525, 21.20947305567693, 29.874628350087793, 32.80831920956718, 31.043970330166793, 27.558951356715767, 86.39993471887668, 17.55554857434734, 65.75935101674855, 62.481500941367194, 43.94046213573752, 49.81234423915217, 66.1036943108726, 55.502424171915614, 69.81373310140557, 63.3115090204485, 61.88636297625471, 80.66607671120255, 17.982183654979053, 14.466714934218425, 18.904738261736135, 10.67944087798826, 10.537876913002284, 13.849248758838549, 9.777648190774567, 14.065643886972422, 8.837921392635277, 8.6201851495003, 8.017150819820671, 7.928155820928887, 34.480316400790684, 7.781256464424977, 6.378514509893825, 5.85413944261115, 5.647034737912476, 12.829260973502956, 6.764292405730978, 4.776905298841082, 4.5225937081665535, 4.457110268084608, 4.424445560420482, 4.395051930813765, 4.293644033104139, 4.293644033104139, 4.268553958875998, 4.268553958875998, 25.756476521847038, 9.774039133536272, 30.313724731342063, 20.708094466277192, 28.801402410091285, 11.636851681838005, 7.864957838873994, 23.005798825945448, 43.238715675220995, 17.231301398869853, 58.43208232011248, 14.132106239585019, 13.480114663726933, 35.51124849341841, 78.70949350840229, 31.78815129881599, 66.9558470612212, 32.14230482165519, 21.26780602479469, 30.594674164890797, 38.10989780126343, 143.7501512654176, 44.03364401499366, 73.15184568622932, 51.087674626413985, 36.71341785244303, 32.20184193765842, 22.245164269196795, 15.316175176709002, 15.123442605881467, 14.280120054817605, 10.627838303560289, 10.049482585761465, 6.740047731360285, 6.712454098329129, 6.694903940812226, 6.0346042241036475, 7.695593895224849, 21.679319505999427, 7.682059479005185, 5.133718369205885, 5.0082097567661386, 4.771975279080091, 6.638522238913286, 11.762782225815982, 4.134750734975671, 4.162323133167729, 3.8967865939640234, 4.862077342989465, 6.337874745807683, 3.65475793766732, 3.605746250442341, 3.605746250442341, 3.5651202445843317, 4.406908282745838, 5.514678518956935, 5.828762278851616, 3.2486090426471717, 9.693678742242197, 66.1036943108726, 19.809385932851466, 8.335797734449965, 10.31420162933652, 21.042018398868155, 22.901351861432406, 36.112921024866566, 18.54814582703192, 27.629011919192905, 51.8869301799365, 38.799648276922625, 8.583037499837207, 72.16934442628651, 28.415846034773683, 37.45670162032057, 24.51753123268444, 27.00258425886143, 28.612814245676894, 52.843286520779735, 143.7501512654176, 23.081097652654616, 48.66942837510159, 22.638323965304398, 191.83570244703876, 48.3179005783668, 17.30525282799065, 18.416517923770357, 13.846086314621685, 6.979361957563771, 6.509292889321073, 6.193466169052329, 6.193466169052329, 5.692413470344761, 6.024641238655696, 4.6866947949042865, 4.6866947949042865, 7.512963767024527, 6.189522315491271, 6.87601971286342, 3.9985475913602144, 4.551440154468571, 3.730331201413911, 3.730331201413911, 3.977987241734432, 3.455185848170352, 3.4118935769459853, 5.686766790047952, 6.041919637243427, 3.2720618384931135, 5.434979821135222, 5.971922525502595, 5.649044546722096, 4.137645539768737, 8.97920317277987, 5.508579604507038, 5.415576799637156, 15.800682819290941, 21.67270229947204, 9.531496648755247, 8.14721261608122, 143.7501512654176, 6.591184658061886, 50.85317618062895, 12.446373070697977, 10.058633612990214, 14.308767408148919, 20.137075261154305, 10.12735210635326, 11.02732451852446, 9.047193302566406, 20.52828581662142, 17.835129017838426, 70.31819026812218, 27.53643957377249, 13.212485378091586, 12.980461330286552, 25.786402470928138, 191.83570244703876, 51.8869301799365, 33.09435080437135, 19.90912436373276, 41.094037481658916, 78.70949350840229, 32.02046486631804, 21.536824278985918], \"Category\": [\"Default\", \"Default\", \"Default\", \"Default\", \"Default\", \"Default\", \"Default\", \"Default\", \"Default\", \"Default\", \"Default\", \"Default\", \"Default\", \"Default\", \"Default\", \"Default\", \"Default\", \"Default\", \"Default\", \"Default\", \"Default\", \"Default\", \"Default\", \"Default\", \"Default\", \"Default\", \"Default\", \"Default\", \"Default\", \"Default\", \"Topic1\", \"Topic1\", \"Topic1\", \"Topic1\", \"Topic1\", \"Topic1\", \"Topic1\", \"Topic1\", \"Topic1\", \"Topic1\", \"Topic1\", \"Topic1\", \"Topic1\", \"Topic1\", \"Topic1\", \"Topic1\", \"Topic1\", \"Topic1\", \"Topic1\", \"Topic1\", \"Topic1\", \"Topic1\", \"Topic1\", \"Topic1\", \"Topic1\", \"Topic1\", \"Topic1\", \"Topic1\", \"Topic1\", \"Topic1\", \"Topic1\", \"Topic1\", \"Topic1\", \"Topic1\", \"Topic1\", \"Topic1\", \"Topic1\", \"Topic1\", \"Topic1\", \"Topic1\", \"Topic1\", \"Topic1\", \"Topic1\", \"Topic1\", \"Topic1\", \"Topic1\", \"Topic1\", \"Topic1\", \"Topic1\", \"Topic1\", \"Topic1\", \"Topic1\", \"Topic1\", \"Topic1\", \"Topic1\", \"Topic1\", \"Topic1\", \"Topic1\", \"Topic1\", \"Topic1\", \"Topic1\", \"Topic1\", \"Topic1\", \"Topic1\", \"Topic1\", \"Topic1\", \"Topic1\", \"Topic1\", \"Topic1\", \"Topic1\", \"Topic1\", \"Topic1\", \"Topic1\", \"Topic2\", \"Topic2\", \"Topic2\", \"Topic2\", \"Topic2\", \"Topic2\", \"Topic2\", \"Topic2\", \"Topic2\", \"Topic2\", \"Topic2\", \"Topic2\", \"Topic2\", \"Topic2\", \"Topic2\", \"Topic2\", \"Topic2\", \"Topic2\", \"Topic2\", \"Topic2\", \"Topic2\", \"Topic2\", \"Topic2\", \"Topic2\", \"Topic2\", \"Topic2\", \"Topic2\", \"Topic2\", \"Topic2\", \"Topic2\", \"Topic2\", \"Topic2\", \"Topic2\", \"Topic2\", \"Topic2\", \"Topic2\", \"Topic2\", \"Topic2\", \"Topic2\", \"Topic2\", \"Topic2\", \"Topic2\", \"Topic2\", \"Topic2\", \"Topic2\", \"Topic2\", \"Topic2\", \"Topic2\", \"Topic2\", \"Topic2\", \"Topic2\", \"Topic2\", \"Topic2\", \"Topic2\", \"Topic2\", \"Topic2\", \"Topic2\", \"Topic2\", \"Topic2\", \"Topic2\", \"Topic2\", \"Topic2\", \"Topic2\", \"Topic2\", \"Topic2\", \"Topic2\", \"Topic2\", \"Topic2\", \"Topic2\", \"Topic2\", \"Topic2\", \"Topic3\", \"Topic3\", \"Topic3\", \"Topic3\", \"Topic3\", \"Topic3\", \"Topic3\", \"Topic3\", \"Topic3\", \"Topic3\", \"Topic3\", \"Topic3\", \"Topic3\", \"Topic3\", \"Topic3\", \"Topic3\", \"Topic3\", \"Topic3\", \"Topic3\", \"Topic3\", \"Topic3\", \"Topic3\", \"Topic3\", \"Topic3\", \"Topic3\", \"Topic3\", \"Topic3\", \"Topic3\", \"Topic3\", \"Topic3\", \"Topic3\", \"Topic3\", \"Topic3\", \"Topic3\", \"Topic3\", \"Topic3\", \"Topic3\", \"Topic3\", \"Topic3\", \"Topic3\", \"Topic3\", \"Topic3\", \"Topic3\", \"Topic3\", \"Topic3\", \"Topic3\", \"Topic3\", \"Topic3\", \"Topic3\", \"Topic3\", \"Topic3\", \"Topic3\", \"Topic3\", \"Topic3\", \"Topic3\", \"Topic3\", \"Topic3\", \"Topic3\", \"Topic3\", \"Topic3\", \"Topic3\", \"Topic4\", \"Topic4\", \"Topic4\", \"Topic4\", \"Topic4\", \"Topic4\", \"Topic4\", \"Topic4\", \"Topic4\", \"Topic4\", \"Topic4\", \"Topic4\", \"Topic4\", \"Topic4\", \"Topic4\", \"Topic4\", \"Topic4\", \"Topic4\", \"Topic4\", \"Topic4\", \"Topic4\", \"Topic4\", \"Topic4\", \"Topic4\", \"Topic4\", \"Topic4\", \"Topic4\", \"Topic4\", \"Topic4\", \"Topic4\", \"Topic4\", \"Topic4\", \"Topic4\", \"Topic4\", \"Topic4\", \"Topic4\", \"Topic4\", \"Topic4\", \"Topic4\", \"Topic4\", \"Topic4\", \"Topic4\", \"Topic4\", \"Topic4\", \"Topic4\", \"Topic4\", \"Topic4\", \"Topic4\", \"Topic4\", \"Topic4\", \"Topic4\", \"Topic4\", \"Topic4\", \"Topic4\", \"Topic4\", \"Topic4\", \"Topic4\", \"Topic4\", \"Topic5\", \"Topic5\", \"Topic5\", \"Topic5\", \"Topic5\", \"Topic5\", \"Topic5\", \"Topic5\", \"Topic5\", \"Topic5\", \"Topic5\", \"Topic5\", \"Topic5\", \"Topic5\", \"Topic5\", \"Topic5\", \"Topic5\", \"Topic5\", \"Topic5\", \"Topic5\", \"Topic5\", \"Topic5\", \"Topic5\", \"Topic5\", \"Topic5\", \"Topic5\", \"Topic5\", \"Topic5\", \"Topic5\", \"Topic5\", \"Topic5\", \"Topic5\", \"Topic5\", \"Topic5\", \"Topic5\", \"Topic5\", \"Topic5\", \"Topic5\", \"Topic5\", \"Topic5\", \"Topic5\", \"Topic5\", \"Topic5\", \"Topic5\", \"Topic5\", \"Topic5\", \"Topic5\", \"Topic5\", \"Topic5\", \"Topic5\", \"Topic5\", \"Topic5\", \"Topic5\", \"Topic5\", \"Topic5\", \"Topic5\", \"Topic5\", \"Topic5\", \"Topic5\", \"Topic5\", \"Topic6\", \"Topic6\", \"Topic6\", \"Topic6\", \"Topic6\", \"Topic6\", \"Topic6\", \"Topic6\", \"Topic6\", \"Topic6\", \"Topic6\", \"Topic6\", \"Topic6\", \"Topic6\", \"Topic6\", \"Topic6\", \"Topic6\", \"Topic6\", \"Topic6\", \"Topic6\", \"Topic6\", \"Topic6\", \"Topic6\", \"Topic6\", \"Topic6\", \"Topic6\", \"Topic6\", \"Topic6\", \"Topic6\", \"Topic6\", \"Topic6\", \"Topic6\", \"Topic6\", \"Topic6\", \"Topic6\", \"Topic6\", \"Topic6\", \"Topic6\", \"Topic6\", \"Topic6\", \"Topic6\", \"Topic6\", \"Topic6\", \"Topic6\", \"Topic6\", \"Topic6\", \"Topic6\", \"Topic6\", \"Topic6\", \"Topic6\", \"Topic6\", \"Topic6\", \"Topic6\", \"Topic6\", \"Topic6\", \"Topic6\", \"Topic6\", \"Topic7\", \"Topic7\", \"Topic7\", \"Topic7\", \"Topic7\", \"Topic7\", \"Topic7\", \"Topic7\", \"Topic7\", \"Topic7\", \"Topic7\", \"Topic7\", \"Topic7\", \"Topic7\", \"Topic7\", \"Topic7\", \"Topic7\", \"Topic7\", \"Topic7\", \"Topic7\", \"Topic7\", \"Topic7\", \"Topic7\", \"Topic7\", \"Topic7\", \"Topic7\", \"Topic7\", \"Topic7\", \"Topic7\", \"Topic7\", \"Topic7\", \"Topic7\", \"Topic7\", \"Topic7\", \"Topic7\", \"Topic7\", \"Topic7\", \"Topic7\", \"Topic7\", \"Topic7\", \"Topic7\", \"Topic7\", \"Topic7\", \"Topic7\", \"Topic7\", \"Topic7\", \"Topic7\", \"Topic7\", \"Topic7\", \"Topic7\", \"Topic7\", \"Topic7\", \"Topic7\", \"Topic7\", \"Topic7\", \"Topic7\", \"Topic8\", \"Topic8\", \"Topic8\", \"Topic8\", \"Topic8\", \"Topic8\", \"Topic8\", \"Topic8\", \"Topic8\", \"Topic8\", \"Topic8\", \"Topic8\", \"Topic8\", \"Topic8\", \"Topic8\", \"Topic8\", \"Topic8\", \"Topic8\", \"Topic8\", \"Topic8\", \"Topic8\", \"Topic8\", \"Topic8\", \"Topic8\", \"Topic8\", \"Topic8\", \"Topic8\", \"Topic8\", \"Topic8\", \"Topic8\", \"Topic8\", \"Topic8\", \"Topic8\", \"Topic8\", \"Topic8\", \"Topic8\", \"Topic8\", \"Topic8\", \"Topic8\", \"Topic8\", \"Topic8\", \"Topic8\", \"Topic8\", \"Topic8\", \"Topic8\", \"Topic8\", \"Topic8\", \"Topic8\", \"Topic8\", \"Topic8\", \"Topic8\", \"Topic8\", \"Topic8\", \"Topic8\", \"Topic8\", \"Topic8\", \"Topic8\", \"Topic9\", \"Topic9\", \"Topic9\", \"Topic9\", \"Topic9\", \"Topic9\", \"Topic9\", \"Topic9\", \"Topic9\", \"Topic9\", \"Topic9\", \"Topic9\", \"Topic9\", \"Topic9\", \"Topic9\", \"Topic9\", \"Topic9\", \"Topic9\", \"Topic9\", \"Topic9\", \"Topic9\", \"Topic9\", \"Topic9\", \"Topic9\", \"Topic9\", \"Topic9\", \"Topic9\", \"Topic9\", \"Topic9\", \"Topic9\", \"Topic9\", \"Topic9\", \"Topic9\", \"Topic9\", \"Topic9\", \"Topic9\", \"Topic9\", \"Topic9\", \"Topic9\", \"Topic9\", \"Topic9\", \"Topic9\", \"Topic9\", \"Topic9\", \"Topic9\", \"Topic9\", \"Topic9\", \"Topic9\", \"Topic9\", \"Topic9\", \"Topic9\", \"Topic9\", \"Topic9\", \"Topic9\", \"Topic9\", \"Topic9\", \"Topic9\", \"Topic9\", \"Topic9\"], \"logprob\": [30.0, 29.0, 28.0, 27.0, 26.0, 25.0, 24.0, 23.0, 22.0, 21.0, 20.0, 19.0, 18.0, 17.0, 16.0, 15.0, 14.0, 13.0, 12.0, 11.0, 10.0, 9.0, 8.0, 7.0, 6.0, 5.0, 4.0, 3.0, 2.0, 1.0, -5.7167, -4.9026, -6.784, -6.8931, -6.8973, -5.5572, -6.648, -7.0687, -7.084, -6.8615, -7.0273, -7.0283, -6.8816, -7.0392, -6.7789, -6.3718, -7.2515, -7.2708, -7.2652, -6.2007, -7.3069, -6.666, -6.6561, -7.0817, -7.1825, -7.3799, -7.3948, -7.4227, -7.4493, -7.4693, -7.0626, -6.4742, -6.2487, -6.631, -6.6273, -5.7828, -6.0167, -6.8133, -6.6497, -5.7216, -5.4879, -6.0641, -6.4674, -5.8044, -5.8407, -5.0812, -6.108, -6.0031, -5.4548, -6.0778, -5.5299, -5.9737, -6.1598, -5.4777, -5.5999, -5.3826, -5.6815, -5.7821, -5.8904, -5.8232, -5.7757, -5.5444, -5.7204, -5.8856, -5.8509, -5.9545, -5.8612, -5.6788, -5.9008, -5.892, -5.6733, -5.932, -5.9231, -5.8497, -5.8611, -6.5878, -6.7896, -6.8144, -6.6709, -6.7393, -6.8901, -6.7282, -6.9119, -6.7893, -6.9759, -6.9854, -6.9943, -6.8681, -7.049, -7.0499, -6.7879, -7.1074, -6.4912, -7.1198, -7.1411, -7.1346, -5.3202, -7.1561, -5.0163, -7.2256, -7.2373, -6.9494, -6.3028, -4.7096, -6.5685, -5.8186, -6.5792, -6.7975, -4.5223, -4.9778, -5.9678, -6.3041, -6.4366, -6.5711, -5.513, -6.1697, -5.712, -6.2796, -5.4903, -5.1905, -5.1674, -6.0254, -4.9339, -6.3211, -5.3958, -5.3685, -5.4467, -5.3623, -5.7085, -6.0427, -5.0862, -5.7721, -6.1929, -4.9922, -5.6788, -5.4318, -5.8872, -5.638, -5.7545, -5.7256, -5.645, -5.7272, -5.8336, -5.8444, -5.9279, -6.1767, -6.3228, -5.636, -5.8326, -4.8654, -5.8755, -6.4433, -6.4597, -5.5367, -6.586, -6.606, -6.2356, -6.6273, -6.6528, -6.4511, -6.1706, -6.4154, -6.8198, -6.831, -6.8319, -5.8707, -5.8421, -6.8982, -6.8323, -6.9309, -6.9452, -6.9486, -6.9488, -6.8169, -4.5262, -6.5724, -6.5627, -6.2972, -5.8538, -5.979, -5.1904, -4.565, -5.1669, -6.0073, -6.1146, -6.1787, -4.9644, -4.7901, -5.4393, -5.8934, -6.0783, -5.1422, -5.0681, -5.9727, -5.0903, -5.96, -5.5484, -5.7202, -5.8621, -5.6507, -5.7895, -5.7666, -5.9141, -5.8774, -5.9106, -5.6523, -5.2945, -6.3485, -6.4046, -6.2778, -5.3219, -4.3484, -6.5313, -6.6743, -6.8231, -3.9042, -6.8639, -6.2822, -6.8795, -6.5889, -4.3024, -6.9955, -7.0085, -5.7274, -6.8218, -7.0454, -4.371, -7.0442, -4.651, -7.0747, -7.0768, -7.0827, -7.098, -6.1257, -6.7907, -4.5221, -4.3142, -5.0295, -5.0433, -5.5406, -6.0915, -6.522, -6.293, -4.1896, -4.5864, -5.0511, -5.0332, -5.4491, -5.4273, -5.6046, -4.5267, -4.7917, -5.8712, -5.6599, -5.0274, -5.4224, -5.3246, -4.8514, -5.6805, -5.2838, -5.1753, -5.422, -5.5876, -5.673, -5.8738, -5.9535, -5.9747, -6.0473, -6.1327, -6.1386, -6.2199, -5.9411, -6.2913, -6.2913, -5.8882, -5.6906, -5.5779, -6.3424, -6.1838, -6.3604, -5.6846, -6.4301, -6.4521, -6.4611, -6.4625, -6.4659, -6.5051, -6.5248, -6.5624, -6.564, -4.657, -6.6259, -6.2654, -5.5438, -4.8697, -5.9577, -5.9769, -5.4226, -5.5255, -5.4551, -5.6162, -4.6242, -5.123, -5.6986, -5.754, -5.3307, -5.7479, -4.2578, -5.7278, -5.3105, -5.0328, -5.1153, -5.4693, -5.6739, -5.4206, -5.2121, -5.578, -5.3879, -5.2185, -5.223, -5.6036, -5.668, -5.7243, -5.6798, -5.6969, -5.7859, -5.8185, -5.8643, -5.903, -5.9253, -6.0289, -5.5867, -6.21, -5.3362, -5.7718, -5.3078, -5.8173, -6.4485, -6.4582, -6.4594, -6.4662, -6.4688, -6.4782, -5.8145, -5.3353, -6.2585, -5.5054, -6.5854, -6.6033, -5.2713, -5.6941, -6.4328, -6.3335, -4.979, -5.5306, -5.2005, -5.0179, -3.3892, -4.6759, -5.8657, -5.5605, -5.0579, -6.0199, -5.3105, -5.1347, -5.1049, -5.2221, -5.539, -5.1865, -5.7038, -5.4147, -5.4319, -5.5263, -5.5098, -5.4831, -5.5463, -5.5767, -5.6093, -5.6129, -5.6708, -4.8743, -5.1035, -4.8504, -5.4285, -5.4438, -5.1717, -5.5244, -5.1656, -5.6352, -5.6627, -5.7431, -5.7556, -4.2871, -5.7765, -6.0014, -6.1004, -6.1424, -5.3328, -5.9783, -6.341, -6.4074, -6.4253, -6.4343, -6.4424, -6.4712, -6.4712, -6.4784, -6.4784, -4.6933, -5.6633, -4.5814, -4.9548, -4.6447, -5.5373, -5.9095, -4.9413, -4.3948, -5.2214, -4.1685, -5.43, -5.4944, -4.8251, -4.3942, -4.9871, -4.5543, -5.0483, -5.2794, -5.141, -5.0553, -4.5848, -5.1478, -5.0079, -5.1984, -5.277, -5.3952, -5.4113, -4.9132, -4.9267, -4.9886, -5.304, -5.3795, -5.8089, -5.8135, -5.8165, -5.9357, -5.694, -4.6596, -5.7077, -6.1254, -6.1549, -6.2132, -5.8834, -5.3387, -6.3888, -6.3856, -6.4633, -6.2545, -5.9931, -6.5453, -6.5627, -6.5627, -6.5774, -6.3711, -6.1488, -6.1147, -6.7005, -5.7334, -4.0814, -5.1313, -5.8868, -5.7209, -5.1653, -5.1125, -4.7748, -5.3764, -5.1495, -4.7606, -5.0148, -5.8969, -4.769, -5.2965, -5.202, -5.4084, -5.469, -5.4679, -5.2999, -5.1239, -5.5911, -5.4606, -5.6269, -5.4232, -5.5879, -5.6751, -4.4697, -4.806, -5.5184, -5.5974, -5.6544, -5.6544, -5.7521, -5.6958, -5.9827, -5.9827, -5.5205, -5.725, -5.6348, -6.1781, -6.052, -6.2658, -6.2658, -6.2032, -6.3649, -6.3812, -5.8729, -5.8154, -6.4365, -5.948, -5.8552, -5.9349, -6.2577, -5.4933, -5.9849, -6.0248, -4.9801, -4.7868, -5.5154, -5.6664, -3.3747, -5.8569, -4.5245, -5.4681, -5.6116, -5.4108, -5.2112, -5.6234, -5.5881, -5.6946, -5.2952, -5.3863, -4.9046, -5.2707, -5.5656, -5.5794, -5.3863, -4.8561, -5.2852, -5.4012, -5.5128, -5.405, -5.3723, -5.4912, -5.6071], \"loglift\": [30.0, 29.0, 28.0, 27.0, 26.0, 25.0, 24.0, 23.0, 22.0, 21.0, 20.0, 19.0, 18.0, 17.0, 16.0, 15.0, 14.0, 13.0, 12.0, 11.0, 10.0, 9.0, 8.0, 7.0, 6.0, 5.0, 4.0, 3.0, 2.0, 1.0, 1.3904, 1.3702, 1.3618, 1.3527, 1.3524, 1.346, 1.3417, 1.3358, 1.3344, 1.3297, 1.329, 1.3213, 1.3213, 1.3207, 1.3193, 1.3161, 1.3154, 1.3131, 1.3093, 1.3091, 1.3085, 1.3074, 1.3072, 1.3049, 1.3001, 1.2989, 1.2968, 1.2928, 1.2881, 1.2863, 1.2831, 1.2713, 1.2594, 1.2671, 1.2666, 1.2237, 1.2189, 1.2721, 1.2541, 1.1451, 1.117, 1.1827, 1.205, 1.0616, 1.0352, 0.7694, 1.0616, 1.0216, 0.8457, 1.0431, 0.7844, 0.9073, 0.9758, 0.5909, 0.6038, 0.4336, 0.6168, 0.6825, 0.7454, 0.6947, 0.6156, 0.3635, 0.5226, 0.6889, 0.6079, 0.765, 0.5282, 0.0032, 0.5763, 0.5423, -0.4472, 0.5834, 0.4247, 1.4638, 1.4524, 1.4116, 1.411, 1.4086, 1.4075, 1.404, 1.4021, 1.3987, 1.3976, 1.3963, 1.3938, 1.3929, 1.392, 1.3873, 1.3863, 1.3862, 1.3822, 1.3799, 1.3787, 1.3785, 1.376, 1.3746, 1.3743, 1.3743, 1.3703, 1.3659, 1.3644, 1.3644, 1.3629, 1.3601, 1.3622, 1.3524, 1.3589, 1.3616, 1.2605, 1.2591, 1.3137, 1.3283, 1.3354, 1.3455, 1.2495, 1.3097, 1.2617, 1.3155, 1.1914, 1.1343, 1.1293, 1.2446, 1.0047, 1.2854, 1.0417, 1.0189, 1.024, 0.9985, 1.0781, 1.1858, 0.7883, 1.0463, 1.2285, 0.6595, 0.9327, 0.7654, 0.9917, 0.7746, 0.8442, 0.7393, 0.5847, 0.488, 0.6184, 0.5899, 1.9206, 1.9039, 1.8922, 1.8872, 1.8849, 1.8841, 1.8829, 1.8813, 1.8796, 1.8707, 1.8666, 1.8645, 1.8626, 1.8621, 1.8592, 1.8586, 1.8564, 1.8441, 1.8384, 1.8368, 1.8367, 1.8322, 1.8278, 1.8275, 1.8269, 1.8228, 1.8207, 1.8201, 1.8201, 1.8173, 1.8118, 1.8166, 1.8116, 1.8, 1.778, 1.7715, 1.6917, 1.6006, 1.622, 1.7261, 1.7402, 1.7311, 1.4361, 1.3487, 1.4999, 1.6427, 1.6391, 0.9502, 0.8399, 1.5034, 0.5917, 1.3646, 0.7334, 0.9878, 1.1704, 0.6636, 0.7659, 0.5619, 1.0229, 0.4637, 0.158, 2.2187, 2.2054, 2.1899, 2.183, 2.1762, 2.1664, 2.1526, 2.1487, 2.1454, 2.1206, 2.1195, 2.1133, 2.1052, 2.102, 2.093, 2.0908, 2.0877, 2.0851, 2.0776, 2.0775, 2.0774, 2.0751, 2.0739, 2.0725, 2.0711, 2.0707, 2.0693, 2.066, 2.0657, 2.0595, 2.0514, 2.0433, 2.0384, 2.0364, 2.0251, 2.0143, 2.0397, 2.0131, 1.7558, 1.7683, 1.7625, 1.7417, 1.7743, 1.6787, 1.7316, 1.2896, 1.3007, 1.7925, 1.659, 1.1115, 1.4198, 1.2958, 0.8305, 1.5827, 0.9949, 0.8438, 0.6467, 0.7534, 2.5054, 2.4917, 2.4835, 2.4812, 2.4731, 2.4629, 2.4621, 2.4516, 2.4466, 2.4418, 2.4418, 2.441, 2.441, 2.4356, 2.4343, 2.4324, 2.4316, 2.4275, 2.4207, 2.4171, 2.4157, 2.4155, 2.4149, 2.4083, 2.4049, 2.3983, 2.398, 2.397, 2.3866, 2.3857, 2.3595, 2.3275, 2.3594, 2.3443, 2.2589, 2.2283, 2.2107, 2.2353, 1.9638, 2.0829, 2.2143, 2.1843, 2.0108, 2.1693, 1.3939, 2.1215, 1.8125, 1.5649, 1.5825, 1.8736, 2.0428, 1.7551, 1.4878, 1.7522, 1.1478, 0.7201, 0.0031, 1.0377, 0.9679, 1.5958, 2.5857, 2.5842, 2.5758, 2.5725, 2.5678, 2.5636, 2.5611, 2.549, 2.5357, 2.5248, 2.5231, 2.5176, 2.5079, 2.4876, 2.4871, 2.4854, 2.4851, 2.4839, 2.4834, 2.4818, 2.4756, 2.4745, 2.4673, 2.4618, 2.4598, 2.4582, 2.4559, 2.4547, 2.4545, 2.4526, 2.4112, 2.4004, 2.3684, 2.2013, 1.8369, 2.0843, 2.3421, 2.2373, 2.0772, 2.3566, 2.1178, 1.951, 1.8872, 1.8252, 1.6275, 0.8373, 1.9135, 0.882, 0.9159, 1.1736, 1.0647, 0.8084, 0.92, 0.6602, 0.7253, 0.7446, 0.4216, 2.719, 2.7074, 2.6929, 2.6859, 2.684, 2.6828, 2.6783, 2.6734, 2.6685, 2.6659, 2.658, 2.6567, 2.6553, 2.6546, 2.6284, 2.6152, 2.6092, 2.5982, 2.5928, 2.5779, 2.5663, 2.563, 2.5613, 2.5598, 2.5544, 2.5544, 2.5531, 2.5531, 2.5407, 2.5397, 2.4897, 2.4974, 2.4776, 2.4912, 2.5108, 2.4057, 2.3212, 2.4146, 2.2464, 2.4043, 2.3872, 2.0878, 1.7228, 2.0365, 1.7244, 1.9642, 2.1461, 1.9209, 1.7869, 0.9298, 1.55, 1.1823, 1.3508, 1.6026, 1.6155, 1.9693, 2.8406, 2.8398, 2.8352, 2.8153, 2.7957, 2.7658, 2.7653, 2.7649, 2.7495, 2.7481, 2.7468, 2.7361, 2.7215, 2.7167, 2.7068, 2.7065, 2.6791, 2.6745, 2.671, 2.6592, 2.6468, 2.6431, 2.6414, 2.6375, 2.6375, 2.6341, 2.6284, 2.6265, 2.6052, 2.604, 2.4778, 2.2101, 2.3653, 2.4754, 2.4283, 2.2709, 2.239, 2.1213, 2.1859, 2.0144, 1.7731, 1.8095, 2.4361, 1.4348, 1.8393, 1.6575, 1.8749, 1.7178, 1.661, 1.2155, 0.3907, 1.7526, 1.1371, 1.7362, -0.1971, 1.0171, 1.9566, 3.0997, 3.0487, 3.0214, 3.0121, 3.0048, 3.0048, 2.9915, 2.991, 2.9554, 2.9554, 2.9456, 2.9349, 2.9199, 2.9187, 2.9153, 2.9004, 2.9004, 2.8988, 2.878, 2.8743, 2.8717, 2.8686, 2.8608, 2.8419, 2.8405, 2.8164, 2.8049, 2.7945, 2.7915, 2.7687, 2.7426, 2.6199, 2.7127, 2.7186, 2.14, 2.7401, 2.0293, 2.4932, 2.5627, 2.411, 2.269, 2.5441, 2.4943, 2.5857, 2.1658, 2.2153, 1.3251, 1.8965, 2.336, 2.3399, 1.8466, 0.37, 1.2484, 1.5822, 1.9787, 1.3619, 0.7447, 1.5252, 1.8059]}, \"token.table\": {\"Topic\": [7, 1, 8, 8, 4, 9, 9, 5, 8, 1, 2, 3, 4, 8, 1, 4, 1, 2, 3, 4, 5, 6, 8, 9, 8, 2, 3, 2, 2, 2, 2, 4, 7, 8, 6, 3, 1, 2, 3, 4, 6, 7, 8, 9, 1, 8, 9, 1, 2, 3, 4, 6, 8, 9, 3, 6, 7, 7, 1, 4, 5, 7, 9, 2, 5, 6, 7, 7, 2, 8, 1, 2, 5, 7, 7, 8, 7, 1, 5, 7, 1, 2, 3, 8, 3, 4, 5, 2, 3, 4, 5, 1, 2, 3, 4, 5, 6, 7, 8, 3, 2, 4, 5, 8, 1, 2, 3, 4, 5, 6, 1, 2, 3, 4, 5, 6, 8, 9, 2, 3, 4, 6, 8, 4, 1, 2, 6, 1, 2, 3, 1, 2, 3, 5, 7, 7, 1, 2, 4, 5, 8, 4, 4, 1, 2, 3, 4, 5, 6, 7, 8, 9, 2, 6, 6, 2, 3, 4, 5, 6, 8, 2, 1, 2, 3, 4, 5, 6, 9, 9, 1, 2, 3, 4, 5, 6, 4, 1, 2, 3, 4, 8, 1, 9, 1, 2, 3, 4, 5, 7, 8, 2, 3, 6, 7, 1, 2, 3, 4, 2, 3, 4, 8, 9, 6, 1, 3, 6, 1, 2, 3, 5, 6, 7, 8, 9, 1, 2, 5, 8, 2, 5, 1, 9, 1, 2, 3, 4, 6, 7, 8, 7, 1, 3, 1, 2, 3, 4, 5, 6, 8, 1, 2, 3, 5, 7, 8, 1, 2, 7, 8, 7, 1, 3, 6, 2, 4, 6, 1, 2, 5, 7, 5, 4, 2, 6, 3, 3, 1, 2, 5, 6, 7, 8, 1, 2, 3, 4, 5, 6, 9, 1, 2, 3, 4, 5, 7, 5, 1, 7, 1, 6, 1, 2, 3, 4, 5, 1, 4, 8, 9, 1, 4, 9, 2, 4, 7, 8, 2, 1, 2, 3, 4, 5, 6, 8, 9, 1, 2, 3, 4, 5, 6, 8, 9, 1, 2, 4, 5, 6, 4, 8, 8, 4, 3, 1, 2, 3, 4, 6, 7, 8, 1, 2, 3, 4, 1, 1, 2, 8, 5, 5, 2, 3, 6, 7, 6, 6, 3, 1, 3, 8, 1, 2, 3, 8, 1, 3, 4, 8, 6, 1, 2, 3, 4, 5, 1, 1, 7, 5, 6, 5, 1, 5, 7, 7, 1, 7, 8, 3, 4, 1, 3, 4, 5, 8, 8, 3, 3, 4, 2, 2, 1, 2, 3, 5, 6, 8, 9, 2, 5, 8, 8, 1, 5, 7, 8, 1, 7, 8, 7, 1, 9, 1, 3, 4, 6, 7, 9, 1, 3, 4, 6, 1, 2, 3, 4, 5, 6, 4, 6, 1, 2, 3, 4, 5, 6, 2, 1, 2, 3, 4, 6, 7, 8, 4, 1, 2, 3, 4, 6, 8, 7, 8, 4, 2, 2, 1, 3, 7, 1, 3, 4, 7, 8, 3, 3, 3, 4, 8, 4, 1, 2, 3, 4, 7, 8, 1, 2, 3, 4, 5, 6, 8, 9, 1, 2, 3, 4, 6, 7, 8, 1, 2, 4, 7, 1, 2, 3, 4, 5, 6, 7, 8, 9, 1, 6, 9, 1, 2, 4, 5, 6, 9, 9, 3, 9, 3, 9, 3, 6, 9, 1, 2, 5, 6, 7, 8, 1, 7, 9, 1, 2, 3, 4, 5, 6, 7, 1, 2, 3, 4, 5, 8, 3, 1, 2, 3, 4, 7, 8, 1, 7, 1, 2, 3, 4, 3, 4, 1, 2, 3, 4, 6, 1, 2, 3, 5, 6, 7, 5, 1, 2, 3, 4, 6, 6, 7, 7, 1, 3, 1, 2, 3, 4, 6, 7, 4, 2, 3, 4, 5, 6, 2, 3, 2, 3, 5, 2, 5, 2, 4, 5, 1, 2, 3, 4, 5, 6, 8, 1, 1, 2, 3, 4, 5, 5, 3, 5, 1, 2, 3, 4, 5, 6, 8, 8, 1, 2, 3, 5, 1, 2, 3, 5, 2, 5, 5, 2, 8, 3, 3, 2, 5, 6, 7, 9, 2, 5, 1, 2, 3, 4, 5, 8, 5, 1, 2, 6, 8, 8, 6, 2, 2, 6, 3, 6, 5, 9, 1, 4, 5, 6, 7, 8, 9, 7, 1, 5, 7, 8, 9, 5, 9, 1, 2, 3, 4, 5, 9, 1, 2, 3, 4, 5, 7, 7, 9, 7, 7, 1, 5, 1, 2, 4, 5, 7, 8, 1, 4, 7, 8, 8, 9, 1, 2, 3, 4, 5, 6, 8, 1, 2, 3, 4, 5, 6, 7, 9, 1, 2, 3, 4, 5, 1, 2, 3, 4, 5, 6, 7, 8, 1, 3, 8, 3, 6, 6, 6, 8, 1, 2, 4, 5, 6, 7, 4, 1, 8, 1, 3, 8, 3, 5, 5, 1, 2, 3, 5, 6, 7, 8, 2, 6, 7, 1, 3, 4, 6, 7, 1, 2, 1, 9, 1, 2, 2, 4, 1, 3, 7, 8, 1, 2, 3, 4, 6, 7, 8, 9, 8, 2, 3, 1, 2, 3, 4, 6, 9, 1, 1, 5, 9, 1, 2, 5, 7, 5, 1, 2, 3, 4, 6, 8, 9, 9, 3, 6, 1, 2, 3, 4, 5, 6, 7, 8, 9, 5, 1, 2, 3, 5, 6, 7, 9, 9, 1, 2, 3, 6, 7, 8, 7, 1, 2, 3, 4, 5, 6, 7, 9, 2, 4, 5, 5, 1, 2, 3, 4, 5, 6, 7, 8, 3, 3, 3, 4, 6, 3, 4, 6, 4, 6, 1, 4, 5, 6, 8, 1, 2, 3, 5, 6, 7, 8, 9, 1, 3, 5, 1, 2, 7, 9, 1, 3, 4, 5, 7, 8, 4, 9, 5, 5, 2, 4, 8, 8, 1, 2, 3, 4, 5, 7, 9, 1, 2, 4, 5, 8, 4, 5, 3, 4, 5, 6, 1, 2, 3, 4, 6, 8, 9, 7, 9, 1, 2, 5, 1, 2, 3, 5, 6, 7, 8, 9, 1, 9, 1, 2, 3, 4, 5, 6, 7, 8, 2, 1, 1, 2, 3, 4, 5, 6, 7, 8, 9, 1, 3, 4, 6, 7, 8, 8, 1, 2, 4, 5, 7, 8, 1, 2, 4, 7, 9, 1, 2, 3, 4, 5, 6, 1, 2, 3, 4, 6, 8, 5, 1, 2, 3, 4, 6, 8, 9, 1, 2, 3, 4, 6, 9, 6, 6, 6, 5, 8, 8, 1, 2, 3, 4, 8, 9, 1, 2, 3, 4, 6, 8, 9, 4, 1, 2, 3, 4, 6, 7, 8, 9, 1, 2, 3, 4, 7, 1, 3, 1, 2, 3, 5, 6, 8, 1, 2, 3, 4, 5, 6, 7, 8, 9, 8, 7, 3, 1, 2, 3, 4, 5, 6, 8, 1, 3, 4, 9, 9, 8, 1, 2, 3, 5, 2, 1, 2, 3, 4, 5, 6, 7, 8, 1, 2, 4, 5, 6, 7, 1, 2, 5, 6, 1, 2, 4, 5, 2, 4, 5, 7, 8, 2, 5, 9, 9, 2, 4, 4, 1, 1, 2, 3, 5, 6, 8, 1, 2, 3, 4, 5, 6, 7, 8, 9, 1, 3, 2, 5, 7, 1, 7, 8, 4, 6, 4, 5, 5, 1, 2, 4, 1, 2, 1, 2, 5, 1, 2, 5, 2, 5, 9, 5, 1, 4, 5, 6, 7, 8, 2, 1, 3, 1, 1, 2, 3, 4, 5, 6, 7, 8, 1, 2, 3, 4, 5, 6, 9, 1, 2, 3, 4, 5, 6, 7, 9, 1, 2, 3, 4, 5, 6, 8, 9, 2, 3, 9, 1, 7, 1, 6, 1, 8, 9, 8, 3, 6, 1, 2, 3, 1, 2, 3, 5, 8, 1, 9, 9, 9, 1, 2, 3, 4, 5, 6, 7, 8, 7, 8, 1, 2, 3, 6, 8, 6, 1, 2, 3, 8, 1, 3, 8, 1, 1, 2, 3, 4, 5, 6, 8, 1, 2, 4, 5, 6, 8, 2, 1, 2, 3, 4, 5, 8, 1, 2, 3, 4, 7, 8, 1, 2, 1, 2, 3, 4, 5, 6, 8, 1, 2, 3, 4, 5, 6, 7, 8, 9, 1, 2, 3, 5, 6, 7, 8, 8, 1, 3, 3, 4, 4, 1, 3, 5, 9, 1, 4, 8, 1, 3, 1, 3, 1, 5, 7, 6, 1, 2, 3, 4, 5, 6, 7, 8, 5, 1, 2, 3, 4, 5, 6, 7, 8, 1, 2, 3, 4, 5, 6, 7, 8, 1, 2, 4, 7, 4, 7, 2, 4, 9, 1, 2, 3, 4, 5, 6, 7, 9, 3, 1, 2, 3, 4, 6, 9, 6, 1, 2, 3, 4, 5, 6, 1, 2, 3, 4, 6, 2, 2, 2, 3, 5, 6, 8, 9, 1, 3, 5, 5, 1, 2, 3, 4, 5, 6, 7, 8, 9, 2, 8, 1, 2, 3, 4, 5, 6, 5, 1, 3, 6, 8, 6, 2, 2, 4, 6, 8, 1, 2, 3, 1, 3, 1, 3, 9, 3, 8, 2, 9, 9, 9, 9, 3, 1, 2, 3, 4, 5, 6, 7, 8, 9, 1, 3, 6, 9, 3, 6, 6, 1, 2, 3, 4, 6, 7, 8, 4, 9, 3, 4, 5, 2, 3, 4, 5, 6, 4, 9, 1, 4, 4, 7, 8, 7, 1, 2, 3, 4, 9, 1, 2, 3, 4, 5, 6, 8, 9, 9, 1, 2, 4, 6, 1, 2, 3, 5, 1, 2, 3, 9, 1, 3, 1, 3, 1, 3, 1, 2, 3, 5, 6, 7, 1, 2, 3, 5, 7, 8, 9, 2, 3, 5, 7, 8, 1, 2, 3, 4, 5, 6, 8, 9, 3, 1, 2, 3, 4, 9, 1, 2, 3, 4, 5, 6, 7, 1, 2, 3, 4, 6, 1, 2, 3, 4, 5, 6, 7, 8, 9, 1, 2, 3, 5, 6, 2, 1, 2, 4, 6], \"Freq\": [0.9204667445993511, 0.20632002082806697, 0.6189600624842009, 0.7531796716280175, 0.1517177945814139, 0.6068711783256556, 0.7541502316865093, 0.8037637817223036, 0.8226936179383331, 0.7243692209522535, 0.04139252691155734, 0.062088790367336014, 0.02069626345577867, 0.1448738441904507, 0.12302509856420259, 0.8611756899494181, 0.12328067537093763, 0.14382745459942725, 0.020546779228489607, 0.08218711691395843, 0.34929524688432334, 0.041093558456979214, 0.16437423382791685, 0.06164033768546882, 0.7986885921852539, 0.8967592723636181, 0.05978395149090787, 0.966859141002945, 0.8602571075495486, 0.9180984455021848, 0.9052761860802296, 0.11996452311543337, 0.11996452311543337, 0.5998226155771669, 0.8930347328747349, 0.8872656337292797, 0.21630900616567844, 0.09832227552985384, 0.07865782042388307, 0.07865782042388307, 0.05899336531791231, 0.039328910211941535, 0.09832227552985384, 0.33429573680150304, 0.27954888677007766, 0.20966166507755826, 0.48921055184763595, 0.1288494982264889, 0.06442474911324444, 0.19327424733973333, 0.03221237455662222, 0.4187608692360889, 0.09663712366986667, 0.03221237455662222, 0.11162464191167697, 0.7813724933817389, 0.7028141213400438, 0.9051902188976783, 0.1986385782505493, 0.04965964456263733, 0.04965964456263733, 0.24829822281318664, 0.3972771565010986, 0.29894714126796695, 0.6576837107895274, 0.8513690368367178, 0.8854204431277036, 0.940657889966903, 0.9394267669317291, 0.7698650997842396, 0.14152172125608992, 0.07076086062804496, 0.07076086062804496, 0.7076086062804495, 0.9521422487203984, 0.05289679159557769, 0.9489577533081053, 0.22255003572577703, 0.07418334524192569, 0.6676501071773311, 0.782343994106213, 0.06018030723893946, 0.12036061447787892, 0.06018030723893946, 0.7808852495197848, 0.0650737707933154, 0.0650737707933154, 0.0239150281053028, 0.9087710680015063, 0.0478300562106056, 0.0239150281053028, 0.4004157451348026, 0.23357585132863484, 0.1334719150449342, 0.08341994690308388, 0.050051968141850325, 0.03336797876123355, 0.0667359575224671, 0.03336797876123355, 0.8660477302131413, 0.060735362940186485, 0.12147072588037297, 0.7288243552822379, 0.060735362940186485, 0.5727598074520728, 0.1636456592720208, 0.0818228296360104, 0.0818228296360104, 0.0545485530906736, 0.0272742765453368, 0.41892128953263413, 0.18213969110114528, 0.21856762932137433, 0.03642793822022906, 0.03642793822022906, 0.05464190733034358, 0.03642793822022906, 0.01821396911011453, 0.06576009075866093, 0.032880045379330466, 0.7562410437246008, 0.06576009075866093, 0.06576009075866093, 0.7700686029454641, 0.06357610129602125, 0.1271522025920425, 0.8264893168482762, 0.834451782624358, 0.07585925296585073, 0.07585925296585073, 0.1798143610716716, 0.1348607708037537, 0.1348607708037537, 0.0899071805358358, 0.449535902679179, 0.8731281420693764, 0.1604414873533688, 0.0200551859191711, 0.7620970649285018, 0.0200551859191711, 0.0200551859191711, 0.7664322896206891, 0.7879471405049165, 0.27901351198605384, 0.0643877335352432, 0.08585031138032426, 0.10731288922540533, 0.21462577845081066, 0.04292515569016213, 0.08585031138032426, 0.08585031138032426, 0.04292515569016213, 0.9517045476365766, 0.8657034441595163, 0.9321191240492224, 0.2699220194438493, 0.5735842913181798, 0.050610378645721744, 0.050610378645721744, 0.03374025243048116, 0.01687012621524058, 0.8533755535186733, 0.17034101365980986, 0.04866886104565996, 0.26767873575112977, 0.2920131662739598, 0.02433443052282998, 0.02433443052282998, 0.17034101365980986, 0.8682600970910466, 0.015638977684449513, 0.6881150181157786, 0.09383386610669708, 0.07819488842224757, 0.07819488842224757, 0.031277955368899026, 0.802418464682086, 0.07038326423758472, 0.4222995854255083, 0.07038326423758472, 0.07038326423758472, 0.3519163211879236, 0.1331032640393054, 0.7986195842358323, 0.4163253546190559, 0.1703149177987047, 0.056771639266234894, 0.03784775951082327, 0.11354327853246979, 0.018923879755411634, 0.18923879755411632, 0.09429748654055692, 0.2357437163513923, 0.5657849192433415, 0.04714874327027846, 0.2975232154264465, 0.12750994946847707, 0.5525431143634006, 0.042503316489492356, 0.7752976664853339, 0.024228052077666686, 0.14536831246600013, 0.024228052077666686, 0.024228052077666686, 0.7331845045762894, 0.15261463435856332, 0.7630731717928165, 0.07630731717928166, 0.1873801653114453, 0.28107024796716795, 0.09369008265572265, 0.09369008265572265, 0.03123002755190755, 0.09369008265572265, 0.03123002755190755, 0.1873801653114453, 0.09924831617679425, 0.8436106875027511, 0.049624158088397124, 0.049624158088397124, 0.8813178876087449, 0.09792420973430499, 0.18399332341791963, 0.7359732936716785, 0.2451419815003988, 0.16342798766693253, 0.10895199177795502, 0.10895199177795502, 0.027237997944488754, 0.2996179773893763, 0.027237997944488754, 0.9363786095404417, 0.14445446174978147, 0.794499539623798, 0.1366013696284635, 0.4781047936996223, 0.1707517120355794, 0.05122551361067382, 0.06830068481423175, 0.05122551361067382, 0.034150342407115876, 0.49096688142164646, 0.14942470304137065, 0.10673193074383618, 0.19211747533890514, 0.021346386148767237, 0.04269277229753447, 0.0989650736287854, 0.06597671575252359, 0.7587322311540213, 0.06597671575252359, 0.897442459218976, 0.1028086393625182, 0.1028086393625182, 0.7196604755376274, 0.09691064743008251, 0.09691064743008251, 0.7752851794406601, 0.03742095749263889, 0.11226287247791668, 0.7484191498527779, 0.07484191498527779, 0.9089786980660036, 0.8257602122735294, 0.8571951199091931, 0.07792682908265391, 0.7873323405946878, 0.8981665214175371, 0.1617412342978145, 0.10782748953187633, 0.05391374476593817, 0.10782748953187633, 0.05391374476593817, 0.48522370289344346, 0.40133741006654, 0.40133741006654, 0.06979781044635477, 0.03489890522317739, 0.03489890522317739, 0.03489890522317739, 0.017449452611588694, 0.11354953949070117, 0.18167926318512187, 0.022709907898140234, 0.022709907898140234, 0.36335852637024374, 0.295228802675823, 0.7967233953655283, 0.10231184736807959, 0.8184947789446367, 0.18154578976332136, 0.7715696064941159, 0.02992596944725869, 0.7780752056287259, 0.08977790834177607, 0.02992596944725869, 0.05985193889451738, 0.10819012593866431, 0.7573308815706501, 0.054095062969332156, 0.054095062969332156, 0.09283433579324706, 0.7426746863459764, 0.1856686715864941, 0.1165088699681164, 0.1165088699681164, 0.2330177399362328, 0.582544349840582, 0.9186249249554979, 0.08752618713190138, 0.63018854734969, 0.07002094970552111, 0.05251571227914083, 0.05251571227914083, 0.05251571227914083, 0.035010474852760556, 0.017505237426380278, 0.1514228413356159, 0.4817999497042324, 0.16518855418430825, 0.027531425697384707, 0.09635998994084648, 0.055062851394769415, 0.013765712848692354, 0.013765712848692354, 0.022758067425665128, 0.29585487653364667, 0.11379033712832565, 0.34137101138497694, 0.2275806742566513, 0.887518291662483, 0.8414863438497512, 0.8320053025450612, 0.858478541784704, 0.9008351822733415, 0.21019442058308674, 0.12611665234985203, 0.14713609440816072, 0.35733051499124746, 0.021019442058308673, 0.08407776823323469, 0.06305832617492602, 0.12900203325397316, 0.25800406650794633, 0.04300067775132439, 0.5590088107672171, 0.9610776213411217, 0.8984110806413487, 0.8948690701632201, 0.9140663278185481, 0.8007563389076049, 0.8327212788801478, 0.1364433302090448, 0.0682216651045224, 0.6139949859407017, 0.0682216651045224, 0.9005020136072872, 0.8582042709481122, 0.9357833506488302, 0.8557349854274204, 0.06112392753053003, 0.06112392753053003, 0.3981322253641176, 0.03619383866946523, 0.1085815160083957, 0.3981322253641176, 0.06396890920541701, 0.767626910465004, 0.06396890920541701, 0.06396890920541701, 0.71252068629742, 0.5105933840722111, 0.23208790185100506, 0.11604395092550253, 0.09283516074040202, 0.023208790185100504, 0.9206457443364342, 0.8900607187395497, 0.9386790739608486, 0.8125305569302617, 0.11607579384718024, 0.8060597311497244, 0.15530074529437823, 0.03882518632359456, 0.8153289127954858, 0.9280543122050864, 0.05800410810482404, 0.8990636756247725, 0.02900205405241202, 0.8064449859957246, 0.8582733559083705, 0.024876169951912396, 0.6965327586535471, 0.024876169951912396, 0.14925701971147437, 0.07462850985573719, 0.8382273096710369, 0.8072235436404104, 0.9331725409244029, 0.051842918940244606, 0.9668651283086911, 0.9034074267888327, 0.20969625526809335, 0.2795950070241245, 0.10484812763404668, 0.03494937587801556, 0.06989875175603112, 0.2795950070241245, 0.03494937587801556, 0.046126909090631975, 0.046126909090631975, 0.8764112727220075, 0.9103564921090606, 0.17360265756531792, 0.034720531513063584, 0.7638516932873989, 0.034720531513063584, 0.14487088635245765, 0.7726447272131074, 0.04829029545081921, 0.884448229956431, 0.20983063559710607, 0.6294919067913182, 0.03105412423102887, 0.24843299384823095, 0.2794871180792598, 0.06210824846205774, 0.3105412423102887, 0.03105412423102887, 0.03841364509477248, 0.1920682254738624, 0.5762046764215872, 0.11524093528431743, 0.5495143042763401, 0.3052857245979667, 0.03052857245979667, 0.015264286229898335, 0.06105714491959334, 0.03052857245979667, 0.7322740898567255, 0.1464548179713451, 0.6332945424478156, 0.03518303013598975, 0.17591515067994876, 0.0703660602719795, 0.03518303013598975, 0.03518303013598975, 0.9032487574702286, 0.10701943404481187, 0.171231094471699, 0.021403886808962377, 0.5672030004375029, 0.07491360383136832, 0.010701943404481188, 0.03210583021344356, 0.8210042987051087, 0.09668045655167365, 0.1933609131033473, 0.032226818850557885, 0.580082739310042, 0.08056704712639472, 0.032226818850557885, 0.17156300980540592, 0.6862520392216237, 0.740114115215806, 0.9104971446240097, 0.8337649792453563, 0.829687013814918, 0.07542609216499255, 0.8870107381692371, 0.2821165470949381, 0.04701942451582302, 0.04701942451582302, 0.5172136696740532, 0.09403884903164604, 0.9052520299200527, 0.9243160199134247, 0.050649625539665795, 0.9116932597139843, 0.050649625539665795, 0.7892936690351506, 0.09982104605961348, 0.03327368201987116, 0.03327368201987116, 0.7652946864570366, 0.06654736403974232, 0.6807493615752703, 0.19696046344224571, 0.23635255613069484, 0.29544069516336857, 0.07878418537689828, 0.01969604634422457, 0.07878418537689828, 0.01969604634422457, 0.05908813903267371, 0.36679927515263966, 0.11286131543158144, 0.047025548096492266, 0.3573941655333412, 0.03762043847719381, 0.047025548096492266, 0.018810219238596906, 0.15743941459221353, 0.02623990243203559, 0.41983843891256944, 0.3673586340484982, 0.151171026196264, 0.07819191010151585, 0.052127940067677236, 0.06255352808121269, 0.07297911609474814, 0.4326619025617211, 0.04170235205414179, 0.04691514606090951, 0.06255352808121269, 0.16162864290583157, 0.8081432145291578, 0.7250500245044377, 0.36315515566960427, 0.18157757783480213, 0.07263103113392085, 0.03631551556696042, 0.07263103113392085, 0.2905241245356834, 0.8534799416315928, 0.3976683269220785, 0.5965024903831178, 0.16551031129838747, 0.8275515564919375, 0.1380979323673148, 0.8285875942038888, 0.0690489661836574, 0.3262971269038361, 0.12236142258893853, 0.040787140862979514, 0.12236142258893853, 0.040787140862979514, 0.36708426776681563, 0.8728859494565834, 0.07222257447174689, 0.9388934681327095, 0.2879599446291473, 0.5142141868377631, 0.06170570242053157, 0.06170570242053157, 0.020568567473510522, 0.020568567473510522, 0.041137134947021044, 0.1442374462965979, 0.1442374462965979, 0.3750173603711546, 0.05769497851863916, 0.11538995703727832, 0.11538995703727832, 0.9536305871093573, 0.4236905668837223, 0.14526533721727622, 0.15737078198538257, 0.19368711628970162, 0.048421779072425404, 0.024210889536212702, 0.8539632791537252, 0.9101143884002709, 0.08191934797657766, 0.08191934797657766, 0.737274131789199, 0.054612898651051775, 0.9182397156944995, 0.06558855112103568, 0.23431253831746593, 0.13389287903855196, 0.13389287903855196, 0.03347321975963799, 0.46862507663493186, 0.2023677974658039, 0.0867290560567731, 0.6071033923974117, 0.0578193707045154, 0.0289096853522577, 0.0289096853522577, 0.8742226170437641, 0.11157106390858004, 0.06198392439365558, 0.3595067614832024, 0.3595067614832024, 0.09917427902984893, 0.8112223106871688, 0.6987071999611286, 0.6987071999611286, 0.8170273754153189, 0.1531926328903723, 0.032317297443499524, 0.016158648721749762, 0.016158648721749762, 0.7594564899222388, 0.14542783849574786, 0.032317297443499524, 0.8914096681295387, 0.14671805996702125, 0.6802382780289167, 0.08002803270928432, 0.06669002725773693, 0.013338005451547386, 0.08579909452975713, 0.8579909452975714, 0.814201184564355, 0.04071005922821774, 0.12213017768465324, 0.8643973341482649, 0.0664921026267896, 0.48640502479964004, 0.034743216057117145, 0.45166180874252293, 0.012985934366176947, 0.07791560619706168, 0.5324233090132549, 0.2986764904220698, 0.025971868732353895, 0.03895780309853084, 0.012985934366176947, 0.8119062551128272, 0.8338881518305102, 0.04274691304738214, 0.47021604352120355, 0.04274691304738214, 0.4274691304738214, 0.87304246171179, 0.9318992769042059, 0.9194944844696077, 0.07445913148622872, 0.645312472880649, 0.19855768396327658, 0.024819710495409573, 0.024819710495409573, 0.024819710495409573, 0.9257151539395824, 0.9409251170720235, 0.01663646176756324, 0.8817324736808517, 0.0831823088378162, 0.01663646176756324, 0.022634890152301048, 0.8827607159397409, 0.06790467045690314, 0.022634890152301048, 0.8624964184886603, 0.8172758270262216, 0.8983998943406659, 0.8451457149478012, 0.07683142863161829, 0.9330592860366991, 0.9007185886410162, 0.09728467524191177, 0.8107056270159314, 0.03242822508063726, 0.03242822508063726, 0.03242822508063726, 0.09525929810554623, 0.8573336829499161, 0.04752395806543871, 0.14257187419631615, 0.09504791613087742, 0.09504791613087742, 0.04752395806543871, 0.5227635387198258, 0.8028258014726126, 0.15144336175635123, 0.10096224117090083, 0.10096224117090083, 0.6057734470254049, 0.7207513458276016, 0.9507800245172277, 0.8516314477695379, 0.21706711528283743, 0.7054681246692216, 0.11328591003914319, 0.7930013702740023, 0.8060016146172087, 0.11514308780245837, 0.17113886075831278, 0.01711388607583128, 0.03422777215166256, 0.03422777215166256, 0.5989860126540948, 0.051341658227493835, 0.08556943037915639, 0.899597646216033, 0.9099460671683341, 0.1682073618306571, 0.3364147236613142, 0.05606912061021903, 0.3924838442715332, 0.16745026341677804, 0.6698010536671122, 0.6513129289013398, 0.027138038704222496, 0.21710430963377997, 0.027138038704222496, 0.027138038704222496, 0.05427607740844499, 0.023127421441268073, 0.13876452864760844, 0.11563710720634036, 0.023127421441268073, 0.046254842882536146, 0.6475678003555061, 0.9453801788579165, 0.8042181345353214, 0.8540964985572372, 0.8373622146058525, 0.093424559609992, 0.8408210364899281, 0.2538986622700183, 0.05974086171059254, 0.2688338776976664, 0.014935215427648136, 0.3584451702635552, 0.0448056462829444, 0.12444658285068237, 0.37333974855204716, 0.4355630399773883, 0.031111645712670593, 0.7253369323796183, 0.8078167821587607, 0.33747985148007054, 0.40852824126534854, 0.10657258467791701, 0.053286292338958506, 0.017762097446319503, 0.035524194892639006, 0.053286292338958506, 0.1441378483797474, 0.2882756967594948, 0.10810338628481055, 0.1441378483797474, 0.05405169314240527, 0.18017231047468427, 0.018017231047468427, 0.05405169314240527, 0.21614425636479093, 0.04322885127295818, 0.12968655381887456, 0.04322885127295818, 0.5619750665484564, 0.3296588872807583, 0.21977259152050554, 0.23547063377197022, 0.07849021125732342, 0.06279216900585873, 0.03139608450292936, 0.01569804225146468, 0.03139608450292936, 0.5925358790334775, 0.07406698487918469, 0.29626793951673874, 0.13891303331704685, 0.8334781999022811, 0.7242270897660016, 0.7301535046569391, 0.24338450155231303, 0.04682870287437627, 0.7492592459900204, 0.04682870287437627, 0.04682870287437627, 0.09365740574875255, 0.04682870287437627, 0.792889135216152, 0.8889680153726264, 0.9112139809813722, 0.9205211918535701, 0.04454134799291468, 0.014847115997638228, 0.23553313262602868, 0.6280883536694098, 0.9136607735275533, 0.1933935687854261, 0.09669678439271305, 0.024174196098178263, 0.048348392196356525, 0.5560065102581001, 0.048348392196356525, 0.048348392196356525, 0.15589749747347212, 0.7794874873673605, 0.9040680793504566, 0.3268542735936568, 0.06537085471873136, 0.09805628207809704, 0.06537085471873136, 0.42491055567175384, 0.9648088422119607, 0.8461254527598135, 0.22273691345607677, 0.6682107403682304, 0.11268527605340212, 0.7887969323738148, 0.8799226015829783, 0.07332688346524818, 0.8040050789133748, 0.0927698167976971, 0.03092327226589903, 0.06184654453179806, 0.0981217687462544, 0.0490608843731272, 0.12265221093281801, 0.5642001702909628, 0.0245304421865636, 0.0245304421865636, 0.0245304421865636, 0.0735913265596908, 0.8285547509526487, 0.8674299128410576, 0.115657321712141, 0.04643210099344721, 0.04643210099344721, 0.4178889089410249, 0.09286420198689442, 0.09286420198689442, 0.27859260596068325, 0.8833151862107836, 0.8378140507001328, 0.5298019108204366, 0.45411592356037417, 0.06529117768956987, 0.06529117768956987, 0.7182029545852685, 0.13058235537913973, 0.773307653616988, 0.27432066673429356, 0.09144022224476452, 0.030480074081588173, 0.060960148163176346, 0.4572011112238226, 0.030480074081588173, 0.060960148163176346, 0.8534799416315928, 0.07254986672827458, 0.870598400739295, 0.23847614247756455, 0.1233497288677058, 0.2466994577354116, 0.2302528272197175, 0.016446630515694106, 0.06578652206277642, 0.03289326103138821, 0.04933989154708232, 0.008223315257847053, 0.9219449765035168, 0.08140035679352602, 0.24420107038057806, 0.08140035679352602, 0.5291023191579192, 0.020350089198381504, 0.04070017839676301, 0.6112353918473199, 0.9773834594848816, 0.2539014578468832, 0.0952130466925812, 0.4443275512320456, 0.0634753644617208, 0.0634753644617208, 0.0317376822308604, 0.7028141213400438, 0.071801091508995, 0.4308065490539699, 0.08775688962210498, 0.071801091508995, 0.30316016414909, 0.023933697169664998, 0.015955798113109997, 0.007977899056554999, 0.2873173896032914, 0.07182934740082285, 0.6464641266074057, 0.843170088357068, 0.05314874916887401, 0.6058957405251637, 0.05314874916887401, 0.06377849900264881, 0.14881649767284721, 0.021259499667549604, 0.021259499667549604, 0.010629749833774802, 0.8813749025153592, 0.9380698332950393, 0.011574082819087127, 0.8217598801551861, 0.16203715946721978, 0.023303027550101676, 0.792302936703457, 0.1864242204008134, 0.8581013693027904, 0.13058064315477244, 0.7864270257283341, 0.07864270257283341, 0.03932135128641671, 0.07864270257283341, 0.03932135128641671, 0.19057421578248043, 0.19057421578248043, 0.06352473859416014, 0.06352473859416014, 0.025409895437664056, 0.3557385361272968, 0.012704947718832028, 0.0889346340318242, 0.04617634904403607, 0.8773506318366854, 0.04617634904403607, 0.11053151696408778, 0.11053151696408778, 0.22106303392817556, 0.5526575848204389, 0.2252807304559485, 0.028160091306993564, 0.08448027392098069, 0.028160091306993564, 0.5068816435258842, 0.11264036522797426, 0.18153500027154273, 0.7261400010861709, 0.8614981742757555, 0.8464026676253064, 0.8635100033643447, 0.0785009093967586, 0.8955684955115583, 0.7791623366006235, 0.2009129044010874, 0.15068467830081553, 0.1004564522005437, 0.1004564522005437, 0.05022822610027185, 0.05022822610027185, 0.30136935660163106, 0.2166274791279234, 0.04332549582558468, 0.34660396660467746, 0.04332549582558468, 0.30327847077909276, 0.11467333247606118, 0.8027133273324283, 0.254985859576572, 0.5864674770261156, 0.10199434383062879, 0.0764957578729716, 0.3021663745305777, 0.060433274906115546, 0.12086654981223109, 0.15108318726528885, 0.15108318726528885, 0.030216637453057773, 0.2115164621714044, 0.24548273062769202, 0.61370682656923, 0.8292802172814702, 0.0846483532887855, 0.846483532887855, 0.05154685902628572, 0.360828013184, 0.02577342951314286, 0.10309371805257143, 0.02577342951314286, 0.02577342951314286, 0.33505458367085716, 0.05154685902628572, 0.17584684530233177, 0.7033873812093271, 0.16819056773206356, 0.36441289675280436, 0.12614292579904765, 0.12614292579904765, 0.08409528386603178, 0.056063522577354516, 0.028031761288677258, 0.04204764193301589, 0.948155199479172, 0.9213275909997785, 0.23041276076185255, 0.2534540368380378, 0.11520638038092627, 0.23041276076185255, 0.05760319019046314, 0.034561914114277885, 0.034561914114277885, 0.011520638038092628, 0.023041276076185255, 0.4295452625548411, 0.15241928671300814, 0.04156889637627495, 0.013856298792091649, 0.12470668912882484, 0.23555707946555804, 0.8902014109014437, 0.7529010148055049, 0.10755728782935785, 0.053778643914678924, 0.026889321957339462, 0.026889321957339462, 0.026889321957339462, 0.8165939509148978, 0.0777708524680855, 0.03888542623404275, 0.03888542623404275, 0.03888542623404275, 0.03619334797337291, 0.6152869155473395, 0.14477339189349164, 0.07238669594674582, 0.03619334797337291, 0.07238669594674582, 0.03415911295237315, 0.0683182259047463, 0.3074320165713584, 0.5123866942855974, 0.03415911295237315, 0.03415911295237315, 0.9050228521453344, 0.36810895470618193, 0.1440426344502451, 0.08002368580569172, 0.12803789728910675, 0.17605210877252178, 0.08002368580569172, 0.04801421148341503, 0.21771510542391795, 0.036285850903986325, 0.07257170180797265, 0.2902868072318906, 0.3628585090398633, 0.036285850903986325, 0.8643116948467124, 0.9592105398137847, 0.8590491855353077, 0.15778159716101528, 0.7889079858050764, 0.8320053025450612, 0.19485309371332238, 0.24356636714165297, 0.048713273428330595, 0.09742654685666119, 0.048713273428330595, 0.38970618742664476, 0.11991846239274569, 0.07994564159516379, 0.11991846239274569, 0.47967384957098275, 0.11991846239274569, 0.039972820797581896, 0.039972820797581896, 0.7478800304324968, 0.5107136038892643, 0.09285701888895716, 0.2630948868520453, 0.06190467925930477, 0.015476169814826192, 0.030952339629652385, 0.015476169814826192, 0.015476169814826192, 0.6916563817019488, 0.1456118698319892, 0.1092089023739919, 0.0364029674579973, 0.0364029674579973, 0.8760898716670544, 0.8142491401829528, 0.11076367921735514, 0.22152735843471028, 0.05538183960867757, 0.08307275941301635, 0.05538183960867757, 0.4707456366737593, 0.09043468744597731, 0.1113042307027413, 0.06260862977029198, 0.04869560093244932, 0.020869543256763993, 0.05565211535137065, 0.15999983163519063, 0.08347817302705597, 0.36869526420283055, 0.8962040460989914, 0.9677387066558909, 0.814951345104859, 0.12102198044148006, 0.10589423288629506, 0.04538324266555502, 0.015127747555185008, 0.06051099022074003, 0.15127747555185006, 0.4992156693211052, 0.0906838280056174, 0.1813676560112348, 0.0906838280056174, 0.5441029680337044, 0.8783620561029232, 0.9096114082037947, 0.02423517682995518, 0.8724663658783866, 0.060587942074887956, 0.03635276524493277, 0.9143817221217775, 0.4035230131611466, 0.24499611513355327, 0.12970382565893995, 0.10088075329028665, 0.028823072368653325, 0.014411536184326662, 0.04323460855297999, 0.028823072368653325, 0.07686049395996229, 0.6405041163330191, 0.051240329306641526, 0.15372098791992458, 0.025620164653320763, 0.051240329306641526, 0.17315498058658138, 0.25973247087987206, 0.4761761966130988, 0.043288745146645345, 0.04024712559696357, 0.7646953863423078, 0.04024712559696357, 0.12074137679089071, 0.05966343193558907, 0.5966343193558907, 0.11932686387117813, 0.05966343193558907, 0.1789902958067672, 0.14397237615830163, 0.7198618807915081, 0.07198618807915082, 0.8788427100536144, 0.10113279044098634, 0.8090623235278908, 0.9017392506764008, 0.9092171864612234, 0.2499719018580009, 0.5624367791805021, 0.020830991821500076, 0.020830991821500076, 0.0833239672860003, 0.020830991821500076, 0.1831641961807696, 0.6160977507898613, 0.04995387168566443, 0.033302581123776286, 0.033302581123776286, 0.04995387168566443, 0.016651290561888143, 0.016651290561888143, 0.7080843436295847, 0.8605010616615573, 0.9192934299283121, 0.08593389581141873, 0.08593389581141873, 0.7734050623027686, 0.1304019053064423, 0.6954768283010256, 0.1304019053064423, 0.8808729310422565, 0.0734060775868547, 0.9204872860567364, 0.8691732243476425, 0.8691732243476425, 0.13744148692944966, 0.06872074346472483, 0.7559281781119731, 0.8186973408648639, 0.0909663712072071, 0.8232543887340665, 0.8356103102451358, 0.055707354016342386, 0.12581082018378406, 0.2516216403675681, 0.5661486908270283, 0.230627938670077, 0.6150078364535386, 0.07687597955669233, 0.8424970320346934, 0.18874957349984306, 0.09437478674992153, 0.12583304899989536, 0.03145826224997384, 0.4718739337496076, 0.06291652449994768, 0.8404418836241712, 0.8944962652235949, 0.08131784229305408, 0.834782312022634, 0.2734039013285615, 0.17771253586356497, 0.10936156053142461, 0.08202117039856846, 0.027340390132856152, 0.08202117039856846, 0.20505292599642114, 0.054680780265712305, 0.16213559812841924, 0.5999017130751513, 0.016213559812841925, 0.11349491868989348, 0.03242711962568385, 0.016213559812841925, 0.04864067943852578, 0.19909499869974207, 0.39818999739948413, 0.014221071335695862, 0.07110535667847931, 0.042663214007087585, 0.042663214007087585, 0.07110535667847931, 0.15643178469265448, 0.11563605669467923, 0.23127211338935846, 0.11563605669467923, 0.03854535223155974, 0.03854535223155974, 0.01927267611577987, 0.3276354939682578, 0.15418140892623897, 0.18986521242849844, 0.12657680828566562, 0.6961724455711609, 0.8855883036070009, 0.08050802760063645, 0.8882402600542767, 0.8923890571842117, 0.2908610969429905, 0.581722193885981, 0.09695369898099683, 0.8938608610364317, 0.9106124761352111, 0.8628061385179521, 0.09891731770321029, 0.19783463540642057, 0.6429625650708668, 0.28892961285793367, 0.1733577677147602, 0.11557184514317347, 0.05778592257158673, 0.4045014580011071, 0.14543297456364684, 0.7271648728182342, 0.7502724255382611, 0.8042181345353214, 0.4416804894789979, 0.21322506388641277, 0.12184289364937874, 0.0761518085308617, 0.06092144682468937, 0.015230361706172342, 0.04569108511851702, 0.015230361706172342, 0.7628775796284504, 0.1271462632714084, 0.46173293691169337, 0.20075345083117102, 0.10037672541558551, 0.20075345083117102, 0.0200753450831171, 0.8712874692466975, 0.6717500351529271, 0.10748000562446833, 0.08061000421835125, 0.10748000562446833, 0.8261920859319016, 0.0751083714483547, 0.0751083714483547, 0.8260669712236304, 0.1325186442511298, 0.2650372885022596, 0.04417288141704327, 0.04417288141704327, 0.1766915256681731, 0.04417288141704327, 0.3092101699193029, 0.035313572100632934, 0.05297035815094941, 0.7945553722642411, 0.035313572100632934, 0.017656786050316467, 0.05297035815094941, 0.9145731543502637, 0.17466217820688132, 0.13099663365516098, 0.08733108910344066, 0.04366554455172033, 0.04366554455172033, 0.5239865346206439, 0.0893902694637345, 0.7374697230758096, 0.04469513473186725, 0.06704270209780087, 0.022347567365933626, 0.022347567365933626, 0.8417106393078809, 0.06474697225445238, 0.23389946145691165, 0.4677989229138233, 0.08996133132958141, 0.017992266265916282, 0.10795359759549769, 0.017992266265916282, 0.053976798797748846, 0.189430032071832, 0.4885300827115667, 0.019940003375982316, 0.10967001856790273, 0.06979001181593811, 0.04985000843995579, 0.009970001687991158, 0.03988000675196463, 0.029910005063973472, 0.25237345847723797, 0.13765825007849342, 0.36708866687598246, 0.04588608335949781, 0.06882912503924671, 0.06882912503924671, 0.022943041679748904, 0.615648104694763, 0.18887433364874823, 0.6925392233787435, 0.10013113110107498, 0.8511146143591374, 0.781740739051183, 0.19748498709206788, 0.09874249354603394, 0.09874249354603394, 0.5924549612762036, 0.9272234930318085, 0.8242758181142122, 0.7255576435655805, 0.11558819893594077, 0.8091173925515854, 0.09204332351049378, 0.8283899115944441, 0.07581972227490667, 0.7581972227490666, 0.07581972227490667, 0.8724246881335481, 0.25433966061379676, 0.17485851667198526, 0.22254720303707218, 0.20665097424870987, 0.015896228788362297, 0.06358491515344919, 0.015896228788362297, 0.031792457576724595, 0.9078854233024519, 0.42917679915217, 0.214588399576085, 0.1072941997880425, 0.07152946652536167, 0.05364709989402125, 0.035764733262680835, 0.05364709989402125, 0.017882366631340418, 0.2527186643874226, 0.2527186643874226, 0.1263593321937113, 0.07897458262106954, 0.07897458262106954, 0.1421542487179252, 0.01579491652421391, 0.03158983304842782, 0.1160678438444106, 0.1160678438444106, 0.0580339219222053, 0.6964070630664636, 0.07109521668796112, 0.9242378169434945, 0.0770388643789384, 0.385194321894692, 0.4622331862736304, 0.43459889758279396, 0.2674454754355655, 0.08357671107361422, 0.06686136885889138, 0.03343068442944569, 0.06686136885889138, 0.03343068442944569, 0.016715342214722845, 0.8625822517738344, 0.015206962729077199, 0.6843133228084739, 0.060827850916308795, 0.0456208881872316, 0.16727659001984918, 0.015206962729077199, 0.8639233518796992, 0.027220467694712452, 0.598850289283674, 0.13610233847356226, 0.027220467694712452, 0.027220467694712452, 0.13610233847356226, 0.009095141533097395, 0.7912773133794734, 0.10914169839716874, 0.05457084919858437, 0.045475707665486975, 0.9049077400555344, 0.9041119990565126, 0.7878106148558424, 0.014323829361015316, 0.028647658722030633, 0.12891446424913783, 0.028647658722030633, 0.014323829361015316, 0.07654594840520176, 0.15309189681040353, 0.6889135356468159, 0.9223405448927713, 0.5061392370143799, 0.2044023841788842, 0.10706791552227268, 0.058400681193966915, 0.04866723432830576, 0.038933787462644615, 0.009733446865661154, 0.009733446865661154, 0.009733446865661154, 0.08501390069139278, 0.7651251062225349, 0.07324727015710762, 0.36623635078553807, 0.03662363507855381, 0.03662363507855381, 0.4394836209426457, 0.07324727015710762, 0.7822068705301937, 0.2813416693603402, 0.10550312601012758, 0.5626833387206804, 0.03516770867004253, 0.8495217584848676, 0.8674830745616936, 0.8748950122223006, 0.03645395884259586, 0.03645395884259586, 0.03645395884259586, 0.15754168002989605, 0.10502778668659736, 0.7351945068061815, 0.06205205273853133, 0.8687287383394386, 0.06003858309848281, 0.8405401633787594, 0.06003858309848281, 0.8360953202410558, 0.8208477965341736, 0.8247285789144095, 0.9217591068675675, 0.8073023834350026, 0.8596774370610764, 0.8073023834350026, 0.850015244124517, 0.46762765709360504, 0.14388543295187847, 0.12589975383289367, 0.07194271647593924, 0.08992839559492405, 0.01798567911898481, 0.03597135823796962, 0.03597135823796962, 0.03597135823796962, 0.0382518349297581, 0.3060146794380648, 0.6120293588761296, 0.0382518349297581, 0.8628140505704607, 0.8707306062291108, 0.8850204936158926, 0.18688244552217703, 0.16018495330472318, 0.2135799377396309, 0.05339498443490773, 0.026697492217453864, 0.05339498443490773, 0.2936724143919925, 0.18465253785469352, 0.7386101514187741, 0.11324658295056132, 0.2642420268846431, 0.603981775736327, 0.01674662421684917, 0.11722636951794417, 0.80383796240876, 0.03349324843369834, 0.01674662421684917, 0.7582396106486315, 0.8792771322853877, 0.11341916718487062, 0.7939341702940944, 0.07794681252999375, 0.8574149378299312, 0.07794681252999375, 0.8829291651308461, 0.0803446911256631, 0.1606893822513262, 0.0803446911256631, 0.0803446911256631, 0.48206814675397863, 0.27146089912665694, 0.15512051378666109, 0.11634038533999583, 0.03878012844666527, 0.03878012844666527, 0.07756025689333054, 0.03878012844666527, 0.27146089912665694, 0.8299249369271441, 0.29584444588650194, 0.1267904768085008, 0.5071619072340032, 0.042263492269500276, 0.19305395042611181, 0.7336050116192249, 0.03861079008522236, 0.03861079008522236, 0.04614099276509513, 0.23070496382547567, 0.09228198553019026, 0.5998329059462367, 0.8924508143235959, 0.05577817589522474, 0.9575197891094368, 0.03419713532533703, 0.8695555591652222, 0.05115032700971895, 0.9661908528643571, 0.3987343357773847, 0.056962047968197815, 0.056962047968197815, 0.4556963837455825, 0.056962047968197815, 0.058722578820389344, 0.3914838588025956, 0.17616773646116804, 0.058722578820389344, 0.23489031528155738, 0.01957419294012978, 0.03914838588025956, 0.38082856155252065, 0.1269428538508402, 0.38082856155252065, 0.08462856923389347, 0.04231428461694674, 0.3401878691343989, 0.12370467968523596, 0.3195704225201929, 0.06185233984261798, 0.04123489322841199, 0.05154361653551499, 0.020617446614205996, 0.04123489322841199, 0.9213314163088371, 0.06339115152332024, 0.01584778788083006, 0.8399327576839931, 0.06339115152332024, 0.01584778788083006, 0.2696647494418244, 0.14981374968990244, 0.2846461244108146, 0.11985099975192194, 0.04494412490697073, 0.11985099975192194, 0.014981374968990243, 0.661284141460039, 0.03148972102190662, 0.1574486051095331, 0.03148972102190662, 0.09446916306571985, 0.173808968104472, 0.27036950594028974, 0.15449686053730843, 0.05793632270149066, 0.23174529080596265, 0.05793632270149066, 0.019312107567163554, 0.019312107567163554, 0.019312107567163554, 0.47430241341173285, 0.20869306190116244, 0.18972096536469313, 0.07588838614587726, 0.03794419307293863, 0.8909635165943669, 0.6587313434482003, 0.13868028283120007, 0.10401021212340004, 0.06934014141560003], \"Term\": [\"absentee\", \"absolutely\", \"absolutely\", \"abuse\", \"adequate\", \"adequate\", \"adequate care\", \"admissions\", \"advisory\", \"ahead\", \"ahead\", \"ahead\", \"ahead\", \"ahead\", \"aid\", \"aid\", \"answer\", \"answer\", \"answer\", \"answer\", \"answer\", \"answer\", \"answer\", \"answer\", \"answered\", \"antibodies\", \"antibodies\", \"antibody\", \"antibody test\", \"antibody testing\", \"antibody tests\", \"apart\", \"apart\", \"apart\", \"app\", \"army corps\", \"ask\", \"ask\", \"ask\", \"ask\", \"ask\", \"ask\", \"ask\", \"ask\", \"ask question\", \"ask question\", \"ask question\", \"asked\", \"asked\", \"asked\", \"asked\", \"asked\", \"asked\", \"asked\", \"asked question\", \"asked question\", \"attractive nuisance\", \"audience\", \"authority\", \"authority\", \"authority\", \"authority\", \"authority\", \"average\", \"average\", \"backlog\", \"ballot\", \"ballots\", \"ban\", \"bankruptcy\", \"bar\", \"bar\", \"bar\", \"bar\", \"bars\", \"bars\", \"bars restaurants\", \"beaches\", \"beaches\", \"beaches\", \"beautiful\", \"beautiful\", \"beautiful\", \"beautiful\", \"bed\", \"bed\", \"bed\", \"beds\", \"beds\", \"beds\", \"beds\", \"believe\", \"believe\", \"believe\", \"believe\", \"believe\", \"believe\", \"believe\", \"believe\", \"benefits\", \"bernadette\", \"bernadette\", \"bernadette\", \"bernadette\", \"best\", \"best\", \"best\", \"best\", \"best\", \"best\", \"better\", \"better\", \"better\", \"better\", \"better\", \"better\", \"better\", \"better\", \"billion\", \"billion\", \"billion\", \"billion\", \"billion\", \"billion deficit\", \"blasio\", \"blasio\", \"blasio\", \"blue\", \"blue\", \"blue\", \"board\", \"board\", \"board\", \"board\", \"board\", \"board elections\", \"budget\", \"budget\", \"budget\", \"budget\", \"budget\", \"budget budget\", \"budgets\", \"businesses\", \"businesses\", \"businesses\", \"businesses\", \"businesses\", \"businesses\", \"businesses\", \"businesses\", \"businesses\", \"came europe\", \"camp\", \"camps\", \"capacity\", \"capacity\", \"capacity\", \"capacity\", \"capacity\", \"capacity\", \"capita\", \"care\", \"care\", \"care\", \"care\", \"care\", \"care\", \"care\", \"care patient\", \"cases\", \"cases\", \"cases\", \"cases\", \"cases\", \"cases\", \"cash\", \"cdc\", \"cdc\", \"cdc\", \"cdc\", \"cdc\", \"chairman\", \"chairman\", \"change\", \"change\", \"change\", \"change\", \"change\", \"change\", \"change\", \"check\", \"check\", \"check\", \"check\", \"children\", \"children\", \"children\", \"children\", \"china\", \"china\", \"china\", \"china\", \"china\", \"clarify\", \"clean\", \"clean\", \"clean\", \"closed\", \"closed\", \"closed\", \"closed\", \"closed\", \"closed\", \"closed\", \"closed\", \"cluster\", \"cluster\", \"cluster\", \"cluster\", \"codes\", \"codes\", \"cold\", \"cold\", \"comes\", \"comes\", \"comes\", \"comes\", \"comes\", \"comes\", \"comes\", \"comes line\", \"comfort\", \"comfort\", \"coming\", \"coming\", \"coming\", \"coming\", \"coming\", \"coming\", \"coming\", \"community\", \"community\", \"community\", \"community\", \"community\", \"community\", \"compliance\", \"compliance\", \"compliance\", \"compliance\", \"compliance enforcement\", \"conference\", \"conference\", \"conference\", \"confirmed\", \"confirmed\", \"confirmed\", \"connecticut\", \"connecticut\", \"connecticut\", \"connecticut\", \"connecticut jersey\", \"consortium\", \"contact tracing\", \"contact tracing\", \"corps\", \"corps engineers\", \"correct\", \"correct\", \"correct\", \"correct\", \"correct\", \"correct\", \"country\", \"country\", \"country\", \"country\", \"country\", \"country\", \"country\", \"county\", \"county\", \"county\", \"county\", \"county\", \"county\", \"county executives\", \"court\", \"court\", \"cuomo\", \"cuomo\", \"curve\", \"curve\", \"curve\", \"curve\", \"curve\", \"cut\", \"cut\", \"cut\", \"cut\", \"cuts\", \"cuts\", \"cuts\", \"dan\", \"dan\", \"dan\", \"dan\", \"dashboard\", \"data\", \"data\", \"data\", \"data\", \"data\", \"data\", \"data\", \"data\", \"days\", \"days\", \"days\", \"days\", \"days\", \"days\", \"days\", \"days\", \"deaths\", \"deaths\", \"deaths\", \"deaths\", \"deaths\", \"deaths nursing\", \"declare bankruptcy\", \"defense production\", \"deficit\", \"delivery\", \"department\", \"department\", \"department\", \"department\", \"department\", \"department\", \"department\", \"department health\", \"department health\", \"department health\", \"department health\", \"derosa\", \"derosa secretary\", \"diagnostic\", \"dining\", \"discharged\", \"disciplinary records\", \"disciplined\", \"disciplined\", \"disciplined\", \"disciplined\", \"disciplined loving\", \"disconnect\", \"disinfect\", \"distance\", \"distance\", \"distance\", \"doctor\", \"doctor\", \"doctor\", \"doctor\", \"doctors\", \"doctors\", \"doctors\", \"doctors\", \"donald trump\", \"economy\", \"economy\", \"economy\", \"economy\", \"economy\", \"elected\", \"elected officials\", \"elections\", \"elective\", \"elective\", \"elective surgery\", \"enforce\", \"enforce\", \"enforce\", \"enforce law\", \"enforcement\", \"enforcement\", \"enforcement\", \"engineers\", \"error\", \"essential\", \"essential\", \"essential\", \"essential\", \"essential\", \"essential service\", \"essential worker\", \"essential workers\", \"essential workers\", \"europe\", \"european\", \"exactly\", \"exactly\", \"exactly\", \"exactly\", \"exactly\", \"exactly\", \"exactly\", \"excuse\", \"excuse\", \"excuse\", \"excuse second\", \"executive\", \"executive\", \"executive\", \"executive\", \"executive order\", \"executive order\", \"executive order\", \"executive orders\", \"eyes\", \"eyes\", \"facilities\", \"facilities\", \"facilities\", \"facilities\", \"facilities\", \"facilities\", \"facility\", \"facility\", \"facility\", \"facility\", \"facts\", \"facts\", \"facts\", \"facts\", \"facts\", \"facts\", \"falls\", \"falls\", \"family\", \"family\", \"family\", \"family\", \"family\", \"family\", \"february\", \"federal\", \"federal\", \"federal\", \"federal\", \"federal\", \"federal\", \"federal\", \"federal funding\", \"federal government\", \"federal government\", \"federal government\", \"federal government\", \"federal government\", \"federal government\", \"feet apart\", \"feet apart\", \"fiscal\", \"flatten\", \"flatten curve\", \"floyd\", \"floyd\", \"followup\", \"force\", \"force\", \"force\", \"force\", \"force\", \"frontline\", \"frontline workers\", \"fund\", \"fund\", \"fund\", \"fund local\", \"funding\", \"funding\", \"funding\", \"funding\", \"funding\", \"georgia\", \"getting\", \"getting\", \"getting\", \"getting\", \"getting\", \"getting\", \"getting\", \"getting\", \"government\", \"government\", \"government\", \"government\", \"government\", \"government\", \"government\", \"governments\", \"governments\", \"governments\", \"governments\", \"governor\", \"governor\", \"governor\", \"governor\", \"governor\", \"governor\", \"governor\", \"governor\", \"governor\", \"governor cuomo\", \"governor cuomo\", \"governor hogan\", \"governors\", \"governors\", \"governors\", \"governors\", \"governors\", \"governors\", \"governors association\", \"grocery\", \"grocery\", \"grocery stores\", \"grocery stores\", \"guard\", \"guard\", \"guard\", \"guidelines\", \"guidelines\", \"guidelines\", \"guidelines\", \"guidelines\", \"guidelines\", \"gun\", \"gym\", \"gym\", \"happen\", \"happen\", \"happen\", \"happen\", \"happen\", \"happen\", \"happen\", \"haven\", \"haven\", \"haven\", \"haven\", \"haven\", \"haven\", \"haven heard\", \"health\", \"health\", \"health\", \"health\", \"health\", \"health\", \"health commissioner\", \"health departments\", \"healthcare\", \"healthcare\", \"healthcare\", \"healthcare\", \"healthcare workers\", \"healthcare workers\", \"hear\", \"hear\", \"hear\", \"hear\", \"hear\", \"heard\", \"heard\", \"heard\", \"heard\", \"heard\", \"heard\", \"herd immunity\", \"home\", \"home\", \"home\", \"home\", \"home\", \"home residents\", \"homeland\", \"homeland security\", \"homeless\", \"homeless\", \"homes\", \"homes\", \"homes\", \"homes\", \"homes\", \"homes\", \"hoping\", \"hospital\", \"hospital\", \"hospital\", \"hospital\", \"hospital\", \"hospital beds\", \"hospital beds\", \"hospitalization\", \"hospitalization\", \"hospitalization\", \"hospitalization rate\", \"hospitalization rate\", \"hospitalizations\", \"hospitalizations\", \"hospitalizations\", \"hospitals\", \"hospitals\", \"hospitals\", \"hospitals\", \"hospitals\", \"hospitals\", \"hospitals\", \"howard\", \"hyper\", \"icu\", \"icu\", \"icu\", \"icu\", \"icu admissions\", \"icu beds\", \"icu patients\", \"increase\", \"increase\", \"increase\", \"increase\", \"increase\", \"increase\", \"indoor\", \"indoor dining\", \"infection\", \"infection\", \"infection\", \"infection\", \"infection rate\", \"infection rate\", \"infection rate\", \"infection rate\", \"infection rates\", \"intubated\", \"intubations\", \"january\", \"january\", \"javits\", \"javits center\", \"jersey\", \"jersey\", \"jersey\", \"jersey\", \"jersey\", \"jersey connecticut\", \"jersey connecticut\", \"jesse\", \"jesse\", \"jesse\", \"jesse\", \"jesse\", \"jesse\", \"jewish\", \"jim\", \"jim\", \"jim\", \"jim\", \"joke\", \"kits\", \"korea\", \"labs\", \"labs\", \"laguardia\", \"laguardia\", \"lamont\", \"lamont\", \"law\", \"law\", \"law\", \"law\", \"law\", \"law\", \"law\", \"law enforcement\", \"leader\", \"legal\", \"legal\", \"legal\", \"legal\", \"legal authority\", \"legal authority\", \"life\", \"life\", \"life\", \"life\", \"life\", \"life\", \"line\", \"line\", \"line\", \"line\", \"line\", \"line\", \"line open\", \"lining\", \"liquor\", \"liquor authority\", \"lives lost\", \"lives lost\", \"local\", \"local\", \"local\", \"local\", \"local\", \"local\", \"local governments\", \"local governments\", \"local governments\", \"local governments\", \"local police\", \"lockdown\", \"long\", \"long\", \"long\", \"long\", \"long\", \"long\", \"long\", \"looking\", \"looking\", \"looking\", \"looking\", \"looking\", \"looking\", \"looking\", \"looking\", \"lost\", \"lost\", \"lost\", \"lost\", \"lost\", \"lot\", \"lot\", \"lot\", \"lot\", \"lot\", \"lot\", \"lot\", \"lot\", \"love\", \"love\", \"love\", \"loving\", \"loving\", \"loving questions\", \"manufacturers\", \"manufacturers\", \"march\", \"march\", \"march\", \"march\", \"march\", \"march\", \"margin error\", \"mariah\", \"marriage\", \"mask\", \"mask\", \"mask\", \"mass\", \"mass\", \"mass gatherings\", \"mayor\", \"mayor\", \"mayor\", \"mayor\", \"mayor\", \"mayor\", \"mayor\", \"mayor blasio\", \"mayor blasio\", \"meat\", \"melissa\", \"melissa\", \"melissa\", \"melissa\", \"melissa\", \"melissa derosa\", \"micro\", \"mile\", \"mile\", \"model\", \"model\", \"models\", \"models\", \"moment\", \"moment\", \"moment\", \"moment\", \"money\", \"money\", \"money\", \"money\", \"money\", \"money\", \"money\", \"money\", \"morning governor\", \"mountain\", \"mountain\", \"mta\", \"mta\", \"mta\", \"mta\", \"mta\", \"mta\", \"mujica\", \"murder\", \"murphy\", \"murphy\", \"nassau\", \"nassau\", \"nassau\", \"nassau\", \"nassau suffolk\", \"national\", \"national\", \"national\", \"national\", \"national\", \"national\", \"national\", \"national governors\", \"national guard\", \"national guard\", \"need\", \"need\", \"need\", \"need\", \"need\", \"need\", \"need\", \"need\", \"need\", \"net change\", \"news\", \"news\", \"news\", \"news\", \"news\", \"news\", \"nga\", \"nick\", \"night\", \"night\", \"night\", \"night\", \"night\", \"night\", \"nuisance\", \"number\", \"number\", \"number\", \"number\", \"number\", \"number\", \"number\", \"number\", \"number deaths\", \"number deaths\", \"number deaths\", \"number lives\", \"numbers\", \"numbers\", \"numbers\", \"numbers\", \"numbers\", \"numbers\", \"numbers\", \"numbers\", \"nurses\", \"nurses doctors\", \"nursing\", \"nursing\", \"nursing\", \"nursing home\", \"nursing home\", \"nursing home\", \"nursing homes\", \"nursing homes\", \"officials\", \"officials\", \"officials\", \"officials\", \"officials\", \"open\", \"open\", \"open\", \"open\", \"open\", \"open\", \"open\", \"open\", \"operator\", \"operator\", \"operator\", \"options\", \"options\", \"options\", \"options\", \"order\", \"order\", \"order\", \"order\", \"order\", \"order\", \"ordered\", \"ordered\", \"orthodox\", \"orthodox community\", \"outbreak\", \"outbreak\", \"outdoor\", \"outdoor dining\", \"outside\", \"outside\", \"outside\", \"outside\", \"outside\", \"outside\", \"outside\", \"pass\", \"pass\", \"pass\", \"pass\", \"pass\", \"passed away\", \"passed away\", \"patients\", \"patients\", \"patients\", \"patients\", \"pay\", \"pay\", \"pay\", \"pay\", \"pay\", \"pay\", \"pay\", \"penalties\", \"penalties\", \"penalty\", \"pennsylvania\", \"pennsylvania\", \"phase\", \"phase\", \"phase\", \"phase\", \"phase\", \"phase\", \"phase\", \"phase\", \"pilot\", \"pilot\", \"plan\", \"plan\", \"plan\", \"plan\", \"plan\", \"plan\", \"plan\", \"plan\", \"plateau\", \"pleasure\", \"point\", \"point\", \"point\", \"point\", \"point\", \"point\", \"point\", \"point\", \"point\", \"police\", \"police\", \"police\", \"police\", \"police\", \"police\", \"police departments\", \"political\", \"political\", \"political\", \"political\", \"political\", \"political\", \"politics\", \"politics\", \"politics\", \"politics\", \"politics\", \"positive\", \"positive\", \"positive\", \"positive\", \"positive\", \"positive\", \"ppe\", \"ppe\", \"ppe\", \"ppe\", \"ppe\", \"ppe\", \"prayers\", \"president\", \"president\", \"president\", \"president\", \"president\", \"president\", \"president\", \"private\", \"private\", \"private\", \"private\", \"private\", \"private\", \"private sector\", \"probable\", \"processed\", \"production\", \"production\", \"production act\", \"program\", \"program\", \"program\", \"program\", \"program\", \"program\", \"provide\", \"provide\", \"provide\", \"provide\", \"provide\", \"provide\", \"provide\", \"provide funding\", \"public\", \"public\", \"public\", \"public\", \"public\", \"public\", \"public\", \"public\", \"public health\", \"public health\", \"public health\", \"public health\", \"public health\", \"public safety\", \"public transit\", \"quarantine\", \"quarantine\", \"quarantine\", \"quarantine\", \"quarantine\", \"quarantine\", \"question\", \"question\", \"question\", \"question\", \"question\", \"question\", \"question\", \"question\", \"question\", \"question ahead\", \"question comes\", \"question operator\", \"questions\", \"questions\", \"questions\", \"questions\", \"questions\", \"questions\", \"questions\", \"raise\", \"raise\", \"raise\", \"raise\", \"raise taxes\", \"random\", \"rate\", \"rate\", \"rate\", \"rate\", \"rate transmission\", \"really\", \"really\", \"really\", \"really\", \"really\", \"really\", \"really\", \"really\", \"region\", \"region\", \"region\", \"region\", \"region\", \"region\", \"regional\", \"regional\", \"regional\", \"regional\", \"regions\", \"regions\", \"regions\", \"regions\", \"release\", \"release\", \"release\", \"release\", \"release\", \"religious\", \"religious\", \"religious\", \"religious gatherings\", \"remote\", \"remote\", \"remote learning\", \"rent\", \"reopen\", \"reopen\", \"reopen\", \"reopen\", \"reopen\", \"reopen\", \"reopening\", \"reopening\", \"reopening\", \"reopening\", \"reopening\", \"reopening\", \"reopening\", \"reopening\", \"reporter\", \"republicans\", \"responders\", \"restaurant\", \"restaurant\", \"restaurant\", \"restaurants\", \"restaurants\", \"restaurants\", \"revenue\", \"revenue\", \"revenues\", \"rhode\", \"rhode island\", \"rob\", \"rob\", \"rob\", \"robert\", \"robert\", \"robert mujica\", \"rochelle\", \"rochelle\", \"rockland\", \"rockland\", \"rockland\", \"rolling\", \"rolling\", \"rolling\", \"rolling average\", \"rules\", \"rules\", \"rules\", \"rules\", \"rules\", \"rules\", \"sales\", \"save\", \"save\", \"save lives\", \"saying\", \"saying\", \"saying\", \"saying\", \"saying\", \"saying\", \"saying\", \"saying\", \"school\", \"school\", \"school\", \"school\", \"school\", \"school\", \"school\", \"schools\", \"schools\", \"schools\", \"schools\", \"schools\", \"schools\", \"schools\", \"schools\", \"second\", \"second\", \"second\", \"second\", \"second\", \"second\", \"second\", \"second\", \"second wave\", \"second wave\", \"second wave\", \"secretary\", \"secretary\", \"secretary governor\", \"sector\", \"shelter\", \"shelter\", \"shelter\", \"shelter place\", \"ship\", \"shortage\", \"sick\", \"sick\", \"sick\", \"sign\", \"sign\", \"sign\", \"sign\", \"sign\", \"silence\", \"silence\", \"silver\", \"silver lining\", \"situation\", \"situation\", \"situation\", \"situation\", \"situation\", \"situation\", \"situation\", \"situation\", \"sla\", \"sla\", \"smart\", \"smart\", \"smart\", \"smart\", \"smart\", \"smart united\", \"social\", \"social\", \"social\", \"social\", \"socially\", \"socially\", \"socially\", \"socially distance\", \"soon\", \"soon\", \"soon\", \"soon\", \"soon\", \"soon\", \"soon\", \"sorry\", \"sorry\", \"sorry\", \"sorry\", \"sorry\", \"sorry\", \"south korea\", \"speak\", \"speak\", \"speak\", \"speak\", \"speak\", \"speak\", \"spread\", \"spread\", \"spread\", \"spread\", \"spread\", \"spread\", \"stand\", \"stand\", \"start\", \"start\", \"start\", \"start\", \"start\", \"start\", \"start\", \"states\", \"states\", \"states\", \"states\", \"states\", \"states\", \"states\", \"states\", \"states\", \"stay\", \"stay\", \"stay\", \"stay\", \"stay\", \"stay\", \"stay\", \"stay feet\", \"stay home\", \"stay home\", \"stockpile\", \"stockpile\", \"stockpiles\", \"stores\", \"stores\", \"stores\", \"stores\", \"streets\", \"submit\", \"substance abuse\", \"subway\", \"subway\", \"subways\", \"subways\", \"suffolk\", \"suffolk\", \"suffolk\", \"summer camps\", \"sure\", \"sure\", \"sure\", \"sure\", \"sure\", \"sure\", \"sure\", \"sure\", \"surgery\", \"talk\", \"talk\", \"talk\", \"talk\", \"talk\", \"talk\", \"talk\", \"talk\", \"talking\", \"talking\", \"talking\", \"talking\", \"talking\", \"talking\", \"talking\", \"talking\", \"task\", \"task\", \"task\", \"task\", \"task force\", \"task force\", \"taxes\", \"taxes\", \"taxes\", \"tell\", \"tell\", \"tell\", \"tell\", \"tell\", \"tell\", \"tell\", \"tell\", \"temporary\", \"test\", \"test\", \"test\", \"test\", \"test\", \"test\", \"test kits\", \"tested\", \"tested\", \"tested\", \"tested\", \"tested\", \"tested\", \"testing\", \"testing\", \"testing\", \"testing\", \"testing\", \"testing testing\", \"testing tracing\", \"tests\", \"tests\", \"tests\", \"tests\", \"tests\", \"tests\", \"thoughts\", \"thoughts\", \"thoughts\", \"thoughts prayers\", \"time\", \"time\", \"time\", \"time\", \"time\", \"time\", \"time\", \"time\", \"time\", \"timeline\", \"timeline\", \"total\", \"total\", \"total\", \"total\", \"total\", \"total\", \"total hospitalizations\", \"tough\", \"tough\", \"tough\", \"tough\", \"tough smart\", \"trace\", \"tracing\", \"tracing\", \"tracing\", \"tracing\", \"train\", \"train\", \"train\", \"trains\", \"trains\", \"transit\", \"transit\", \"transit\", \"transit workers\", \"travel advisory\", \"travel ban\", \"traveler\", \"traveler program\", \"trusted\", \"trusted traveler\", \"underlying\", \"understand\", \"understand\", \"understand\", \"understand\", \"understand\", \"understand\", \"understand\", \"understand\", \"understand\", \"unemployment\", \"unemployment\", \"unemployment\", \"unemployment\", \"unemployment benefits\", \"unemployment insurance\", \"united disciplined\", \"use\", \"use\", \"use\", \"use\", \"use\", \"use\", \"use\", \"vaccines\", \"vaccines\", \"ventilator\", \"ventilator\", \"ventilator\", \"ventilators\", \"ventilators\", \"ventilators\", \"ventilators\", \"ventilators\", \"ventilators ventilators\", \"vice chairman\", \"visitors\", \"visitors\", \"vote\", \"vote\", \"vote\", \"voting\", \"wait\", \"wait\", \"wait\", \"wait\", \"wait\", \"wanted\", \"wanted\", \"wanted\", \"wanted\", \"wanted\", \"wanted\", \"wanted\", \"wanted\", \"wanted ask\", \"washington\", \"washington\", \"washington\", \"washington\", \"watch\", \"watch\", \"watch\", \"watch\", \"wave\", \"wave\", \"wave\", \"wave\", \"wear\", \"wear\", \"wear mask\", \"wear mask\", \"wearing\", \"wearing\", \"wearing mask\", \"website\", \"website\", \"website\", \"website\", \"website\", \"weeks\", \"weeks\", \"weeks\", \"weeks\", \"weeks\", \"weeks\", \"weeks\", \"westchester\", \"westchester\", \"westchester\", \"westchester\", \"westchester\", \"work\", \"work\", \"work\", \"work\", \"work\", \"work\", \"work\", \"work\", \"worker\", \"workers\", \"workers\", \"workers\", \"workers\", \"workers\", \"working\", \"working\", \"working\", \"working\", \"working\", \"working\", \"working\", \"years\", \"years\", \"years\", \"years\", \"years\", \"yesterday\", \"yesterday\", \"yesterday\", \"yesterday\", \"yesterday\", \"yesterday\", \"yesterday\", \"yesterday\", \"yesterday\", \"yorkers\", \"yorkers\", \"yorkers\", \"yorkers\", \"yorkers\", \"zip codes\", \"zucker\", \"zucker\", \"zucker\", \"zucker\"]}, \"R\": 30, \"lambda.step\": 0.01, \"plot.opts\": {\"xlab\": \"PC1\", \"ylab\": \"PC2\"}, \"topic.order\": [9, 5, 2, 7, 3, 4, 8, 1, 6]};\n",
       "\n",
       "function LDAvis_load_lib(url, callback){\n",
       "  var s = document.createElement('script');\n",
       "  s.src = url;\n",
       "  s.async = true;\n",
       "  s.onreadystatechange = s.onload = callback;\n",
       "  s.onerror = function(){console.warn(\"failed to load library \" + url);};\n",
       "  document.getElementsByTagName(\"head\")[0].appendChild(s);\n",
       "}\n",
       "\n",
       "if(typeof(LDAvis) !== \"undefined\"){\n",
       "   // already loaded: just create the visualization\n",
       "   !function(LDAvis){\n",
       "       new LDAvis(\"#\" + \"ldavis_el471481405274356779842718809433\", ldavis_el471481405274356779842718809433_data);\n",
       "   }(LDAvis);\n",
       "}else if(typeof define === \"function\" && define.amd){\n",
       "   // require.js is available: use it to load d3/LDAvis\n",
       "   require.config({paths: {d3: \"https://cdnjs.cloudflare.com/ajax/libs/d3/3.5.5/d3.min\"}});\n",
       "   require([\"d3\"], function(d3){\n",
       "      window.d3 = d3;\n",
       "      LDAvis_load_lib(\"https://cdn.rawgit.com/bmabey/pyLDAvis/files/ldavis.v1.0.0.js\", function(){\n",
       "        new LDAvis(\"#\" + \"ldavis_el471481405274356779842718809433\", ldavis_el471481405274356779842718809433_data);\n",
       "      });\n",
       "    });\n",
       "}else{\n",
       "    // require.js not available: dynamically load d3 & LDAvis\n",
       "    LDAvis_load_lib(\"https://cdnjs.cloudflare.com/ajax/libs/d3/3.5.5/d3.min.js\", function(){\n",
       "         LDAvis_load_lib(\"https://cdn.rawgit.com/bmabey/pyLDAvis/files/ldavis.v1.0.0.js\", function(){\n",
       "                 new LDAvis(\"#\" + \"ldavis_el471481405274356779842718809433\", ldavis_el471481405274356779842718809433_data);\n",
       "            })\n",
       "         });\n",
       "}\n",
       "</script>"
      ],
      "text/plain": [
       "PreparedData(topic_coordinates=              x         y  topics  cluster       Freq\n",
       "topic                                                \n",
       "8      0.033676  0.016549       1        1  23.574068\n",
       "4      0.089973 -0.096428       2        1  22.329608\n",
       "1      0.097088  0.022171       3        1  13.779723\n",
       "6      0.072790  0.097151       4        1   9.869769\n",
       "2      0.004177 -0.204226       5        1   7.459430\n",
       "3      0.073989  0.089739       6        1   6.858433\n",
       "7     -0.211269  0.009446       7        1   6.294401\n",
       "0     -0.051644  0.039196       8        1   5.526343\n",
       "5     -0.108780  0.026404       9        1   4.308225, topic_info=               Term        Freq       Total Category  logprob  loglift\n",
       "2780       question  143.000000  143.000000  Default  30.0000  30.0000\n",
       "1430       governor  191.000000  191.000000  Default  29.0000  29.0000\n",
       "2346        nursing   86.000000   86.000000  Default  28.0000  28.0000\n",
       "2788      questions   66.000000   66.000000  Default  27.0000  27.0000\n",
       "2348  nursing homes   53.000000   53.000000  Default  26.0000  26.0000\n",
       "...             ...         ...         ...      ...      ...      ...\n",
       "2425        outside    6.204336   19.909124   Topic9  -5.5128   1.9787\n",
       "418            care    6.910931   41.094037   Topic9  -5.4050   1.3619\n",
       "2373           open    7.140826   78.709494   Topic9  -5.3723   0.7447\n",
       "533          closed    6.340244   32.020465   Topic9  -5.4912   1.5252\n",
       "2225            mta    5.646363   21.536824   Topic9  -5.6071   1.8059\n",
       "\n",
       "[582 rows x 6 columns], token_table=      Topic      Freq        Term\n",
       "term                             \n",
       "4         7  0.920467    absentee\n",
       "6         1  0.206320  absolutely\n",
       "6         8  0.618960  absolutely\n",
       "8         8  0.753180       abuse\n",
       "46        4  0.151718    adequate\n",
       "...     ...       ...         ...\n",
       "3950      2  0.890964   zip codes\n",
       "3953      1  0.658731      zucker\n",
       "3953      2  0.138680      zucker\n",
       "3953      4  0.104010      zucker\n",
       "3953      6  0.069340      zucker\n",
       "\n",
       "[1594 rows x 3 columns], R=30, lambda_step=0.01, plot_opts={'xlab': 'PC1', 'ylab': 'PC2'}, topic_order=[9, 5, 2, 7, 3, 4, 8, 1, 6])"
      ]
     },
     "execution_count": 15,
     "metadata": {},
     "output_type": "execute_result"
    }
   ],
   "source": [
    "import pyLDAvis\n",
    "import pyLDAvis.sklearn\n",
    "pyLDAvis.enable_notebook()\n",
    "\n",
    "pyLDAvis.sklearn.prepare(lda_tfidf, dtm_tfidf, tfidf_vectorizer)"
   ]
  },
  {
   "cell_type": "code",
   "execution_count": null,
   "metadata": {},
   "outputs": [],
   "source": []
  }
 ],
 "metadata": {
  "kernelspec": {
   "display_name": "Python 3",
   "language": "python",
   "name": "python3"
  },
  "language_info": {
   "codemirror_mode": {
    "name": "ipython",
    "version": 3
   },
   "file_extension": ".py",
   "mimetype": "text/x-python",
   "name": "python",
   "nbconvert_exporter": "python",
   "pygments_lexer": "ipython3",
   "version": "3.8.3"
  }
 },
 "nbformat": 4,
 "nbformat_minor": 4
}
